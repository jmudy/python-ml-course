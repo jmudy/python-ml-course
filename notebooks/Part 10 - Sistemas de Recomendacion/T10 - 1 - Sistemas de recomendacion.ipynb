{
 "cells": [
  {
   "cell_type": "markdown",
   "id": "d7e02833-4661-4084-9993-1651dd16fd6d",
   "metadata": {},
   "source": [
    "# Sistemas de recomendación"
   ]
  },
  {
   "cell_type": "markdown",
   "id": "4d645dc1-ebec-4860-8d99-988dce37a822",
   "metadata": {},
   "source": [
    "## Carga de datos de MovieLens"
   ]
  },
  {
   "cell_type": "code",
   "execution_count": 1,
   "id": "1bc24ab1-f558-4019-af11-d059a869593a",
   "metadata": {},
   "outputs": [],
   "source": [
    "import pandas as pd\n",
    "import numpy as np"
   ]
  },
  {
   "cell_type": "code",
   "execution_count": 2,
   "id": "e9620067-baf1-42cd-a195-73a6a4afd743",
   "metadata": {},
   "outputs": [],
   "source": [
    "df = pd.read_csv(\"../../datasets/ml-100k/u.data.csv\", sep = \"\\t\", header = None)"
   ]
  },
  {
   "cell_type": "code",
   "execution_count": 3,
   "id": "8dd1914b-7a1d-4618-aa7c-a0ff6c1e9561",
   "metadata": {},
   "outputs": [
    {
     "data": {
      "text/plain": [
       "pandas.core.frame.DataFrame"
      ]
     },
     "execution_count": 3,
     "metadata": {},
     "output_type": "execute_result"
    }
   ],
   "source": [
    "type(df)"
   ]
  },
  {
   "cell_type": "code",
   "execution_count": 4,
   "id": "891a41fb-1011-42b8-b4a7-82b549c0f98e",
   "metadata": {},
   "outputs": [
    {
     "data": {
      "text/html": [
       "<div>\n",
       "<style scoped>\n",
       "    .dataframe tbody tr th:only-of-type {\n",
       "        vertical-align: middle;\n",
       "    }\n",
       "\n",
       "    .dataframe tbody tr th {\n",
       "        vertical-align: top;\n",
       "    }\n",
       "\n",
       "    .dataframe thead th {\n",
       "        text-align: right;\n",
       "    }\n",
       "</style>\n",
       "<table border=\"1\" class=\"dataframe\">\n",
       "  <thead>\n",
       "    <tr style=\"text-align: right;\">\n",
       "      <th></th>\n",
       "      <th>0</th>\n",
       "      <th>1</th>\n",
       "      <th>2</th>\n",
       "      <th>3</th>\n",
       "    </tr>\n",
       "  </thead>\n",
       "  <tbody>\n",
       "    <tr>\n",
       "      <th>0</th>\n",
       "      <td>196</td>\n",
       "      <td>242</td>\n",
       "      <td>3</td>\n",
       "      <td>881250949</td>\n",
       "    </tr>\n",
       "    <tr>\n",
       "      <th>1</th>\n",
       "      <td>186</td>\n",
       "      <td>302</td>\n",
       "      <td>3</td>\n",
       "      <td>891717742</td>\n",
       "    </tr>\n",
       "    <tr>\n",
       "      <th>2</th>\n",
       "      <td>22</td>\n",
       "      <td>377</td>\n",
       "      <td>1</td>\n",
       "      <td>878887116</td>\n",
       "    </tr>\n",
       "    <tr>\n",
       "      <th>3</th>\n",
       "      <td>244</td>\n",
       "      <td>51</td>\n",
       "      <td>2</td>\n",
       "      <td>880606923</td>\n",
       "    </tr>\n",
       "    <tr>\n",
       "      <th>4</th>\n",
       "      <td>166</td>\n",
       "      <td>346</td>\n",
       "      <td>1</td>\n",
       "      <td>886397596</td>\n",
       "    </tr>\n",
       "  </tbody>\n",
       "</table>\n",
       "</div>"
      ],
      "text/plain": [
       "     0    1  2          3\n",
       "0  196  242  3  881250949\n",
       "1  186  302  3  891717742\n",
       "2   22  377  1  878887116\n",
       "3  244   51  2  880606923\n",
       "4  166  346  1  886397596"
      ]
     },
     "execution_count": 4,
     "metadata": {},
     "output_type": "execute_result"
    }
   ],
   "source": [
    "df.head()"
   ]
  },
  {
   "cell_type": "code",
   "execution_count": 5,
   "id": "1579a566-e69c-47cf-8cf2-72b859399eed",
   "metadata": {},
   "outputs": [
    {
     "data": {
      "text/plain": [
       "(100000, 4)"
      ]
     },
     "execution_count": 5,
     "metadata": {},
     "output_type": "execute_result"
    }
   ],
   "source": [
    "df.shape"
   ]
  },
  {
   "cell_type": "code",
   "execution_count": 6,
   "id": "45c67a78-9374-4c72-8a36-67205161801f",
   "metadata": {},
   "outputs": [],
   "source": [
    "df.columns = [\"UserID\", \"ItemID\", \"Rating\", \"TimeStamp\"]"
   ]
  },
  {
   "cell_type": "code",
   "execution_count": 7,
   "id": "c3af37c5-251a-45ac-97a6-158c7a9504df",
   "metadata": {},
   "outputs": [
    {
     "data": {
      "text/html": [
       "<div>\n",
       "<style scoped>\n",
       "    .dataframe tbody tr th:only-of-type {\n",
       "        vertical-align: middle;\n",
       "    }\n",
       "\n",
       "    .dataframe tbody tr th {\n",
       "        vertical-align: top;\n",
       "    }\n",
       "\n",
       "    .dataframe thead th {\n",
       "        text-align: right;\n",
       "    }\n",
       "</style>\n",
       "<table border=\"1\" class=\"dataframe\">\n",
       "  <thead>\n",
       "    <tr style=\"text-align: right;\">\n",
       "      <th></th>\n",
       "      <th>UserID</th>\n",
       "      <th>ItemID</th>\n",
       "      <th>Rating</th>\n",
       "      <th>TimeStamp</th>\n",
       "    </tr>\n",
       "  </thead>\n",
       "  <tbody>\n",
       "    <tr>\n",
       "      <th>0</th>\n",
       "      <td>196</td>\n",
       "      <td>242</td>\n",
       "      <td>3</td>\n",
       "      <td>881250949</td>\n",
       "    </tr>\n",
       "    <tr>\n",
       "      <th>1</th>\n",
       "      <td>186</td>\n",
       "      <td>302</td>\n",
       "      <td>3</td>\n",
       "      <td>891717742</td>\n",
       "    </tr>\n",
       "    <tr>\n",
       "      <th>2</th>\n",
       "      <td>22</td>\n",
       "      <td>377</td>\n",
       "      <td>1</td>\n",
       "      <td>878887116</td>\n",
       "    </tr>\n",
       "    <tr>\n",
       "      <th>3</th>\n",
       "      <td>244</td>\n",
       "      <td>51</td>\n",
       "      <td>2</td>\n",
       "      <td>880606923</td>\n",
       "    </tr>\n",
       "    <tr>\n",
       "      <th>4</th>\n",
       "      <td>166</td>\n",
       "      <td>346</td>\n",
       "      <td>1</td>\n",
       "      <td>886397596</td>\n",
       "    </tr>\n",
       "  </tbody>\n",
       "</table>\n",
       "</div>"
      ],
      "text/plain": [
       "   UserID  ItemID  Rating  TimeStamp\n",
       "0     196     242       3  881250949\n",
       "1     186     302       3  891717742\n",
       "2      22     377       1  878887116\n",
       "3     244      51       2  880606923\n",
       "4     166     346       1  886397596"
      ]
     },
     "execution_count": 7,
     "metadata": {},
     "output_type": "execute_result"
    }
   ],
   "source": [
    "df.head()"
   ]
  },
  {
   "cell_type": "markdown",
   "id": "59a9d997-5d9e-44cd-ae1f-9f64b796c583",
   "metadata": {},
   "source": [
    "## Análisis exploratorio de los ítems"
   ]
  },
  {
   "cell_type": "code",
   "execution_count": 8,
   "id": "1039ed97-2d41-48bd-95c5-95896dd449b2",
   "metadata": {},
   "outputs": [],
   "source": [
    "import matplotlib.pyplot as plt"
   ]
  },
  {
   "cell_type": "code",
   "execution_count": 9,
   "id": "f192e77b-dd01-4e1d-a470-2442ded54872",
   "metadata": {},
   "outputs": [
    {
     "data": {
      "image/png": "[encoded data removed]",
      "text/plain": [
       "<Figure size 432x288 with 1 Axes>"
      ]
     },
     "metadata": {
      "needs_background": "light"
     },
     "output_type": "display_data"
    }
   ],
   "source": [
    "plt.hist(df.Rating)\n",
    "plt.show()"
   ]
  },
  {
   "cell_type": "code",
   "execution_count": 10,
   "id": "c0c30da4-feed-483f-81cf-8b03f631d6dc",
   "metadata": {},
   "outputs": [
    {
     "data": {
      "image/png": "[encoded data removed]",
      "text/plain": [
       "<Figure size 432x288 with 1 Axes>"
      ]
     },
     "metadata": {
      "needs_background": "light"
     },
     "output_type": "display_data"
    }
   ],
   "source": [
    "plt.hist(df.TimeStamp) # Tiempo desde el EPOCH\n",
    "plt.show()"
   ]
  },
  {
   "cell_type": "code",
   "execution_count": 11,
   "id": "e7381454-42e3-410e-8184-59c9c0c54ddf",
   "metadata": {},
   "outputs": [
    {
     "data": {
      "text/plain": [
       "Rating\n",
       "1     6110\n",
       "2    11370\n",
       "3    27145\n",
       "4    34174\n",
       "5    21201\n",
       "Name: UserID, dtype: int64"
      ]
     },
     "execution_count": 11,
     "metadata": {},
     "output_type": "execute_result"
    }
   ],
   "source": [
    "df.groupby([\"Rating\"])[\"UserID\"].count()"
   ]
  },
  {
   "cell_type": "code",
   "execution_count": 12,
   "id": "267f3624-c9f4-4bc6-b454-6712a15b7832",
   "metadata": {},
   "outputs": [
    {
     "data": {
      "image/png": "[encoded data removed]",
      "text/plain": [
       "<Figure size 432x288 with 1 Axes>"
      ]
     },
     "metadata": {
      "needs_background": "light"
     },
     "output_type": "display_data"
    }
   ],
   "source": [
    "plt.hist(df.groupby([\"ItemID\"])[\"ItemID\"].count())\n",
    "plt.show()"
   ]
  },
  {
   "cell_type": "markdown",
   "id": "f1f9bd18-7707-4efc-b2f1-23ed042975b3",
   "metadata": {},
   "source": [
    "## Representación en forma matricial"
   ]
  },
  {
   "cell_type": "code",
   "execution_count": 13,
   "id": "3054d131-2d17-41eb-9cc3-571572d1261a",
   "metadata": {},
   "outputs": [
    {
     "data": {
      "text/plain": [
       "943"
      ]
     },
     "execution_count": 13,
     "metadata": {},
     "output_type": "execute_result"
    }
   ],
   "source": [
    "n_users = df.UserID.unique().shape[0]\n",
    "n_users"
   ]
  },
  {
   "cell_type": "code",
   "execution_count": 14,
   "id": "9f570a6c-6c65-4c6b-9e24-4a25fb380507",
   "metadata": {},
   "outputs": [
    {
     "data": {
      "text/plain": [
       "1682"
      ]
     },
     "execution_count": 14,
     "metadata": {},
     "output_type": "execute_result"
    }
   ],
   "source": [
    "n_items = df.ItemID.unique().shape[0]\n",
    "n_items"
   ]
  },
  {
   "cell_type": "code",
   "execution_count": 15,
   "id": "45d52de0-f271-48fe-ae0e-24aa81f5710c",
   "metadata": {},
   "outputs": [],
   "source": [
    "ratings = np.zeros((n_users, n_items))"
   ]
  },
  {
   "cell_type": "code",
   "execution_count": 16,
   "id": "828cf825-4210-4765-a55d-45ef16f13080",
   "metadata": {},
   "outputs": [],
   "source": [
    "for row in df.itertuples():\n",
    "    ratings[row[1] - 1, row[2] - 1] = row[3]"
   ]
  },
  {
   "cell_type": "code",
   "execution_count": 17,
   "id": "e2c8397f-c565-4595-b11c-084604458700",
   "metadata": {},
   "outputs": [
    {
     "data": {
      "text/plain": [
       "numpy.ndarray"
      ]
     },
     "execution_count": 17,
     "metadata": {},
     "output_type": "execute_result"
    }
   ],
   "source": [
    "type(ratings)"
   ]
  },
  {
   "cell_type": "code",
   "execution_count": 18,
   "id": "4cbed4cc-3f2c-4049-b0a7-b36227f722ac",
   "metadata": {},
   "outputs": [
    {
     "data": {
      "text/plain": [
       "(943, 1682)"
      ]
     },
     "execution_count": 18,
     "metadata": {},
     "output_type": "execute_result"
    }
   ],
   "source": [
    "ratings.shape"
   ]
  },
  {
   "cell_type": "code",
   "execution_count": 19,
   "id": "1698eaa4-2c40-436b-91c0-20c3ba677931",
   "metadata": {},
   "outputs": [
    {
     "data": {
      "text/plain": [
       "array([[5., 3., 4., ..., 0., 0., 0.],\n",
       "       [4., 0., 0., ..., 0., 0., 0.],\n",
       "       [0., 0., 0., ..., 0., 0., 0.],\n",
       "       ...,\n",
       "       [5., 0., 0., ..., 0., 0., 0.],\n",
       "       [0., 0., 0., ..., 0., 0., 0.],\n",
       "       [0., 5., 0., ..., 0., 0., 0.]])"
      ]
     },
     "execution_count": 19,
     "metadata": {},
     "output_type": "execute_result"
    }
   ],
   "source": [
    "ratings"
   ]
  },
  {
   "cell_type": "code",
   "execution_count": 20,
   "id": "d3fb8a67-f77c-4a34-baad-d9980c7d5019",
   "metadata": {},
   "outputs": [
    {
     "name": "stdout",
     "output_type": "stream",
     "text": [
      "Coeficiente de sparseidad: 6.30%\n"
     ]
    }
   ],
   "source": [
    "sparsity = float(len(ratings.nonzero()[0]))\n",
    "sparsity /= (ratings.shape[0] * ratings.shape[1])\n",
    "sparsity *= 100\n",
    "print(\"Coeficiente de sparseidad: {:4.2f}%\".format(sparsity))"
   ]
  },
  {
   "cell_type": "markdown",
   "id": "7ca48b22-587c-4133-8702-84c65e6b1fd3",
   "metadata": {},
   "source": [
    "## Crear conjuntos de entrenamiento y validación"
   ]
  },
  {
   "cell_type": "code",
   "execution_count": 21,
   "id": "cc0cbde5-3ec2-4d6b-ac23-bfeb1851f088",
   "metadata": {},
   "outputs": [],
   "source": [
    "from sklearn.model_selection import train_test_split"
   ]
  },
  {
   "cell_type": "code",
   "execution_count": 22,
   "id": "739c37d7-2ccd-4c93-9b49-83a3eba155b7",
   "metadata": {},
   "outputs": [],
   "source": [
    "ratings_train, ratings_test = train_test_split(ratings, test_size=0.3, random_state=42)"
   ]
  },
  {
   "cell_type": "code",
   "execution_count": 23,
   "id": "fa449667-4c7a-426e-a4cc-35206a604edc",
   "metadata": {},
   "outputs": [
    {
     "data": {
      "text/plain": [
       "(660, 1682)"
      ]
     },
     "execution_count": 23,
     "metadata": {},
     "output_type": "execute_result"
    }
   ],
   "source": [
    "ratings_train.shape"
   ]
  },
  {
   "cell_type": "code",
   "execution_count": 24,
   "id": "6d9939ea-d421-436c-afd0-a71c46b75de1",
   "metadata": {},
   "outputs": [
    {
     "data": {
      "text/plain": [
       "(283, 1682)"
      ]
     },
     "execution_count": 24,
     "metadata": {},
     "output_type": "execute_result"
    }
   ],
   "source": [
    "ratings_test.shape"
   ]
  },
  {
   "cell_type": "markdown",
   "id": "ab5eb9af-a06a-4d21-827b-65a4e7dc6fd1",
   "metadata": {},
   "source": [
    "## Filtro colaborativo basado en Usuarios"
   ]
  },
  {
   "cell_type": "markdown",
   "id": "2f099416-bcdf-41f7-a67d-cea2e87755fe",
   "metadata": {},
   "source": [
    "* Matriz de similaridad entre los usuarios (distancia del coseno).\n",
    "* Predecir la valoración desconocida de un ítem *i* para un usuario activo *u* basándonos en la suma ponderaad de todas las valoraciones del resto de usuarios para dicho ítem.\n",
    "* Recomendaremos los nuevos ítems a los usuarios según lo establecido en los pasos anteriores."
   ]
  },
  {
   "cell_type": "code",
   "execution_count": 25,
   "id": "7ca753ce-6ddb-41fd-aeee-1f5560679433",
   "metadata": {},
   "outputs": [],
   "source": [
    "from sklearn.metrics.pairwise import cosine_distances"
   ]
  },
  {
   "cell_type": "code",
   "execution_count": 26,
   "id": "a73318bd-b0ac-4283-a23e-a6068ac7b40d",
   "metadata": {},
   "outputs": [],
   "source": [
    "sim_matrix = 1 - cosine_distances(ratings_train)"
   ]
  },
  {
   "cell_type": "code",
   "execution_count": 27,
   "id": "64ea2707-bdc0-4c49-be18-2743e7432aa5",
   "metadata": {},
   "outputs": [
    {
     "data": {
      "text/plain": [
       "numpy.ndarray"
      ]
     },
     "execution_count": 27,
     "metadata": {},
     "output_type": "execute_result"
    }
   ],
   "source": [
    "type(sim_matrix)"
   ]
  },
  {
   "cell_type": "code",
   "execution_count": 28,
   "id": "7cadf1e6-e04b-46ba-9264-8ec23b49e2ca",
   "metadata": {},
   "outputs": [
    {
     "data": {
      "text/plain": [
       "(660, 660)"
      ]
     },
     "execution_count": 28,
     "metadata": {},
     "output_type": "execute_result"
    }
   ],
   "source": [
    "sim_matrix.shape"
   ]
  },
  {
   "cell_type": "code",
   "execution_count": 29,
   "id": "2936136c-b928-4e67-9545-19d92d9d6ad5",
   "metadata": {},
   "outputs": [
    {
     "data": {
      "text/plain": [
       "array([[1.        , 0.17448349, 0.18009754, ..., 0.13331459, 0.17695593,\n",
       "        0.21882481],\n",
       "       [0.17448349, 1.        , 0.07993097, ..., 0.07175808, 0.09552622,\n",
       "        0.05512655],\n",
       "       [0.18009754, 0.07993097, 1.        , ..., 0.0191736 , 0.02233385,\n",
       "        0.10310785],\n",
       "       ...,\n",
       "       [0.13331459, 0.07175808, 0.0191736 , ..., 1.        , 0.04853428,\n",
       "        0.05142508],\n",
       "       [0.17695593, 0.09552622, 0.02233385, ..., 0.04853428, 1.        ,\n",
       "        0.1198022 ],\n",
       "       [0.21882481, 0.05512655, 0.10310785, ..., 0.05142508, 0.1198022 ,\n",
       "        1.        ]])"
      ]
     },
     "execution_count": 29,
     "metadata": {},
     "output_type": "execute_result"
    }
   ],
   "source": [
    "sim_matrix"
   ]
  },
  {
   "cell_type": "code",
   "execution_count": 30,
   "id": "e8782945-e34f-4ed2-bba4-36cd990ffd20",
   "metadata": {},
   "outputs": [],
   "source": [
    "users_predictions = sim_matrix.dot(ratings_train) / np.array([np.abs(sim_matrix).sum(axis=1)]).T"
   ]
  },
  {
   "cell_type": "code",
   "execution_count": 31,
   "id": "efb5276e-24f0-46c0-9666-5c1ef0054262",
   "metadata": {},
   "outputs": [
    {
     "data": {
      "text/plain": [
       "array([[2.10259747e+00, 5.86975978e-01, 3.40264192e-01, ...,\n",
       "        0.00000000e+00, 7.33611460e-03, 6.04379414e-03],\n",
       "       [1.40999723e+00, 2.91863934e-01, 2.68085289e-01, ...,\n",
       "        0.00000000e+00, 3.50378592e-03, 2.32963985e-03],\n",
       "       [1.69014833e+00, 3.13648440e-01, 3.26127887e-01, ...,\n",
       "        0.00000000e+00, 3.25391767e-03, 1.77210119e-03],\n",
       "       ...,\n",
       "       [1.73393747e+00, 4.06719333e-01, 3.21166908e-01, ...,\n",
       "        0.00000000e+00, 2.71269625e-03, 9.00511411e-03],\n",
       "       [2.34361031e+00, 8.10544770e-01, 4.73941025e-01, ...,\n",
       "        0.00000000e+00, 1.01130066e-02, 9.66427605e-03],\n",
       "       [2.36796969e+00, 5.98146138e-01, 3.85569804e-01, ...,\n",
       "        0.00000000e+00, 6.39996638e-03, 5.37442746e-03]])"
      ]
     },
     "execution_count": 31,
     "metadata": {},
     "output_type": "execute_result"
    }
   ],
   "source": [
    "users_predictions"
   ]
  },
  {
   "cell_type": "code",
   "execution_count": 32,
   "id": "f85e0295-a2ce-4c67-8bb8-916e651be2b3",
   "metadata": {},
   "outputs": [
    {
     "data": {
      "text/plain": [
       "(660, 1682)"
      ]
     },
     "execution_count": 32,
     "metadata": {},
     "output_type": "execute_result"
    }
   ],
   "source": [
    "users_predictions.shape"
   ]
  },
  {
   "cell_type": "code",
   "execution_count": 33,
   "id": "971f5746-1252-4b20-8392-a5afea53bb30",
   "metadata": {},
   "outputs": [],
   "source": [
    "from sklearn.metrics import mean_squared_error"
   ]
  },
  {
   "cell_type": "code",
   "execution_count": 34,
   "id": "257c1d3e-78dd-4701-ac4d-3fd8520abf62",
   "metadata": {},
   "outputs": [],
   "source": [
    "def get_mse(preds, actuals):\n",
    "    if preds.shape[0] != actuals.shape[0]:\n",
    "        actuals = actuals.T\n",
    "    preds = preds[actuals.nonzero()].flatten()\n",
    "    actuals = actuals[actuals.nonzero()].flatten()\n",
    "    return mean_squared_error(preds, actuals)"
   ]
  },
  {
   "cell_type": "code",
   "execution_count": 35,
   "id": "99ab9d73-5db3-4e0c-a2fe-dd877d8c37de",
   "metadata": {},
   "outputs": [
    {
     "data": {
      "text/plain": [
       "7.878218313143215"
      ]
     },
     "execution_count": 35,
     "metadata": {},
     "output_type": "execute_result"
    }
   ],
   "source": [
    "get_mse(users_predictions, ratings_train)"
   ]
  },
  {
   "cell_type": "code",
   "execution_count": 36,
   "id": "3b55b1c1-13db-4c8a-a903-4535af2de9a8",
   "metadata": {},
   "outputs": [
    {
     "data": {
      "text/plain": [
       "7.51355110112698"
      ]
     },
     "execution_count": 36,
     "metadata": {},
     "output_type": "execute_result"
    }
   ],
   "source": [
    "sim_matrix = 1 - cosine_distances(ratings_test)\n",
    "users_predictions = sim_matrix.dot(ratings_test) / np.array([np.abs(sim_matrix).sum(axis=1)]).T\n",
    "get_mse(users_predictions, ratings_test)"
   ]
  },
  {
   "cell_type": "markdown",
   "id": "8d444969-3663-42e6-90bb-4f971fe2c276",
   "metadata": {},
   "source": [
    "## Filtro colaborativo basado en los KNN"
   ]
  },
  {
   "cell_type": "code",
   "execution_count": 37,
   "id": "4794f787-efc1-4250-b659-8e6e178b02c7",
   "metadata": {},
   "outputs": [],
   "source": [
    "from sklearn.neighbors import NearestNeighbors"
   ]
  },
  {
   "cell_type": "code",
   "execution_count": 38,
   "id": "252f82b4-ca5a-4491-a5a4-6ca7e484306b",
   "metadata": {},
   "outputs": [],
   "source": [
    "k = 5"
   ]
  },
  {
   "cell_type": "code",
   "execution_count": 39,
   "id": "2294d9b4-9b62-4395-8cd1-163ddc3b59ae",
   "metadata": {},
   "outputs": [],
   "source": [
    "neighbors = NearestNeighbors(n_neighbors=k, metric='cosine')"
   ]
  },
  {
   "cell_type": "code",
   "execution_count": 40,
   "id": "d43fa824-6ecd-4432-aa63-edc64e446038",
   "metadata": {},
   "outputs": [
    {
     "data": {
      "text/plain": [
       "NearestNeighbors(metric='cosine')"
      ]
     },
     "execution_count": 40,
     "metadata": {},
     "output_type": "execute_result"
    }
   ],
   "source": [
    "neighbors.fit(ratings_train)"
   ]
  },
  {
   "cell_type": "code",
   "execution_count": 41,
   "id": "ad59dffe-0f16-439d-969d-555418c1f26c",
   "metadata": {},
   "outputs": [],
   "source": [
    "top_k_distances, top_k_users = neighbors.kneighbors(ratings_train, return_distance=True)"
   ]
  },
  {
   "cell_type": "code",
   "execution_count": 42,
   "id": "5b80909b-a786-4c2c-ac63-8929d7ffd827",
   "metadata": {},
   "outputs": [
    {
     "data": {
      "text/plain": [
       "(660, 5)"
      ]
     },
     "execution_count": 42,
     "metadata": {},
     "output_type": "execute_result"
    }
   ],
   "source": [
    "top_k_distances.shape"
   ]
  },
  {
   "cell_type": "code",
   "execution_count": 43,
   "id": "42d8c132-8176-49c0-98a4-ae0ce60c0b87",
   "metadata": {},
   "outputs": [
    {
     "data": {
      "text/plain": [
       "(660, 5)"
      ]
     },
     "execution_count": 43,
     "metadata": {},
     "output_type": "execute_result"
    }
   ],
   "source": [
    "top_k_users.shape"
   ]
  },
  {
   "cell_type": "code",
   "execution_count": 44,
   "id": "311672ba-6d87-4a95-9358-d4d486e9d54d",
   "metadata": {},
   "outputs": [
    {
     "data": {
      "text/plain": [
       "array([0.        , 0.49780748, 0.55784838, 0.56965585, 0.57163621])"
      ]
     },
     "execution_count": 44,
     "metadata": {},
     "output_type": "execute_result"
    }
   ],
   "source": [
    "top_k_distances[0]"
   ]
  },
  {
   "cell_type": "code",
   "execution_count": 45,
   "id": "607b9363-586b-4fbc-802d-2f7778ee82e9",
   "metadata": {},
   "outputs": [
    {
     "data": {
      "text/plain": [
       "array([  0, 211,  16, 185, 101], dtype=int64)"
      ]
     },
     "execution_count": 45,
     "metadata": {},
     "output_type": "execute_result"
    }
   ],
   "source": [
    "top_k_users[0]"
   ]
  },
  {
   "cell_type": "code",
   "execution_count": 46,
   "id": "4ec9265b-13f3-4daf-8888-6758bb92000d",
   "metadata": {},
   "outputs": [],
   "source": [
    "users_predicts_k = np.zeros(ratings_train.shape)\n",
    "for i in range(ratings_train.shape[0]): # para cada usuario del conjunto de entrenamiento\n",
    "    users_predicts_k[i, :] = top_k_distances[i].T.dot(ratings_train[top_k_users][i]) / \\\n",
    "    np.array([np.abs(top_k_distances[i].T).sum(axis=0)]).T"
   ]
  },
  {
   "cell_type": "code",
   "execution_count": 47,
   "id": "e55270df-06d8-448b-bc9f-28177e6689de",
   "metadata": {},
   "outputs": [
    {
     "data": {
      "text/plain": [
       "(660, 1682)"
      ]
     },
     "execution_count": 47,
     "metadata": {},
     "output_type": "execute_result"
    }
   ],
   "source": [
    "users_predicts_k.shape"
   ]
  },
  {
   "cell_type": "code",
   "execution_count": 48,
   "id": "54937913-b5a7-4c2e-ac87-d38b4c5956ac",
   "metadata": {},
   "outputs": [
    {
     "data": {
      "text/plain": [
       "array([[0.        , 0.        , 0.        , ..., 0.        , 0.        ,\n",
       "        0.        ],\n",
       "       [0.        , 0.        , 0.        , ..., 0.        , 0.        ,\n",
       "        0.        ],\n",
       "       [0.        , 0.        , 0.        , ..., 0.        , 0.        ,\n",
       "        0.        ],\n",
       "       ...,\n",
       "       [0.        , 0.        , 0.        , ..., 0.        , 0.        ,\n",
       "        0.        ],\n",
       "       [3.73945823, 2.48622549, 1.76969702, ..., 0.        , 0.        ,\n",
       "        0.        ],\n",
       "       [1.95357502, 0.        , 0.        , ..., 0.        , 0.        ,\n",
       "        0.        ]])"
      ]
     },
     "execution_count": 48,
     "metadata": {},
     "output_type": "execute_result"
    }
   ],
   "source": [
    "users_predicts_k"
   ]
  },
  {
   "cell_type": "code",
   "execution_count": 49,
   "id": "3aeedc6e-33d9-48f0-a7cc-47121ea49959",
   "metadata": {},
   "outputs": [
    {
     "data": {
      "text/plain": [
       "4.393656116706791"
      ]
     },
     "execution_count": 49,
     "metadata": {},
     "output_type": "execute_result"
    }
   ],
   "source": [
    "get_mse(users_predicts_k, ratings_train)"
   ]
  },
  {
   "cell_type": "code",
   "execution_count": 50,
   "id": "df94b8da-fda4-440d-af15-87849a543924",
   "metadata": {},
   "outputs": [
    {
     "data": {
      "text/plain": [
       "4.426766564976082"
      ]
     },
     "execution_count": 50,
     "metadata": {},
     "output_type": "execute_result"
    }
   ],
   "source": [
    "neighbors.fit(ratings_test)\n",
    "top_k_distances, top_k_users = neighbors.kneighbors(ratings_test, return_distance=True)\n",
    "users_predicts_k = np.zeros(ratings_test.shape)\n",
    "for i in range(ratings_test.shape[0]): # para cada usuario del conjunto de test\n",
    "    users_predicts_k[i, :] = top_k_distances[i].T.dot(ratings_test[top_k_users][i]) / \\\n",
    "    np.array([np.abs(top_k_distances[i].T).sum(axis=0)]).T\n",
    "\n",
    "get_mse(users_predicts_k, ratings_test)"
   ]
  },
  {
   "cell_type": "markdown",
   "id": "1bdcbc40-5523-4369-bcff-6ba20434821d",
   "metadata": {},
   "source": [
    "## Filtro colaborativo basado en Items"
   ]
  },
  {
   "cell_type": "code",
   "execution_count": 51,
   "id": "4f756eeb-d7e4-4a78-b0b0-2ce3b1e7abd4",
   "metadata": {},
   "outputs": [
    {
     "data": {
      "text/plain": [
       "1682"
      ]
     },
     "execution_count": 51,
     "metadata": {},
     "output_type": "execute_result"
    }
   ],
   "source": [
    "n_movies = ratings_train.shape[1]\n",
    "n_movies"
   ]
  },
  {
   "cell_type": "code",
   "execution_count": 52,
   "id": "fdcc1e3d-606f-4091-b680-f41d52927cac",
   "metadata": {},
   "outputs": [],
   "source": [
    "neighbors = NearestNeighbors(n_neighbors=n_movies, metric='cosine')"
   ]
  },
  {
   "cell_type": "code",
   "execution_count": 53,
   "id": "79bac503-13db-4b2c-ba39-3eb6efb226eb",
   "metadata": {},
   "outputs": [
    {
     "data": {
      "text/plain": [
       "NearestNeighbors(metric='cosine', n_neighbors=1682)"
      ]
     },
     "execution_count": 53,
     "metadata": {},
     "output_type": "execute_result"
    }
   ],
   "source": [
    "neighbors.fit(ratings_train.T)"
   ]
  },
  {
   "cell_type": "code",
   "execution_count": 54,
   "id": "27541a07-2e56-47fd-aeac-b7e944164379",
   "metadata": {},
   "outputs": [],
   "source": [
    "top_k_distances, top_k_items = neighbors.kneighbors(ratings_train.T, return_distance=True)"
   ]
  },
  {
   "cell_type": "code",
   "execution_count": 55,
   "id": "bd24d236-81e1-4c4b-a02c-df9afe7f6d5d",
   "metadata": {},
   "outputs": [
    {
     "data": {
      "text/plain": [
       "(1682, 1682)"
      ]
     },
     "execution_count": 55,
     "metadata": {},
     "output_type": "execute_result"
    }
   ],
   "source": [
    "top_k_distances.shape"
   ]
  },
  {
   "cell_type": "code",
   "execution_count": 56,
   "id": "286eca47-1f6c-4e40-9efc-2436ab97f1f1",
   "metadata": {},
   "outputs": [
    {
     "data": {
      "text/plain": [
       "(1682, 1682)"
      ]
     },
     "execution_count": 56,
     "metadata": {},
     "output_type": "execute_result"
    }
   ],
   "source": [
    "top_k_items.shape"
   ]
  },
  {
   "cell_type": "code",
   "execution_count": 57,
   "id": "5d2aaf1c-83c8-4b26-87b1-1408dc282325",
   "metadata": {},
   "outputs": [
    {
     "data": {
      "text/plain": [
       "array([[   0,   49,  180, ..., 1589, 1602, 1679],\n",
       "       [   1,  232,  160, ..., 1323, 1338, 1679],\n",
       "       [   2,  762,  409, ..., 1433, 1103, 1680],\n",
       "       ...,\n",
       "       [   0, 1127, 1126, ...,  553,  577, 1681],\n",
       "       [1671, 1680, 1422, ...,  735,  747, 1681],\n",
       "       [1681, 1596,  766, ...,  700,  715, 1680]], dtype=int64)"
      ]
     },
     "execution_count": 57,
     "metadata": {},
     "output_type": "execute_result"
    }
   ],
   "source": [
    "top_k_items"
   ]
  },
  {
   "cell_type": "code",
   "execution_count": 58,
   "id": "a3303339-c5a2-4465-9fa2-6d217e4635d0",
   "metadata": {},
   "outputs": [],
   "source": [
    "item_preds = ratings_train.dot(top_k_distances) / np.array([np.abs(top_k_distances).sum(axis=1)])"
   ]
  },
  {
   "cell_type": "code",
   "execution_count": 59,
   "id": "e8bcdc05-969b-4cd8-b3cd-48ce59a7ee26",
   "metadata": {},
   "outputs": [
    {
     "data": {
      "text/plain": [
       "(660, 1682)"
      ]
     },
     "execution_count": 59,
     "metadata": {},
     "output_type": "execute_result"
    }
   ],
   "source": [
    "item_preds.shape"
   ]
  },
  {
   "cell_type": "code",
   "execution_count": 60,
   "id": "708bfae4-10cb-4e74-8a45-0138d1c35e9d",
   "metadata": {},
   "outputs": [
    {
     "data": {
      "text/plain": [
       "array([[5.21189682e-17, 1.81491881e-01, 1.84975068e-01, ...,\n",
       "        3.53151011e-01, 3.61714398e-01, 3.61072723e-01],\n",
       "       [1.53054157e-17, 2.76845163e-02, 2.75479698e-02, ...,\n",
       "        4.81569560e-02, 4.93246906e-02, 4.92371895e-02],\n",
       "       [1.27276615e-17, 2.56853867e-02, 2.68507499e-02, ...,\n",
       "        4.45897741e-02, 4.56710098e-02, 4.55899903e-02],\n",
       "       ...,\n",
       "       [1.03915717e-17, 6.34395655e-02, 6.23832360e-02, ...,\n",
       "        1.02259215e-01, 1.04738849e-01, 1.04553044e-01],\n",
       "       [4.18079513e-17, 1.67722238e-01, 1.68514946e-01, ...,\n",
       "        3.23424495e-01, 3.31267058e-01, 3.30679396e-01],\n",
       "       [1.91720470e-17, 2.52640159e-02, 2.61251908e-02, ...,\n",
       "        6.24256837e-02, 6.39394137e-02, 6.38259864e-02]])"
      ]
     },
     "execution_count": 60,
     "metadata": {},
     "output_type": "execute_result"
    }
   ],
   "source": [
    "item_preds"
   ]
  },
  {
   "cell_type": "code",
   "execution_count": 61,
   "id": "6ffe3901-aa6c-4395-90d9-3bd9f9b2f388",
   "metadata": {},
   "outputs": [
    {
     "data": {
      "text/plain": [
       "11.460962134170675"
      ]
     },
     "execution_count": 61,
     "metadata": {},
     "output_type": "execute_result"
    }
   ],
   "source": [
    "get_mse(item_preds, ratings_train)"
   ]
  },
  {
   "cell_type": "code",
   "execution_count": 62,
   "id": "e6238905-26a4-4f17-86db-b677ef1ff5a0",
   "metadata": {},
   "outputs": [
    {
     "data": {
      "text/plain": [
       "11.246027979340079"
      ]
     },
     "execution_count": 62,
     "metadata": {},
     "output_type": "execute_result"
    }
   ],
   "source": [
    "neighbors.fit(ratings_test.T)\n",
    "top_k_distances, top_k_items = neighbors.kneighbors(ratings_test.T, return_distance=True)\n",
    "item_preds = ratings_test.dot(top_k_distances) / np.array([np.abs(top_k_distances).sum(axis=1)])\n",
    "get_mse(item_preds, ratings_test)"
   ]
  },
  {
   "cell_type": "markdown",
   "id": "40480fb3-f2da-460b-ae56-1bab94d0f5da",
   "metadata": {},
   "source": [
    "## Filtrado colaborativo basado en KNN"
   ]
  },
  {
   "cell_type": "code",
   "execution_count": 63,
   "id": "ed41949a-c8dd-4416-b967-8c6d67b0699b",
   "metadata": {},
   "outputs": [],
   "source": [
    "k = 30\n",
    "neighbors = NearestNeighbors(n_neighbors=k, metric='cosine')\n",
    "neighbors.fit(ratings_train.T)\n",
    "top_k_distances, top_k_items = neighbors.kneighbors(ratings_train.T, return_distance=True)"
   ]
  },
  {
   "cell_type": "code",
   "execution_count": 64,
   "id": "bd8b0519-f2f5-455b-a1c4-63ea79dd08bf",
   "metadata": {},
   "outputs": [
    {
     "data": {
      "text/plain": [
       "array([  0,  49, 180, 120, 116, 404,   6, 221,  99, 173, 150, 236,  27,\n",
       "       171, 117, 256, 203,  78, 741,  94,  97,  68, 209, 124,  81,  24,\n",
       "       167, 172, 227,  14], dtype=int64)"
      ]
     },
     "execution_count": 64,
     "metadata": {},
     "output_type": "execute_result"
    }
   ],
   "source": [
    "top_k_items[0]"
   ]
  },
  {
   "cell_type": "code",
   "execution_count": 65,
   "id": "b5723032-7fd3-4eab-b00e-7102e4f3b11e",
   "metadata": {},
   "outputs": [
    {
     "data": {
      "text/plain": [
       "array([0.        , 0.27629809, 0.30113328, 0.30472713, 0.3403217 ,\n",
       "       0.34726332, 0.35536283, 0.35721264, 0.36136105, 0.36866657,\n",
       "       0.37329885, 0.38428119, 0.39574721, 0.39737686, 0.40014911,\n",
       "       0.40072802, 0.40161383, 0.40352935, 0.40451002, 0.41645588,\n",
       "       0.42143241, 0.42475747, 0.42654625, 0.42764277, 0.42852725,\n",
       "       0.43039718, 0.430995  , 0.43390098, 0.4349473 , 0.4355882 ])"
      ]
     },
     "execution_count": 65,
     "metadata": {},
     "output_type": "execute_result"
    }
   ],
   "source": [
    "top_k_distances[0]"
   ]
  },
  {
   "cell_type": "code",
   "execution_count": 66,
   "id": "79ce3c06-d184-4cf8-a1bc-2a89313414ce",
   "metadata": {},
   "outputs": [
    {
     "name": "stdout",
     "output_type": "stream",
     "text": [
      "iter 0\n",
      "iter 50\n",
      "iter 100\n",
      "iter 150\n",
      "iter 200\n",
      "iter 250\n",
      "iter 300\n",
      "iter 350\n",
      "iter 400\n",
      "iter 450\n",
      "iter 500\n",
      "iter 550\n",
      "iter 600\n",
      "iter 650\n",
      "iter 700\n",
      "iter 750\n",
      "iter 800\n",
      "iter 850\n",
      "iter 900\n",
      "iter 950\n",
      "iter 1000\n",
      "iter 1050\n",
      "iter 1100\n",
      "iter 1150\n",
      "iter 1200\n",
      "iter 1250\n",
      "iter 1300\n",
      "iter 1350\n",
      "iter 1400\n",
      "iter 1450\n",
      "iter 1500\n",
      "iter 1550\n",
      "iter 1600\n",
      "iter 1650\n"
     ]
    }
   ],
   "source": [
    "preds = np.zeros(ratings_train.T.shape)\n",
    "for i in range(ratings_train.T.shape[0]):\n",
    "    if(i%50==0):\n",
    "        print(\"iter \"+str(i))\n",
    "    den = 1\n",
    "    if (np.abs(top_k_distances[i]).sum(axis=0)>0):\n",
    "        den = np.abs(top_k_distances[i]).sum(axis=0)\n",
    "    preds[i, :] = top_k_distances[i].dot(ratings_train.T[top_k_items][i])/np.array([den]).T"
   ]
  },
  {
   "cell_type": "code",
   "execution_count": 67,
   "id": "760644ab-2e37-4768-b557-9b2fb4079545",
   "metadata": {},
   "outputs": [
    {
     "data": {
      "text/plain": [
       "3.741306021148668"
      ]
     },
     "execution_count": 67,
     "metadata": {},
     "output_type": "execute_result"
    }
   ],
   "source": [
    "get_mse(preds, ratings_train)"
   ]
  },
  {
   "cell_type": "code",
   "execution_count": 68,
   "id": "50c52e01-aa72-4fcd-9303-f8e90b42e22a",
   "metadata": {},
   "outputs": [
    {
     "data": {
      "text/plain": [
       "8.639650337967288"
      ]
     },
     "execution_count": 68,
     "metadata": {},
     "output_type": "execute_result"
    }
   ],
   "source": [
    "get_mse(preds, ratings_test)"
   ]
  }
 ],
 "metadata": {
  "kernelspec": {
   "display_name": "Python 3 (ipykernel)",
   "language": "python",
   "name": "python3"
  },
  "language_info": {
   "codemirror_mode": {
    "name": "ipython",
    "version": 3
   },
   "file_extension": ".py",
   "mimetype": "text/x-python",
   "name": "python",
   "nbconvert_exporter": "python",
   "pygments_lexer": "ipython3",
   "version": "3.7.13"
  }
 },
 "nbformat": 4,
 "nbformat_minor": 5
}
