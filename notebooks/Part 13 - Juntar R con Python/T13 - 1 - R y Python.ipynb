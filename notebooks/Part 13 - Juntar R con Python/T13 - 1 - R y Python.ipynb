{
 "cells": [
  {
   "cell_type": "markdown",
   "id": "64ab0e30-d67e-4f16-84a8-ea1c0f3c227d",
   "metadata": {},
   "source": [
    "# Juntando R y Python"
   ]
  },
  {
   "cell_type": "code",
   "execution_count": 1,
   "id": "49b630ca-6d29-4f32-873a-6d22a099c3c8",
   "metadata": {},
   "outputs": [],
   "source": [
    "import pandas as pd\n",
    "import numpy as np\n",
    "import matplotlib.pyplot as plt"
   ]
  },
  {
   "cell_type": "code",
   "execution_count": 2,
   "id": "64666447-77bb-429a-9b5c-473fd17fc9a8",
   "metadata": {},
   "outputs": [],
   "source": [
    "import rpy2.robjects as ro\n",
    "import rpy2.robjects.numpy2ri"
   ]
  },
  {
   "cell_type": "code",
   "execution_count": 3,
   "id": "bbc2d2f9-56b3-41d1-b53b-f16e01dc6c27",
   "metadata": {},
   "outputs": [],
   "source": [
    "rpy2.robjects.numpy2ri.activate()"
   ]
  },
  {
   "cell_type": "code",
   "execution_count": 4,
   "id": "90abe81a-1ece-4189-aefd-78c6c6d03829",
   "metadata": {},
   "outputs": [],
   "source": [
    "codigo_r = \"\"\"\n",
    "saludar <- function(cadena){\n",
    "    return(paste(\"Hola, \", cadena))\n",
    "}\n",
    "\"\"\""
   ]
  },
  {
   "cell_type": "code",
   "execution_count": 5,
   "id": "cf7c02b5-c841-452c-bab6-0de07fc0e258",
   "metadata": {},
   "outputs": [
    {
     "data": {
      "text/plain": [
       "<rpy2.robjects.functions.SignatureTranslatedFunction object at 0x0000022221BEBC88> [RTYPES.CLOSXP]\n",
       "R classes: ('function',)"
      ]
     },
     "execution_count": 5,
     "metadata": {},
     "output_type": "execute_result"
    }
   ],
   "source": [
    "ro.r(codigo_r)"
   ]
  },
  {
   "cell_type": "code",
   "execution_count": 6,
   "id": "1219bdd2-ade6-4a3c-8944-7cdecbbf55ea",
   "metadata": {},
   "outputs": [],
   "source": [
    "saludar_py = ro.globalenv[\"saludar\"]"
   ]
  },
  {
   "cell_type": "code",
   "execution_count": 7,
   "id": "46f50866-e380-46e3-b659-8d05d730d8ad",
   "metadata": {},
   "outputs": [
    {
     "data": {
      "text/html": [
       "\n",
       "        <span>StrVector with 1 elements.</span>\n",
       "        <table>\n",
       "        <tbody>\n",
       "          <tr>\n",
       "          \n",
       "            <td>\n",
       "            'Hola,  Antonio Banderas'\n",
       "            </td>\n",
       "          \n",
       "          </tr>\n",
       "        </tbody>\n",
       "        </table>\n",
       "        "
      ],
      "text/plain": [
       "<rpy2.robjects.vectors.StrVector object at 0x00000222261EBE88> [RTYPES.STRSXP]\n",
       "R classes: ('character',)\n",
       "['Hola,  Antonio Banderas']"
      ]
     },
     "execution_count": 7,
     "metadata": {},
     "output_type": "execute_result"
    }
   ],
   "source": [
    "res = saludar_py(\"Antonio Banderas\")\n",
    "res"
   ]
  },
  {
   "cell_type": "code",
   "execution_count": 8,
   "id": "0bbf9a34-5eee-41c0-8866-86f110207b97",
   "metadata": {},
   "outputs": [
    {
     "data": {
      "text/plain": [
       "rpy2.robjects.vectors.StrVector"
      ]
     },
     "execution_count": 8,
     "metadata": {},
     "output_type": "execute_result"
    }
   ],
   "source": [
    "type(res)"
   ]
  },
  {
   "cell_type": "code",
   "execution_count": 9,
   "id": "a44857b7-7073-4c0a-b328-1a20ba964d07",
   "metadata": {},
   "outputs": [
    {
     "name": "stdout",
     "output_type": "stream",
     "text": [
      "function (cadena) \n",
      "{\n",
      "    return(paste(\"Hola, \", cadena))\n",
      "}\n"
     ]
    }
   ],
   "source": [
    "print(saludar_py.r_repr())"
   ]
  },
  {
   "cell_type": "code",
   "execution_count": 10,
   "id": "6c1d2bc1-15b1-4c43-b97a-843711aeaacb",
   "metadata": {},
   "outputs": [],
   "source": [
    "var_from_python = ro.FloatVector(np.arange(1, 5, 0.1))"
   ]
  },
  {
   "cell_type": "code",
   "execution_count": 11,
   "id": "62eb5a85-8563-4856-841e-c75e0670b8cf",
   "metadata": {},
   "outputs": [
    {
     "data": {
      "text/html": [
       "\n",
       "        <span>FloatVector with 40 elements.</span>\n",
       "        <table>\n",
       "        <tbody>\n",
       "          <tr>\n",
       "          \n",
       "            <td>\n",
       "            1.000000\n",
       "            </td>\n",
       "          \n",
       "            <td>\n",
       "            1.100000\n",
       "            </td>\n",
       "          \n",
       "            <td>\n",
       "            1.200000\n",
       "            </td>\n",
       "          \n",
       "            <td>\n",
       "            ...\n",
       "            </td>\n",
       "          \n",
       "            <td>\n",
       "            4.700000\n",
       "            </td>\n",
       "          \n",
       "            <td>\n",
       "            4.800000\n",
       "            </td>\n",
       "          \n",
       "            <td>\n",
       "            4.900000\n",
       "            </td>\n",
       "          \n",
       "          </tr>\n",
       "        </tbody>\n",
       "        </table>\n",
       "        "
      ],
      "text/plain": [
       "<rpy2.robjects.vectors.FloatVector object at 0x000002222621A088> [RTYPES.REALSXP]\n",
       "R classes: ('numeric',)\n",
       "[1.000000, 1.100000, 1.200000, 1.300000, ..., 4.600000, 4.700000, 4.800000, 4.900000]"
      ]
     },
     "execution_count": 11,
     "metadata": {},
     "output_type": "execute_result"
    }
   ],
   "source": [
    "var_from_python"
   ]
  },
  {
   "cell_type": "code",
   "execution_count": 12,
   "id": "713b70a7-3860-408a-8947-2c005b3f3b37",
   "metadata": {},
   "outputs": [
    {
     "name": "stdout",
     "output_type": "stream",
     "text": [
      "c(1, 1.1, 1.2, 1.3, 1.4, 1.5, 1.6, 1.7, 1.8, 1.9, 2, 2.1, 2.2, \n",
      "2.3, 2.4, 2.5, 2.6, 2.7, 2.8, 2.9, 3, 3.1, 3.2, 3.3, 3.4, 3.5, \n",
      "3.6, 3.7, 3.8, 3.9, 4, 4.1, 4.2, 4.3, 4.4, 4.5, 4.6, 4.7, 4.8, \n",
      "4.9)\n"
     ]
    }
   ],
   "source": [
    "print(var_from_python.r_repr())"
   ]
  },
  {
   "cell_type": "code",
   "execution_count": 13,
   "id": "74d7612f-feec-4ed8-8a58-a5110118f06a",
   "metadata": {},
   "outputs": [],
   "source": [
    "ro.globalenv[\"var_to_r\"] = var_from_python"
   ]
  },
  {
   "cell_type": "code",
   "execution_count": 14,
   "id": "74235302-1f23-4209-b411-4b46aaff3df7",
   "metadata": {},
   "outputs": [
    {
     "data": {
      "text/html": [
       "\n",
       "        <span>FloatVector with 40 elements.</span>\n",
       "        <table>\n",
       "        <tbody>\n",
       "          <tr>\n",
       "          \n",
       "            <td>\n",
       "            1.000000\n",
       "            </td>\n",
       "          \n",
       "            <td>\n",
       "            1.100000\n",
       "            </td>\n",
       "          \n",
       "            <td>\n",
       "            1.200000\n",
       "            </td>\n",
       "          \n",
       "            <td>\n",
       "            ...\n",
       "            </td>\n",
       "          \n",
       "            <td>\n",
       "            4.700000\n",
       "            </td>\n",
       "          \n",
       "            <td>\n",
       "            4.800000\n",
       "            </td>\n",
       "          \n",
       "            <td>\n",
       "            4.900000\n",
       "            </td>\n",
       "          \n",
       "          </tr>\n",
       "        </tbody>\n",
       "        </table>\n",
       "        "
      ],
      "text/plain": [
       "<rpy2.robjects.vectors.FloatVector object at 0x0000022221898C88> [RTYPES.REALSXP]\n",
       "R classes: ('numeric',)\n",
       "[1.000000, 1.100000, 1.200000, 1.300000, ..., 4.600000, 4.700000, 4.800000, 4.900000]"
      ]
     },
     "execution_count": 14,
     "metadata": {},
     "output_type": "execute_result"
    }
   ],
   "source": [
    "ro.r(\"var_to_r\")"
   ]
  },
  {
   "cell_type": "code",
   "execution_count": 15,
   "id": "bb06b968-3af9-492a-9326-3c33253630c9",
   "metadata": {},
   "outputs": [
    {
     "data": {
      "text/html": [
       "\n",
       "        <span>FloatVector with 1 elements.</span>\n",
       "        <table>\n",
       "        <tbody>\n",
       "          <tr>\n",
       "          \n",
       "            <td>\n",
       "            118.000000\n",
       "            </td>\n",
       "          \n",
       "          </tr>\n",
       "        </tbody>\n",
       "        </table>\n",
       "        "
      ],
      "text/plain": [
       "<rpy2.robjects.vectors.FloatVector object at 0x000002222622F408> [RTYPES.REALSXP]\n",
       "R classes: ('numeric',)\n",
       "[118.000000]"
      ]
     },
     "execution_count": 15,
     "metadata": {},
     "output_type": "execute_result"
    }
   ],
   "source": [
    "ro.r(\"sum(var_to_r)\")"
   ]
  },
  {
   "cell_type": "code",
   "execution_count": 16,
   "id": "f85b5d6b-54e9-4f94-bb34-a530c3c6815c",
   "metadata": {},
   "outputs": [
    {
     "data": {
      "text/plain": [
       "118.00000000000007"
      ]
     },
     "execution_count": 16,
     "metadata": {},
     "output_type": "execute_result"
    }
   ],
   "source": [
    "np.sum(var_from_python)"
   ]
  },
  {
   "cell_type": "code",
   "execution_count": 17,
   "id": "150bedb9-2956-4e95-abe8-07fad2dfb750",
   "metadata": {},
   "outputs": [
    {
     "data": {
      "text/html": [
       "\n",
       "        <span>FloatVector with 1 elements.</span>\n",
       "        <table>\n",
       "        <tbody>\n",
       "          <tr>\n",
       "          \n",
       "            <td>\n",
       "            2.950000\n",
       "            </td>\n",
       "          \n",
       "          </tr>\n",
       "        </tbody>\n",
       "        </table>\n",
       "        "
      ],
      "text/plain": [
       "<rpy2.robjects.vectors.FloatVector object at 0x0000022221C1A448> [RTYPES.REALSXP]\n",
       "R classes: ('numeric',)\n",
       "[2.950000]"
      ]
     },
     "execution_count": 17,
     "metadata": {},
     "output_type": "execute_result"
    }
   ],
   "source": [
    "ro.r(\"mean(var_to_r)\")"
   ]
  },
  {
   "cell_type": "code",
   "execution_count": 18,
   "id": "d8630268-8d43-4760-a69e-5c477a850ef4",
   "metadata": {},
   "outputs": [
    {
     "data": {
      "text/plain": [
       "2.950000000000002"
      ]
     },
     "execution_count": 18,
     "metadata": {},
     "output_type": "execute_result"
    }
   ],
   "source": [
    "np.mean(var_from_python)"
   ]
  },
  {
   "cell_type": "code",
   "execution_count": 19,
   "id": "1575bb36-31f6-46c1-9821-a3a22d5f23bb",
   "metadata": {},
   "outputs": [
    {
     "data": {
      "text/html": [
       "\n",
       "        <span>FloatVector with 1 elements.</span>\n",
       "        <table>\n",
       "        <tbody>\n",
       "          <tr>\n",
       "          \n",
       "            <td>\n",
       "            1.169045\n",
       "            </td>\n",
       "          \n",
       "          </tr>\n",
       "        </tbody>\n",
       "        </table>\n",
       "        "
      ],
      "text/plain": [
       "<rpy2.robjects.vectors.FloatVector object at 0x00000222261EB448> [RTYPES.REALSXP]\n",
       "R classes: ('numeric',)\n",
       "[1.169045]"
      ]
     },
     "execution_count": 19,
     "metadata": {},
     "output_type": "execute_result"
    }
   ],
   "source": [
    "ro.r(\"sd(var_to_r)\")"
   ]
  },
  {
   "cell_type": "code",
   "execution_count": 20,
   "id": "b200c93e-c9da-4c41-9eae-d3a910083c5b",
   "metadata": {},
   "outputs": [
    {
     "data": {
      "text/plain": [
       "1.169045194450013"
      ]
     },
     "execution_count": 20,
     "metadata": {},
     "output_type": "execute_result"
    }
   ],
   "source": [
    "np.std(var_from_python, ddof = 1)"
   ]
  },
  {
   "cell_type": "code",
   "execution_count": 21,
   "id": "d53282a8-8568-4f2e-a120-d7ef7c710127",
   "metadata": {},
   "outputs": [
    {
     "data": {
      "text/html": [
       "\n",
       "        <span>FloatVector with 6 elements.</span>\n",
       "        <table>\n",
       "        <tbody>\n",
       "          <tr>\n",
       "          \n",
       "            <td>\n",
       "            1.000000\n",
       "            </td>\n",
       "          \n",
       "            <td>\n",
       "            1.975000\n",
       "            </td>\n",
       "          \n",
       "            <td>\n",
       "            2.950000\n",
       "            </td>\n",
       "          \n",
       "            <td>\n",
       "            2.950000\n",
       "            </td>\n",
       "          \n",
       "            <td>\n",
       "            3.925000\n",
       "            </td>\n",
       "          \n",
       "            <td>\n",
       "            4.900000\n",
       "            </td>\n",
       "          \n",
       "          </tr>\n",
       "        </tbody>\n",
       "        </table>\n",
       "        "
      ],
      "text/plain": [
       "<rpy2.robjects.vectors.FloatVector object at 0x000002222623D988> [RTYPES.REALSXP]\n",
       "R classes: ('summaryDefault', 'table')\n",
       "[1.000000, 1.975000, 2.950000, 2.950000, 3.925000, 4.900000]"
      ]
     },
     "execution_count": 21,
     "metadata": {},
     "output_type": "execute_result"
    }
   ],
   "source": [
    "ro.r(\"summary(var_to_r)\")"
   ]
  },
  {
   "cell_type": "code",
   "execution_count": 22,
   "id": "be3a8eee-74d7-4bdb-ae07-b22d5d15bfec",
   "metadata": {},
   "outputs": [],
   "source": [
    "# En los notebooks de Jupyter se cuelga cuando se te abre la ventana con el plot\n",
    "#ro.r(\"hist(var_to_r, breaks = 4)\")"
   ]
  },
  {
   "cell_type": "code",
   "execution_count": 23,
   "id": "3fd52ed1-d1cc-47db-9bf6-f4f2f9659b0a",
   "metadata": {},
   "outputs": [
    {
     "data": {
      "text/html": [
       "\n",
       "        <span>ListVector with 15 elements.</span>\n",
       "        <table>\n",
       "        <tbody>\n",
       "        \n",
       "          <tr>\n",
       "            <th>\n",
       "            platform\n",
       "            </th>\n",
       "            <td>\n",
       "            \n",
       "        <span>StrVector with 1 elements.</span>\n",
       "        <table>\n",
       "        <tbody>\n",
       "          <tr>\n",
       "          \n",
       "            <td>\n",
       "            'x86_64-w64-mingw32'\n",
       "            </td>\n",
       "          \n",
       "          </tr>\n",
       "        </tbody>\n",
       "        </table>\n",
       "        \n",
       "            </td>\n",
       "          </tr>\n",
       "        \n",
       "          <tr>\n",
       "            <th>\n",
       "            arch\n",
       "            </th>\n",
       "            <td>\n",
       "            \n",
       "        <span>StrVector with 1 elements.</span>\n",
       "        <table>\n",
       "        <tbody>\n",
       "          <tr>\n",
       "          \n",
       "            <td>\n",
       "            'x86_64'\n",
       "            </td>\n",
       "          \n",
       "          </tr>\n",
       "        </tbody>\n",
       "        </table>\n",
       "        \n",
       "            </td>\n",
       "          </tr>\n",
       "        \n",
       "          <tr>\n",
       "            <th>\n",
       "            os\n",
       "            </th>\n",
       "            <td>\n",
       "            \n",
       "        <span>StrVector with 1 elements.</span>\n",
       "        <table>\n",
       "        <tbody>\n",
       "          <tr>\n",
       "          \n",
       "            <td>\n",
       "            'mingw32'\n",
       "            </td>\n",
       "          \n",
       "          </tr>\n",
       "        </tbody>\n",
       "        </table>\n",
       "        \n",
       "            </td>\n",
       "          </tr>\n",
       "        \n",
       "          <tr>\n",
       "            <th>\n",
       "            ...\n",
       "            </th>\n",
       "            <td>\n",
       "            ...\n",
       "            </td>\n",
       "          </tr>\n",
       "        \n",
       "          <tr>\n",
       "            <th>\n",
       "            language\n",
       "            </th>\n",
       "            <td>\n",
       "            \n",
       "        <span>StrVector with 1 elements.</span>\n",
       "        <table>\n",
       "        <tbody>\n",
       "          <tr>\n",
       "          \n",
       "            <td>\n",
       "            'R'\n",
       "            </td>\n",
       "          \n",
       "          </tr>\n",
       "        </tbody>\n",
       "        </table>\n",
       "        \n",
       "            </td>\n",
       "          </tr>\n",
       "        \n",
       "          <tr>\n",
       "            <th>\n",
       "            version.string\n",
       "            </th>\n",
       "            <td>\n",
       "            \n",
       "        <span>StrVector with 1 elements.</span>\n",
       "        <table>\n",
       "        <tbody>\n",
       "          <tr>\n",
       "          \n",
       "            <td>\n",
       "            'R version 4.2.1 Patched (2022-07-29 r82648 ucrt)'\n",
       "            </td>\n",
       "          \n",
       "          </tr>\n",
       "        </tbody>\n",
       "        </table>\n",
       "        \n",
       "            </td>\n",
       "          </tr>\n",
       "        \n",
       "          <tr>\n",
       "            <th>\n",
       "            nickname\n",
       "            </th>\n",
       "            <td>\n",
       "            \n",
       "        <span>StrVector with 1 elements.</span>\n",
       "        <table>\n",
       "        <tbody>\n",
       "          <tr>\n",
       "          \n",
       "            <td>\n",
       "            'Funny-Looking Kid'\n",
       "            </td>\n",
       "          \n",
       "          </tr>\n",
       "        </tbody>\n",
       "        </table>\n",
       "        \n",
       "            </td>\n",
       "          </tr>\n",
       "        \n",
       "        </tbody>\n",
       "        </table>\n",
       "        "
      ],
      "text/plain": [
       "<rpy2.robjects.vectors.ListVector object at 0x0000022221EF9448> [RTYPES.VECSXP]\n",
       "R classes: ('simple.list',)\n",
       "[StrSexpVe..., StrSexpVe..., StrSexpVe..., StrSexpVe..., ..., StrSexpVe..., StrSexpVe..., StrSexpVe..., StrSexpVe...]\n",
       "  platform: <class 'rpy2.robjects.vectors.StrVector'>\n",
       "  <rpy2.robjects.vectors.StrVector object at 0x000002222623D3C8> [RTYPES.STRSXP]\n",
       "R classes: ('character',)\n",
       "['x86_64-w64-mingw32']\n",
       "  arch: <class 'rpy2.robjects.vectors.StrVector'>\n",
       "  <rpy2.robjects.vectors.StrVector object at 0x00000222261EB1C8> [RTYPES.STRSXP]\n",
       "R classes: ('character',)\n",
       "['x86_64']\n",
       "  os: <class 'rpy2.robjects.vectors.StrVector'>\n",
       "  <rpy2.robjects.vectors.StrVector object at 0x00000222261F30C8> [RTYPES.STRSXP]\n",
       "R classes: ('character',)\n",
       "['mingw32']\n",
       "  crt: <class 'rpy2.robjects.vectors.StrVector'>\n",
       "  <rpy2.robjects.vectors.StrVector object at 0x00000222215F4148> [RTYPES.STRSXP]\n",
       "R classes: ('character',)\n",
       "['ucrt']\n",
       "...\n",
       "  status: <class 'rpy2.robjects.vectors.StrVector'>\n",
       "  <rpy2.robjects.vectors.StrVector object at 0x0000022210A14DC8> [RTYPES.STRSXP]\n",
       "R classes: ('character',)\n",
       "['82648']\n",
       "  major: <class 'rpy2.robjects.vectors.StrVector'>\n",
       "  <rpy2.robjects.vectors.StrVector object at 0x00000222261E5C08> [RTYPES.STRSXP]\n",
       "R classes: ('character',)\n",
       "['R']\n",
       "  minor: <class 'rpy2.robjects.vectors.StrVector'>\n",
       "  <rpy2.robjects.vectors.StrVector object at 0x000002222621AE88> [RTYPES.STRSXP]\n",
       "R classes: ('character',)\n",
       "['R version 4.2.1 Patched (2022-07-29 r82648 ucrt)']\n",
       "  year: <class 'rpy2.robjects.vectors.StrVector'>\n",
       "  <rpy2.robjects.vectors.StrVector object at 0x000002222621AFC8> [RTYPES.STRSXP]\n",
       "R classes: ('character',)\n",
       "['Funny-Looking Kid']"
      ]
     },
     "execution_count": 23,
     "metadata": {},
     "output_type": "execute_result"
    }
   ],
   "source": [
    "ro.r(\"R.version\")"
   ]
  },
  {
   "cell_type": "markdown",
   "id": "d6afe758-fe46-4206-9132-97cc4c52aede",
   "metadata": {},
   "source": [
    "## Trabajar de forma conjunta entre R y Python"
   ]
  },
  {
   "cell_type": "code",
   "execution_count": 24,
   "id": "e8211cc3-ed01-4281-98ea-a00f9398ef7c",
   "metadata": {},
   "outputs": [],
   "source": [
    "from rpy2.robjects.packages import importr"
   ]
  },
  {
   "cell_type": "code",
   "execution_count": 25,
   "id": "44669f01-d6b7-4bf6-a3a1-e0ce59437cdb",
   "metadata": {},
   "outputs": [
    {
     "name": "stderr",
     "output_type": "stream",
     "text": [
      "R[write to console]: Installing package into 'C:/Users/mudar/AppData/Local/R/win-library/4.2'\n",
      "(as 'lib' is unspecified)\n",
      "\n"
     ]
    },
    {
     "name": "stdout",
     "output_type": "stream",
     "text": [
      "--- Please select a CRAN mirror for use in this session ---\n"
     ]
    },
    {
     "name": "stderr",
     "output_type": "stream",
     "text": [
      "R[write to console]: trying URL 'https://cran.rediris.es/bin/windows/contrib/4.2/extRemes_2.1-2.zip'\n",
      "\n",
      "R[write to console]: Content type 'application/zip'\n",
      "R[write to console]:  length 1150676 bytes (1.1 MB)\n",
      "\n",
      "R[write to console]: downloaded 1.1 MB\n",
      "\n",
      "\n"
     ]
    },
    {
     "name": "stdout",
     "output_type": "stream",
     "text": [
      "package 'extRemes' successfully unpacked and MD5 sums checked\n",
      "\n",
      "The downloaded binary packages are in\n",
      "\tC:\\Users\\mudar\\AppData\\Local\\Temp\\Rtmp0AFNQw\\downloaded_packages\n"
     ]
    }
   ],
   "source": [
    "ro.r(\"install.packages('extRemes')\") # si falla decir 'n' al hacer la instalación\n",
    "extremes = importr(\"extRemes\") # library(extRemes)"
   ]
  },
  {
   "cell_type": "code",
   "execution_count": 26,
   "id": "7c9655b4-298c-49d1-9b32-e73fc73bdfed",
   "metadata": {},
   "outputs": [],
   "source": [
    "fevd = extremes.fevd"
   ]
  },
  {
   "cell_type": "code",
   "execution_count": 27,
   "id": "48e15c30-dd3a-4648-8ea9-271303725f1b",
   "metadata": {
    "tags": []
   },
   "outputs": [
    {
     "name": "stdout",
     "output_type": "stream",
     "text": [
      "Wrapper around an R function.\n",
      "\n",
      "The docstring below is built from the R documentation.\n",
      "\n",
      "description\n",
      "-----------\n",
      "\n",
      "\n",
      " Fit a univariate extreme value distribution functions (e.g., GEV, GP, PP, Gumbel, or Exponential) to data; possibly with covariates in the parameters.\n",
      " \n",
      "\n",
      "\n",
      "fevd(\n",
      "    x,\n",
      "    data,\n",
      "    threshold = rinterface.NULL,\n",
      "    threshold_fun = ~,\n",
      "    location_fun = ~,\n",
      "    scale_fun = ~,\n",
      "    shape_fun = ~,\n",
      "    use_phi = False,\n",
      "    type = c,\n",
      "    method = c,\n",
      "    initial = rinterface.NULL,\n",
      "    span,\n",
      "    units = rinterface.NULL,\n",
      "    time_units = days,\n",
      "    period_basis = year,\n",
      "    na_action = <rpy2.rinterface.ListSexpVector object at 0x000002222621A788> [RTYPES.VECSXP],\n",
      "    optim_args = rinterface.NULL,\n",
      "    priorFun = rinterface.NULL,\n",
      "    priorParams = rinterface.NULL,\n",
      "    proposalFun = rinterface.NULL,\n",
      "    proposalParams = rinterface.NULL,\n",
      "    iter = 9999.0,\n",
      "    weights = 1.0,\n",
      "    blocks = rinterface.NULL,\n",
      "    verbose = False,\n",
      ")\n",
      "\n",
      "Args:\n",
      "   x :  'fevd': 'x' can be a numeric vector, the name of a column of\n",
      "  'data' or a formula giving the data to which the EVD is to be\n",
      "  fit.  In the case of the latter two, the 'data' argument must\n",
      "  be specified, and must have appropriately named columns.\n",
      "\n",
      "   object :  A list object of class \"fevd\" as returned by 'fevd'.\n",
      "\n",
      "   data :  A data frame object with named columns giving the data to be\n",
      "  fit, as well as any data necessary for modeling\n",
      "  non-stationarity through the threshold and/or any of the\n",
      "  parameters.\n",
      "\n",
      "   threshold :  numeric (single or vector).  If fitting a peak over\n",
      "  threshold (POT) model (i.e., 'type' = \"PP\", \"GP\",\n",
      "  \"Exponential\") this is the threshold over which\n",
      "  (non-inclusive) data (or excesses) are used to estimate the\n",
      "  parameters of the distribution function.  If the length is\n",
      "  greater than 1, then the length must be equal to either the\n",
      "  length of 'x' (or number of rows of 'data') or to the number\n",
      "  of unique arguments in 'threshold.fun'.\n",
      "\n",
      "   threshold.fun :  formula describing a model for the thresholds using\n",
      "  columns from 'data'.  Any valid formula will work.  'data'\n",
      "  must be supplied if this argument is anything other than ~ 1.\n",
      "  Not for use with 'method' \"Lmoments\".\n",
      "\n",
      "   use.phi :  logical; should the log of the scale parameter be used in the\n",
      "  numerical optimization (for 'method' \"MLE\", \"GMLE\" and\n",
      "  \"Bayesian\" only)?  For the ML and GML estimation, this may\n",
      "  make things more stable for some data.\n",
      "\n",
      "   type :  'fevd': character stating which EVD to fit.  Default is to\n",
      "  fit the generalized extreme value (GEV) distribution function\n",
      "  (df).\n",
      "\n",
      "   method :  'fevd': character naming which type of estimation method to\n",
      "  use.  Default is to use maximum likelihood estimation (MLE).\n",
      "\n",
      "   initial :  A list object with any named parameter component giving the\n",
      "  initial value estimates for starting the numerical\n",
      "  optimization (MLE/GMLE) or the MCMC iterations (Bayesian).\n",
      "  In the case of MLE/GMLE, it is best to obtain a good intial\n",
      "  guess, and in the Bayesian case, it is perhaps better to\n",
      "  choose poor initial estimates.  If NULL (default), then\n",
      "  L-moments estimates and estimates based on Gumbel moments\n",
      "  will be calculated, and whichever yields the lowest negative\n",
      "  log-likelihood is used.  In the case of 'type' \"PP\", an\n",
      "  additional MLE/GMLE estimate is made for the generalized\n",
      "  Pareto (GP) df, and parameters are converted to those of the\n",
      "  Poisson Process (PP) model.  Again, the initial estimates\n",
      "  yielding the lowest negative log-likelihoo value are used for\n",
      "  the initial guess.\n",
      "\n",
      "   span :  single numeric giving the number of years (or other desired\n",
      "  temporal unit) in the data set.  Only used for POT models,\n",
      "  and only important in the estimation for the PP model, but\n",
      "  important for subsequent estimates of return levels for any\n",
      "  POT model.  If missing, it will be calculated using\n",
      "  information from 'time.units'.\n",
      "\n",
      "   units :  (optional) character giving the units of the data, which if\n",
      "  given may be used subsequently (e.g., on plot axis labels,\n",
      "  etc.).\n",
      "\n",
      "   time.units :  character string that must be one of \"hours\", \"minutes\",\n",
      "  \"seconds\", \"days\", \"months\", \"years\", \"m/hour\", \"m/minute\",\n",
      "  \"m/second\", \"m/day\", \"m/month\", or \"m/year\"; where m is a\n",
      "  number.  If 'span' is missing, then this argument is used in\n",
      "  determining the value of 'span'.  It is also returned with\n",
      "  the output and used subsequently for plot labelling, etc.\n",
      "\n",
      "   period.basis :  character string giving the units for the period.  Used\n",
      "  only for plot labelling and naming output vectors from some\n",
      "  of the method functions (e.g., for establishing what the\n",
      "  period represents for the return period).\n",
      "\n",
      "   rperiods :  numeric vector giving the return period(s) for which it is\n",
      "  desired to calculate the corresponding return levels.\n",
      "\n",
      "   period :  character string naming the units for the return period.\n",
      "\n",
      "   burn.in :  The first 'burn.in' values are thrown out before calculating\n",
      "  anything from the MCMC sample.\n",
      "\n",
      "   a :  when plotting empirical probabilies and such, the function\n",
      "  'ppoints' is called, which has this argument 'a'.\n",
      "\n",
      "   d :  numeric determining how to scale the rate parameter for the\n",
      "  point process.  If NULL, the function will attempt to scale\n",
      "  based on the values of 'period.basis' and 'time.units', the\n",
      "  first of which must be \"year\" and the second of which must be\n",
      "  one of \"days\", \"months\", \"years\", \"hours\", \"minutes\" or\n",
      "  \"seconds\".  If none of these are the case, then 'd' should be\n",
      "  specified, otherwise, it is not necessary.\n",
      "\n",
      "   na.action :  function to be called to handle missing values.  Generally,\n",
      "  this should remain at the default (na.fail), and the user\n",
      "  should take care to impute missing values in an appropriate\n",
      "  manner as it may have serious consequences on the results.\n",
      "\n",
      "   optim.args :  A list with named components matching exactly any arguments\n",
      "  that the user wishes to specify to 'optim', which is used\n",
      "  only for MLE and GMLE methods.  By default, the \"BFGS\" method\n",
      "  is used along with 'grlevd' for the gradient argument.\n",
      "  Generally, the 'grlevd' function is used for the 'gr' option\n",
      "  unless the user specifies otherwise, or the optimization\n",
      "  method does not take gradient information.\n",
      "\n",
      "   priorFun :  character naming a prior df to use for methods GMLE and\n",
      "  Bayesian.  The default for GMLE (not including Gumbel or\n",
      "  Exponential types) is to use the one suggested by Martins and\n",
      "  Stedinger (2000, 2001) on the shape parameter; a beta df on\n",
      "  -0.5 to 0.5 with parameters 'p' and 'q'.  Must take 'x' as\n",
      "  its first argument for 'method' \"GMLE\".  Optional arguments\n",
      "  for the default function are 'p' and 'q' (see details\n",
      "  section).\n",
      "\n",
      "   Note :  if this argument is not NULL and 'method' is set to\n",
      "  \"MLE\", it will be changed to \"GMLE\".\n",
      "\n",
      "   priorParams :  named list containing any prior df parameters (where the\n",
      "  list names are the same as the function argument names).\n",
      "  Default for GMLE (assuming the default function is used) is\n",
      "  to use 'q' = 6 and 'p' = 9.  Note that in the Martins and\n",
      "  Stedinger (2000, 2001) papers, they use a different EVD\n",
      "  parametrization than is used here such that a positive shape\n",
      "  parameter gives the upper bounded distribution instead of the\n",
      "  heavy-tail one (as emloyed here).  To be consistent with\n",
      "  these papers, 'p' and 'q' are reversed inside the code so\n",
      "  that they have the same interpretation as in the papers.\n",
      "\n",
      "   proposalFun :  For Bayesian estimation only, this is a character naming a\n",
      "  function used to generate proposal parameters at each\n",
      "  iteration of the MCMC.  If NULL (default), a random walk\n",
      "  chain is used whereby if theta.i is the current value of the\n",
      "  parameter, the proposed new parameter theta.star is given by\n",
      "  theta.i + z, where z is drawn at random from a normal df.\n",
      "\n",
      "   proposalParams :  A named list object describing any optional arguments\n",
      "  to the 'proposalFun' function.  All functions must take\n",
      "  argument 'p', which must be a vector of the parameters, and\n",
      "  'ind', which is used to identify which parameter is to be\n",
      "  proposed.  The default 'proposalFun' function takes\n",
      "  additional arguments 'mean' and 'sd', which must be vectors\n",
      "  of length equal to the number of parameters in the model\n",
      "  (default is to use zero for the mean of z for every parameter\n",
      "  and 0.1 for its standard deviation).\n",
      "\n",
      "   iter :  Used only for Bayesian estimation, this is the number of MCMC\n",
      "  iterations to do.\n",
      "\n",
      "   weights :  numeric of length 1 or n giving weights to be applied in the\n",
      "  likelihood calculations (e.g., if there are data points to be\n",
      "  weighted more/less heavily than others).\n",
      "\n",
      "   blocks :  An optional list containing information required to fit point\n",
      "  process models in a computationally-efficient manner by using\n",
      "  only the exceedances and not the observations below the\n",
      "  threshold(s). See details for further information.\n",
      "\n",
      "   FUN :  character string naming a function to use to estimate the\n",
      "  parameters from the MCMC sample.  The function is applied to\n",
      "  each column of the 'results' component of the returned 'fevd'\n",
      "  object.\n",
      "\n",
      "   verbose :  logical; should progress information be printed to the\n",
      "  screen?  If TRUE, for MLE/GMLE, the argument 'trace' will be\n",
      "  set to 6 in the call to 'optim'.\n",
      "\n",
      "   prange :  matrix whose columns are numeric vectors of length two for\n",
      "  each parameter in the model giving the parameter range over\n",
      "  which trace plots should be made.  Default is to use either\n",
      "  +/- 2 * std. err. of the parameter (first choice) or, if the\n",
      "  standard error cannot be calculated, then +/- 2 *\n",
      "  log2(abs(parameter)).  Typically, these values seem to work\n",
      "  very well for these plots.\n",
      "\n",
      "   ... :  Not used by most functions here.  Optional arguments to\n",
      "  'plot' for the various 'plot' method functions.\n",
      "\n",
      "details\n",
      "-------\n",
      "\n",
      "\n",
      " See text books on extreme value analysis (EVA) for more on univariate EVA (e.g., Coles, 2001 and Reiss and Thomas, 2007 give fairly accessible introductions to the topic for most audiences; and Beirlant et al., 2004, de Haan and Ferreira, 2006, as well as Reiss and Thomas, 2007 give more complete theoretical treatments).  The extreme value distributions (EVDs) have theoretical support for analyzing extreme values of a process.  In particular, the generalized extreme value (GEV) df is appropriate for modeling block maxima (for large blocks, such as annual maxima), the generalized Pareto (GP) df models threshold excesses (i.e., x - u | x > u and u a high threshold).\n",
      " \n",
      " The GEV df is given by\n",
      " \n",
      "     Pr(X <= x) = G(x) = exp[-(1 + shape*(x - location)/scale)^(-1/shape)]\n",
      " \n",
      " for 1 + shape*(x - location) > 0 and scale > 0.  If the shape parameter is zero, then the df is defined by continuity and simplies to\n",
      " \n",
      "     G(x) = exp(-exp((x - location)/scale)).\n",
      " \n",
      " The GEV df is often called a family of distribution functions because it encompasses the three types of EVDs: Gumbel (shape = 0, light tail), Frechet (shape > 0, heavy tail) and the reverse Weibull (shape < 0, bounded upper tail at location - scale/shape).  It was first found by R. von Mises (1936) and also independently noted later by meteorologist A. F. Jenkins (1955).  It enjoys theretical support for modeling maxima taken over large blocks of a series of data.\n",
      " \n",
      " The generalized Pareo df is given by (Pickands, 1975)\n",
      " \n",
      "     Pr(X <= x) = F(x) = 1 - [1 + shape*(x - threshold)/scale]^(-1/shape)\n",
      " \n",
      " where 1 + shape*(x - threshold)/scale > 0, scale > 0, and x > threshold.  If shape = 0, then the GP df is defined by continuity and becomes\n",
      " \n",
      "     F(x) = 1 - exp(-(x - threshold)/scale).\n",
      " \n",
      " There is an approximate relationship between the GEV and GP distribution functions where the GP df is approximately the tail df for the GEV df.  In particular, the scale parameter of the GP is a function of the threshold (denote it scale.u), and is equivalent to scale + shape*(threshold - location) where scale, shape and location are parameters from the  equivalent  GEV df.  Similar to the GEV df, the shape parameter determines the tail behavior, where shape = 0 gives rise to the exponential df (light tail), shape > 0 the Pareto df (heavy tail) and shape < 0 the Beta df (bounded upper tail at location - scale.u/shape).  Theoretical justification supports the use of the GP df family for modeling excesses over a high threshold (i.e., y = x - threshold).  It is assumed here that  x ,  q  describe x (not y = x - threshold).  Similarly, the random draws are y + threshold.\n",
      " \n",
      " If interest is in minima or deficits under a low threshold, all of the above applies to the negative of the data (e.g., - max(-X_1,...,-X_n) = min(X_1, ..., X_n)) and  fevd  can be used so long as the user first negates the data, and subsequently realizes that the return levels (and location parameter) given will be the negative of the desired return levels (and location parameter), etc.\n",
      " \n",
      " The study of extremes often involves a paucity of data, and for small sample sizes, L-moments may give better estimates than competing methods, but penalized MLE (cf. Coles and Dixon, 1999; Martins and Stedinger, 2000; 2001) may give better estimates than the L-moments for such samples.  Martins and Stedinger (2000; 2001) use the terminology generalized MLE, which is also used here.\n",
      " \n",
      " Non-stationary models:\n",
      " \n",
      " The current code does not allow for non-stationary models with L-moments estimation.\n",
      " \n",
      " For MLE/GMLE (see El Adlouni et al 2007 for using GMLE in fitting models whose parameters vary) and Bayesian estimation, linear models for the parameters may be fit using formulas, in which case the  data  argument must be supplied.  Specifically, the models allowed for a set of covariates, y, are:\n",
      " \n",
      "     location(y) = mu0 + mu1 * f1(y) + mu2 * f2(y) + ...\n",
      " \n",
      "     scale(y) = sig0 + sig1 * g1(y) + sig2 * g2(y) + ...\n",
      " \n",
      "     log(scale(y)) = phi(y) = phi0 + phi1 * g1(y) + phi2 * g2(y) + ...\n",
      " \n",
      "     shape(y) = xi0 + xi1 * h1(y) + xi2 * h2(y) + ...\n",
      " \n",
      " For non-stationary fitting it is recommended that the covariates within the generalized linear models are (at least approximately) centered and scaled (see examples below).  It is generally ill-advised to include covariates in the shape parameter, but there are situations where it makes sense.\n",
      " \n",
      " Non-stationary modeling is accomplished with  fevd  by using formulas via the arguments:  threshold.fun ,  location.fun ,  scale.fun  and  shape.fun .  See examples to see how to do this.\n",
      " \n",
      " \n",
      " Initial Value Estimates:\n",
      " \n",
      " In the case of MLE/GMLE, it can be very important to get good initial estimates (e.g., see the examples below).   fevd  attempts to find such estimates, but it is also possible for the user to supply their own initial estimates as a list object using the  initial  argument, whereby the components of the list are named according to which parameter(s) they are associated with.  In particular, if the model is non-stationary, with covariates in the location (e.g., mu(t) = mu0 + mu1 * t), then  initial  may have a component named  location  that may contain either a single number (in which case, by default, the initial value for mu1 will be zero) or a vector of length two giving initial values for mu0 and mu1.\n",
      " \n",
      " For Bayesian estimation, it is good practice to try several starting values at different points to make sure the initial values do not affect the outcome.  However, if initial values are not passed in, the MLEs are used (which probably is not a good thing to do, but is more likely to yield good results).\n",
      " \n",
      " For MLE/GMLE, two (in the case of PP, three) initial estimates are calculated along with their associated likelihood values.  The initial estimates that yield the highest likelihood are used.  These methods are:\n",
      " \n",
      " 1.  L-moment estimates.\n",
      " \n",
      " 2.  Let m = mean(xdat) and s = sqrt(6 * var(xdat)) / pi.  Then, initial values assigend for the lcoation parameter when either  initial  is NULL or the location component of  initial  is NULL, are m - 0.57722 * s.  When  initial  or the scale component of  initial  is NULL, the initial value for the scale parameter is taken to be s, and when  initial  or its shape component is NULL, the initial value for the shape parameter is taken to be 1e-8 (because these initial estimates are moment-based estimates for the Gumbel df, so the initial value is taken to be near zero).\n",
      " \n",
      " 3.  In the case of PP, which is often the most difficult model to fit, MLEs are obtained for a GP model, and the resulting parameter estimates are converted to those of the approximately equivalent PP model.\n",
      " \n",
      " In the case of a non-stationary model, if the default initial estimates are used, then the intercept term for each parameter is given the initial estimate, and all other parameters are set to zero initially.  The exception is in the case of PP model fitting where the MLE from the GP fits are used, in which case, these parameter estimates may be non-zero.\n",
      " \n",
      " \n",
      " The generalized MLE (GMLE) method:\n",
      " \n",
      " This method places a penalty (or prior df) on the shape parameter to help ensure a better fit.  The procedure is nearly identical to MLE, except the likelihood, L, is multiplied by the prior df, p(shape); and because the negative log-likelihood is used, the effect is that of subtracting this term.  Currently, there is no supplied function by this package to calculate the gradient for the GMLE case, so in particular, the trace plot is not the trace of the actual negative log-likelihood (or gradient thereof) used in the estimation.\n",
      " \n",
      " Bayesian Estimation:\n",
      " \n",
      " It is possible to give your own prior and proposal distribution functions using the appropriate arguments listed above in the arguments section.  At each iteration of the chain, the parameters are updated one at a time in random order.  The default method uses a random walk chain for the proposal and normal distributions for the parameters.\n",
      " \n",
      " Plotting output:\n",
      " \n",
      " plot : The  plot  method function will take information from the  fevd  output and make any of various useful plots.  The default, regardless of estimation method, is to produce a 2 by 2 panel of plots giving some common diagnostic plots.  Possible types (determined by the  type  argument) include:\n",
      " \n",
      " 1.  primary  (default): yields the 2 by 2 panel of plots given by 3, 4, 6 and 7 below.\n",
      " \n",
      " 2.  probprob : Model probabilities against empirical probabilities (obtained from the  ppoints  function).  A good fit should yield a straight one-to-one line of points.  In the case of a non-stationary model, the data are first transformed to either the Gumbel (block maxima models) or exponential (POT models) scale, and plotted against probabilities from these standardized distribution functions.  In the case of a PP model, the parameters are first converted to those of the approximately equivalent GP df, and are plotted against the empirical data threshold excesses probabilities.\n",
      " \n",
      " 3.  qq : Empirical quantiles against model quantiles.  Again, a good fit will yield a straight one-to-one line of points.  Generally, the qq-plot is preferred to the probability plot in 1 above.  As in 2, for the non-stationary case, data are first transformed and plotted against quantiles from the standardized distributions.  Also as in 2 above, in the case of the PP model, parameters are converted to those of the GP df and quantiles are from threshold excesses of the data.\n",
      " \n",
      " 4.  qq2 : Similar to 3, first data are simulated from the fitted model, and then the qq-plot between them (using the function  qqplot  from this self-same package) is made between them, which also yields confidence bands.  Note that for a good fitting model, this should again yield a straight one-to-one line of points, but generally, it will not be as  well-behaved  as the plot in 3.  The one-to-one line and a regression line fitting the quantiles is also shown.  In the case of a non-stationary model, simulations are obtained by simulating from an appropriate standardized EVD, re-ordered to follow the same ordering as the data to which the model was fit, and then back transformed using the covariates from  data  and the parameter estimates to put the simulated sample back on the original scale of the data.  The PP model is handled analogously as in 2 and 3 above.\n",
      " \n",
      " 5. and 6.  Zplot : These are for PP model fits only and are based on Smith and Shively (1995).  The Z plot is a diagnostic for determining whether or not the random variable, Zk, defined as the (possibly non-homogeneous) Poisson intensity parameter(s) integrated from exceedance time k - 1 to exceedance time k (beginning the series with k = 1) is independent exponentially distributed with mean 1.\n",
      " \n",
      " For the Z plot, it is necessary to scale the Poisson intensity parameter appropriately.  For example, if the data are given on a daily time scale with an annual period basis, then this parameter should be divided by, for example, 365.25.  From the fitted  fevd  object, the function will try to account for the correct scaling based on the two components  period.basis  and  time.units .  The former currently must be  year  and the latter must be one of  days ,  months ,  years ,  hours ,  minutes  or  seconds .  If none of these are valid for your specific data (e.g., if an annual basis is not desired), then use the  d  argument to explicitly specify the correct scaling.\n",
      " \n",
      " \n",
      " 7.   hist : A histogram of the data is made, and the model density is shown with a blue dashed line.  In the case of non-stationary models, the data are first transformed to an appropriate standardized EVD scale, and the model density line is for the self-same standardized EVD.  Currently, this does not work for non-stationary POT models.\n",
      " \n",
      " 8.  density : Same as 5, but the kernel density (using function  density ) for the data is plotted instead of the histogram. In the case of the PP model, block maxima of the data are calculated and the density of these block maxima are compared to the PP in terms of the equivalent GEV df.  If the model is non-stationary GEV, then the transformed data (to a stationary Gumbel df) are used.  If the model is a non-stationary POT model, then currently this option is not available.\n",
      " \n",
      " 9.  rl : Return level plot.  This is done on the log-scale for the abscissa in order that the type of EVD can be discerned from the shape (i.e., heavy tail distributions are concave, light tailed distributions are straight lines, and bounded upper-tailed distributions are convex, asymptoting at the upper bound).  95 percent CIs are also shown (gray dashed lines).  In the case of non-stationary models, the data are plotted as a line, and the  effective  return levels (by default the 2-period (i.e., the median), 20-period and 100-period are used; period is usually annual) are also shown (see, e.g., Gilleland and Katz, 2011).  In the case of the PP model, the equivalent GEV df (stationary model) is assumed and data points are block maxima, where the blocks are determined from information passed in the call to  fevd .  In particular, the  span  argument (which, if not passed by the user, will have been determined by  fevd  using  time.units  along with the number of points per year (which is estimated from  time.units ) are used to find the blocks over which the maxima are taken.  For the non-stationary case, the equivalent GP df is assumed and parameters are converted.  This helps facilitate a more meaningful plot, e.g., in the presence of a non-constant threshold, but otherwise constant parameters.\n",
      " \n",
      " 10.  trace : In each of cases (b) and (c) below, a 2 by the number of parameters panel of plots are created.\n",
      " \n",
      "     (a) L-moments: Not available for the L-moments estimation.\n",
      " \n",
      "     (b) For MLE/GMLE, the likelihood traces are shown for each parameter of the model, whereby all but one parameter is held fixed at the MLE/GMLE values, and the negative log-likelihood is graphed for varying values of the parameter of interest.  Note that this differs greatly from the profile likelihood (see, e.g.,  profliker ) where the likelihood is maximized over the remaining parameters.  The gradient negative log-likelihoods are also shown for each parameter.  These plots may be useful in diagnosing any fitting problems that might arise in practice.  For ease of interpretation, the gradients are shown directly below the likleihoods for each parameter.\n",
      " \n",
      "     (c) For Bayesian estimation, the usual trace plots are shown with a gray vertical dashed line showing where the  burn.in  value lies; and a gray dashed horizontal line through the posterior mean.  However, the posterior densities are also displayed for each parameter directly above the usual trace plots.  It is not currently planned to allow for adding the prior dnsities to the posterior density graphs, as this can be easily implemented by the user, but is more difficult to do generally.\n",
      " \n",
      " As with  ci  and  distill , only  plot  need be called by the user.  The appropriate choice of the other functions is automatically determined from the  fevd  fitted object.\n",
      " \n",
      " Note that when  blocks  are provided to  fevd , certain plots\n",
      " that require the full set of observations (including non-exceedances)\n",
      " cannot be produced.\n",
      " \n",
      " Summaries and Printing:\n",
      " \n",
      " summary  and  print  method functions are available, and give different information depending on the estimation method used.  However, in each case, the parameter estimates are printed to the screen.   summary  returns some useful output (similar to distill, but in a list format).  The  print  method function need not be called as one can simply type the name of the  fevd  fitted object and return to execute the command (see examples below).  The deviance information criterion (DIC) is calculated for the Bayesian estimation method as DIC = D(mean(theta)) + 2 * pd, where pd = mean(D(theta)) - D(mean(theta)), and D(theta) = -2 * log-likelihood evaluated at the parameter values given by theta.  The means are taken over the posterior MCMC sample.  The default estimation method for the parameter values from the MCMC sample is to take the mean of the sample (after removing the first burn.in samples).  A good alternative is to set the  FUN  argument to  postmode  in order to obtain the posterior mode of the sample.\n",
      " \n",
      " Using Blocks to Reduce Computation in PP Fitting:\n",
      " \n",
      " If  blocks  is supplied, the user should\n",
      " provide only the exceedances and not all of the data values. For\n",
      " stationary models, the list should contain a component called\n",
      " nBlocks  indicating the number of observations within a block, where\n",
      " blocks are defined in a manner analogous to that used in GEV\n",
      " models. For nonstationary models, the list may contain one or more of\n",
      " several components. For nonstationary models with covariates, the list\n",
      " should contain a  data  component analogous to the  data  argument,\n",
      " providing values for the blocks. If the threshold varies, the list\n",
      " should contain a  threshold  component that is analogous to the\n",
      " threshold  argument. If some of the observations within any block are\n",
      " missing (assuming missing at random or missing completely at random),\n",
      " the list should contain a  proportionMissing  component that is a\n",
      " vector with one value per block indicating the proportion of\n",
      " observations missing for the block. To weight the blocks, the list can\n",
      " contain a  weights  component with one value per block. Warning: to\n",
      " properly analyze nonstationary models, any covariates, thresholds, and\n",
      " weights must be constant within each block.\n",
      " \n",
      " \n",
      "\n",
      "\n"
     ]
    }
   ],
   "source": [
    "print(fevd.__doc__)"
   ]
  },
  {
   "cell_type": "code",
   "execution_count": 28,
   "id": "7817548e-9c93-4240-86b7-046a2e4cee1c",
   "metadata": {},
   "outputs": [],
   "source": [
    "data = pd.read_csv(\"../../datasets/time/time_series.txt\",\n",
    "                  sep = \"\\s+\", skiprows = 1, parse_dates = [[0, 1]],\n",
    "                  names = [\"date\", \"time\", \"wind_speed\"], index_col = 0)"
   ]
  },
  {
   "cell_type": "code",
   "execution_count": 29,
   "id": "42775a05-f358-49d4-9ef4-577aa104ed9c",
   "metadata": {},
   "outputs": [
    {
     "data": {
      "text/html": [
       "<div>\n",
       "<style scoped>\n",
       "    .dataframe tbody tr th:only-of-type {\n",
       "        vertical-align: middle;\n",
       "    }\n",
       "\n",
       "    .dataframe tbody tr th {\n",
       "        vertical-align: top;\n",
       "    }\n",
       "\n",
       "    .dataframe thead th {\n",
       "        text-align: right;\n",
       "    }\n",
       "</style>\n",
       "<table border=\"1\" class=\"dataframe\">\n",
       "  <thead>\n",
       "    <tr style=\"text-align: right;\">\n",
       "      <th></th>\n",
       "      <th>wind_speed</th>\n",
       "    </tr>\n",
       "    <tr>\n",
       "      <th>date_time</th>\n",
       "      <th></th>\n",
       "    </tr>\n",
       "  </thead>\n",
       "  <tbody>\n",
       "    <tr>\n",
       "      <th>1983-01-01 00:00:00</th>\n",
       "      <td>7.9</td>\n",
       "    </tr>\n",
       "    <tr>\n",
       "      <th>1983-01-01 01:00:00</th>\n",
       "      <td>8.2</td>\n",
       "    </tr>\n",
       "    <tr>\n",
       "      <th>1983-01-01 02:00:00</th>\n",
       "      <td>8.5</td>\n",
       "    </tr>\n",
       "    <tr>\n",
       "      <th>1983-01-01 03:00:00</th>\n",
       "      <td>9.0</td>\n",
       "    </tr>\n",
       "    <tr>\n",
       "      <th>1983-01-01 04:00:00</th>\n",
       "      <td>9.9</td>\n",
       "    </tr>\n",
       "  </tbody>\n",
       "</table>\n",
       "</div>"
      ],
      "text/plain": [
       "                     wind_speed\n",
       "date_time                      \n",
       "1983-01-01 00:00:00         7.9\n",
       "1983-01-01 01:00:00         8.2\n",
       "1983-01-01 02:00:00         8.5\n",
       "1983-01-01 03:00:00         9.0\n",
       "1983-01-01 04:00:00         9.9"
      ]
     },
     "execution_count": 29,
     "metadata": {},
     "output_type": "execute_result"
    }
   ],
   "source": [
    "data.head()"
   ]
  },
  {
   "cell_type": "code",
   "execution_count": 30,
   "id": "eb12d93f-3223-45ba-b1ee-f464da435d29",
   "metadata": {},
   "outputs": [
    {
     "data": {
      "text/plain": [
       "(275352, 1)"
      ]
     },
     "execution_count": 30,
     "metadata": {},
     "output_type": "execute_result"
    }
   ],
   "source": [
    "data.shape"
   ]
  },
  {
   "cell_type": "code",
   "execution_count": 31,
   "id": "487708eb-e410-4816-ac7c-631c7966e61c",
   "metadata": {
    "tags": []
   },
   "outputs": [
    {
     "data": {
      "text/plain": [
       "date_time\n",
       "1983-12-31    22.2\n",
       "1984-12-31    25.5\n",
       "1985-12-31    21.5\n",
       "1986-12-31    22.5\n",
       "1987-12-31    23.7\n",
       "1988-12-31    22.5\n",
       "1989-12-31    21.7\n",
       "1990-12-31    29.7\n",
       "1991-12-31    24.2\n",
       "1992-12-31    23.8\n",
       "1993-12-31    28.1\n",
       "1994-12-31    23.4\n",
       "1995-12-31    23.7\n",
       "1996-12-31    25.6\n",
       "1997-12-31    23.2\n",
       "1998-12-31    24.9\n",
       "1999-12-31    22.8\n",
       "2000-12-31    24.6\n",
       "2001-12-31    22.3\n",
       "2002-12-31    25.5\n",
       "2003-12-31    22.6\n",
       "2004-12-31    24.0\n",
       "2005-12-31    20.8\n",
       "2006-12-31    23.5\n",
       "2007-12-31    24.4\n",
       "2008-12-31    24.1\n",
       "2009-12-31    25.1\n",
       "2010-12-31    19.4\n",
       "2011-12-31    22.8\n",
       "2012-12-31    24.2\n",
       "2013-12-31    25.0\n",
       "2014-12-31    25.3\n",
       "Freq: A-DEC, Name: wind_speed, dtype: float64"
      ]
     },
     "execution_count": 31,
     "metadata": {},
     "output_type": "execute_result"
    }
   ],
   "source": [
    "max_ws = data.wind_speed.groupby(pd.Grouper(freq = \"A\")).max()\n",
    "max_ws"
   ]
  },
  {
   "cell_type": "code",
   "execution_count": 32,
   "id": "627f1334-c015-4af3-b2d8-538223c15a38",
   "metadata": {
    "tags": []
   },
   "outputs": [
    {
     "data": {
      "text/plain": [
       "<AxesSubplot:xlabel='date_time'>"
      ]
     },
     "execution_count": 32,
     "metadata": {},
     "output_type": "execute_result"
    },
    {
     "data": {
      "image/png": "[encoded data removed]",
      "text/plain": [
       "<Figure size 1152x648 with 1 Axes>"
      ]
     },
     "metadata": {
      "needs_background": "light"
     },
     "output_type": "display_data"
    }
   ],
   "source": [
    "max_ws.plot(kind = \"bar\", figsize = (16, 9))"
   ]
  },
  {
   "cell_type": "code",
   "execution_count": 33,
   "id": "24bb666c-f29e-4b31-af7c-e27210fa1add",
   "metadata": {},
   "outputs": [],
   "source": [
    "result = fevd(max_ws.values, type = \"GEV\", method = \"GMLE\")"
   ]
  },
  {
   "cell_type": "code",
   "execution_count": 34,
   "id": "8fe3980e-a4ca-4cbc-8bf0-6e1107744dd6",
   "metadata": {},
   "outputs": [
    {
     "name": "stdout",
     "output_type": "stream",
     "text": [
      "<class 'rpy2.robjects.vectors.ListVector'>\n"
     ]
    }
   ],
   "source": [
    "print(type(result))"
   ]
  },
  {
   "cell_type": "code",
   "execution_count": 35,
   "id": "74072e78-a1df-4386-8059-a5305e4be0b9",
   "metadata": {
    "tags": []
   },
   "outputs": [
    {
     "data": {
      "text/plain": [
       "'structure(list(call = (function (x, data, threshold = NULL, threshold.fun = ~1, \\n    location.fun = ~1, scale.fun = ~1, shape.fun = ~1, use.phi = FALSE, \\n    type = c(\"GEV\", \"GP\", \"PP\", \"Gumbel\", \"Exponential\"), method = c(\"MLE\", \\n        \"GMLE\", \"Bayesian\", \"Lmoments\"), initial = NULL, span, \\n    units = NULL, time.units = \"days\", period.basis = \"year\", \\n    na.action = na.fail, optim.args = NULL, priorFun = NULL, \\n    priorParams = NULL, proposalFun = NULL, proposalParams = NULL, \\n    iter = 9999, weights = 1, blocks = NULL, verbose = FALSE) \\n{\\n    if (verbose) \\n        begin.tiid <- Sys.time()\\n    out <- list()\\n    inout <- list()\\n    out$call <- match.call()\\n    if (!missing(data)) {\\n        out$data.name <- c(deparse(substitute(x)), deparse(substitute(data)))\\n    }\\n    else {\\n        out$data.name <- c(deparse(substitute(x)), \"\")\\n    }\\n    type <- match.arg(type)\\n    method <- match.arg(method)\\n    out$weights <- weights\\n    if (!missing(data)) {\\n        if (is.element(out$data.name[1], colnames(data))) {\\n            out$in.data <- TRUE\\n            wc <- out$data.name[1] == colnames(data)\\n            x <- c(data[, wc])\\n            x.fun <- ifelse(out$data.name[1] == \"substitute(x)\", \\n                deparse(x), out$data.name[1])\\n            x.fun <- formula(paste(x.fun, \"~ 1\"))\\n            out$x.fun <- x.fun\\n        }\\n        else if (is.formula(x)) {\\n            out$in.data <- TRUE\\n            x.fun <- x\\n            out$x.fun <- x.fun\\n            x <- model.response(model.frame(x.fun, data = data))\\n        }\\n        else out$in.data <- FALSE\\n        if (length(x) != nrow(data)) \\n            stop(\"fevd: data must have same number of rows as the length of x.\")\\n        if (!identical(weights, 1) && length(x) != length(weights)) \\n            stop(\"fevd: weights should be the same length as x.\")\\n        out$missing.values <- is.na(x)\\n        tmp <- cbind(x, data)\\n        tmp <- na.action(tmp)\\n        x <- tmp[, 1]\\n        data <- tmp[, -1, drop = FALSE]\\n    }\\n    else {\\n        out$missing.values <- is.na(x)\\n        if (is.formula(x)) \\n            stop(\"fevd: Must provide data argument if you supply a formula to the x argument.\")\\n        x <- na.action(x)\\n        out$in.data <- FALSE\\n    }\\n    if (!out$in.data) {\\n        data.pointer <- as.character(substitute(x))\\n        if (length(data.pointer) > 1) \\n            out$x <- x\\n        else out$data.pointer <- data.pointer\\n    }\\n    if (!is.null(blocks)) {\\n        if (type == \"PP\") {\\n            if (!is.element(\"nBlocks\", names(blocks))) {\\n                if (is.element(\"data\", names(blocks))) {\\n                  blocks$nBlocks <- nrow(blocks$data)\\n                }\\n                else stop(\"fevd: When supplying blocks, must provide \\'blocks$nBlocks\\' if \\'blocks$data\\' is  not provided.\")\\n            }\\n            if (!is.element(\"weights\", names(blocks))) \\n                blocks$weights <- 1\\n            if (!is.element(\"proportionMissing\", names(blocks))) \\n                blocks$proportionMissing <- 0\\n            if (!is.element(\"threshold\", names(blocks)) && !is.null(threshold)) {\\n                if (length(threshold) == 1) {\\n                  blocks$threshold <- threshold\\n                }\\n                else {\\n                  stop(\"fevd: No blocks$threshold specified and threshold is not constant. User must supply the threshold for each block via blocks$threshold.\")\\n                }\\n            }\\n        }\\n        else {\\n            warning(\"fevd: Blocks are used only for type \\'PP\\'; ignoring blocks argument.\")\\n            blocks <- NULL\\n        }\\n    }\\n    out$x <- x\\n    if (!missing(data)) \\n        out$cov.data <- data\\n    if (method == \"MLE\" && !is.null(priorFun)) \\n        method <- \"GMLE\"\\n    else if (method == \"GMLE\" && is.null(priorFun)) {\\n        if (shape.fun != ~1) \\n            stop(\"fevd: must supply a prior function for GMLE method when shape parameter varies.\")\\n        if (is.element(type, c(\"GEV\", \"GP\", \"PP\"))) {\\n            priorFun <- \"shapePriorBeta\"\\n            if (is.null(priorParams)) \\n                priorParams <- list(q = 6, p = 9)\\n        }\\n        else {\\n            warning(\"fevd: Using method MLE.  No default for specified arguments.\")\\n            method <- \"MLE\"\\n        }\\n    }\\n    if (method == \"GMLE\") {\\n        out$priorFun <- priorFun\\n        out$priorParams <- priorParams\\n    }\\n    out$method <- method\\n    method <- tolower(method)\\n    out$type <- type\\n    type <- tolower(type)\\n    out$period.basis <- period.basis\\n    out$optim.args <- optim.args\\n    out$units <- units\\n    if (method == \"bayesian\" && missing(use.phi)) {\\n        use.phi <- TRUE\\n        if (verbose) \\n            cat(\"\\\\n\", \"Setting use.phi argument to TRUE for greater stability in estimation (default with Bayesian method).  Use use.phi=FALSE if you prefer that.\\\\n\")\\n    }\\n    out$par.models <- list(threshold = threshold.fun, location = location.fun, \\n        scale = scale.fun, log.scale = use.phi, shape = shape.fun, \\n        term.names = list(threshold = all.vars(threshold.fun), \\n            location = all.vars(location.fun), scale = all.vars(scale.fun), \\n            shape = all.vars(shape.fun)))\\n    pars <- list()\\n    if (is.element(type, c(\"gp\", \"pp\", \"exponential\", \"beta\", \\n        \"pareto\"))) {\\n        const.thresh <- check.constant(threshold.fun) & check.constant(threshold)\\n        out$const.thresh <- const.thresh\\n    }\\n    if (is.element(type, c(\"gev\", \"pp\", \"gumbel\", \"weibull\", \\n        \"frechet\"))) {\\n        const.loc <- check.constant(location.fun)\\n        out$const.loc <- const.loc\\n    }\\n    const.scale <- check.constant(scale.fun)\\n    out$const.scale <- const.scale\\n    const.shape <- check.constant(shape.fun)\\n    out$const.shape <- const.shape\\n    if (is.element(type, c(\"pp\", \"gp\", \"exponential\", \"beta\", \\n        \"pareto\"))) {\\n        if (missing(span)) {\\n            if (is.null(blocks)) {\\n                tiden <- attributes(x)$times\\n                n <- length(x)\\n                if (is.null(tiden)) {\\n                  tiden <- 1:n\\n                  start <- 1\\n                  end <- n\\n                  span <- end - start\\n                }\\n                else {\\n                  start <- tiden[1]\\n                  end <- tiden[n]\\n                  span <- as.numeric(difftime(as.POSIXlt(tiden)[n], \\n                    as.POSIXlt(tiden)[1], units = time.units))\\n                }\\n            }\\n            else {\\n                span <- blocks$nBlocks\\n            }\\n        }\\n        if (time.units == \"days\") \\n            npy <- 365.25\\n        else if (time.units == \"months\") \\n            npy <- 12\\n        else if (time.units == \"years\") \\n            npy <- 1\\n        else if (time.units == \"hours\") \\n            npy <- 24 * 365.25\\n        else if (time.units == \"minutes\") \\n            npy <- 60 * 24 * 365.25\\n        else if (time.units == \"seconds\") \\n            npy <- 60 * 60 * 24 * 365.25\\n        else {\\n            tmp.units <- unlist(strsplit(time.units, split = \"/\"))\\n            if (length(tmp.units) != 2) \\n                stop(\"fevd: invalid time.units argument.\")\\n            numper <- as.numeric(tmp.units[1])\\n            if (is.na(numper)) \\n                stop(\"fevd: invalid time.units argument.\")\\n            pertiid <- tmp.units[2]\\n            if (!is.element(pertiid, c(\"day\", \"month\", \"year\", \\n                \"hour\", \"minute\", \"second\"))) \\n                stop(\"fevd: invalid time.units argument.\")\\n            if (pertiid == \"year\") \\n                npy <- numper\\n            else if (pertiid == \"month\") \\n                npy <- numper * 12\\n            else if (pertiid == \"day\") \\n                npy <- numper * 365.25\\n            else if (pertiid == \"hour\") \\n                npy <- numper * 24 * 365.25\\n            else if (pertiid == \"minute\") \\n                npy <- numper * 60 * 24 * 365.25\\n            else if (pertiid == \"second\") \\n                npy <- numper * 60 * 60 * 24 * 365.25\\n        }\\n        if (!is.null(blocks)) \\n            span <- span * npy\\n        out$time.units <- time.units\\n        out$span <- span/npy\\n        out$npy <- npy\\n        if (verbose) \\n            cat(\"\\\\n\", \"Data span \", span/npy, \"years\", \"\\\\n\")\\n    }\\n    else npy <- NULL\\n    n <- length(x)\\n    out$n <- n\\n    out$na.action <- deparse(substitute(na.action))\\n    if (!is.null(initial)) {\\n        if (!is.list(initial)) \\n            stop(\"fevd: initial must be NULL or a list object.\")\\n        find.init <- FALSE\\n        if (is.null(initial$location) && is.element(type, c(\"gev\", \\n            \"pp\", \"gumbel\", \"weibull\", \"frechet\"))) \\n            find.init <- TRUE\\n        if (use.phi && is.null(initial$log.scale)) \\n            find.init <- TRUE\\n        if (!use.phi && is.null(initial$scale)) \\n            find.init <- TRUE\\n        if (!is.element(type, c(\"gumbel\", \"exponential\")) && \\n            is.null(initial$shape)) \\n            find.init <- TRUE\\n    }\\n    else {\\n        initial <- list()\\n        find.init <- TRUE\\n    }\\n    if (method != \"lmoments\") {\\n        if (verbose) \\n            cat(\"Setting up parameter model design matrices.\\\\n\")\\n        designs <- list()\\n        if (!missing(data)) {\\n            if (is.element(type, c(\"gp\", \"pp\", \"exponential\", \\n                \"beta\", \"pareto\"))) \\n                X.u <- setup.design(x = threshold.fun, data = data, \\n                  n = n, dname = \"threshold.fun\")\\n            if (is.element(type, c(\"gev\", \"pp\", \"gumbel\", \"weibull\", \\n                \"frechet\"))) {\\n                X.loc <- setup.design(x = location.fun, data = data, \\n                  n = n, const = const.loc, dname = \"location.fun\")\\n                designs$X.loc <- X.loc\\n            }\\n            X.sc <- setup.design(x = scale.fun, data = data, \\n                n = n, const = const.scale, dname = \"scale.fun\")\\n            designs$X.sc <- X.sc\\n            if (!is.element(type, c(\"gumbel\", \"exponential\"))) {\\n                X.sh <- setup.design(x = shape.fun, data = data, \\n                  n = n, const = const.shape, dname = \"shape.fun\")\\n                designs$X.sh <- X.sh\\n            }\\n        }\\n        else {\\n            if (is.element(type, c(\"gp\", \"pp\", \"exponential\", \\n                \"beta\", \"pareto\"))) \\n                X.u <- setup.design(x = threshold.fun, n = n, \\n                  dname = \"threshold.fun\")\\n            if (is.element(type, c(\"gev\", \"pp\", \"gumbel\", \"weibull\", \\n                \"frechet\"))) {\\n                X.loc <- setup.design(x = location.fun, n = n, \\n                  const = const.loc, dname = \"location.fun\")\\n                designs$X.loc <- X.loc\\n            }\\n            X.sc <- setup.design(x = scale.fun, n = n, const = const.scale, \\n                dname = \"scale.fun\")\\n            designs$X.sc <- X.sc\\n            if (!is.element(type, c(\"gumbel\", \"exponential\"))) {\\n                X.sh <- setup.design(x = shape.fun, n = n, const = const.shape, \\n                  dname = \"shape.fun\")\\n                designs$X.sh <- X.sh\\n            }\\n        }\\n        if (!is.null(blocks)) {\\n            blocks$designs <- list()\\n            if (is.element(\"data\", names(blocks))) {\\n                blocks$X.u <- setup.design(x = threshold.fun, \\n                  data = blocks$data, n = blocks$nBlocks, dname = \"threshold.fun\")\\n                blocks$designs$X.loc <- setup.design(x = location.fun, \\n                  data = blocks$data, n = blocks$nBlocks, const = const.loc, \\n                  dname = \"location.fun\")\\n                blocks$designs$X.sc <- setup.design(x = scale.fun, \\n                  data = blocks$data, n = blocks$nBlocks, const = const.scale, \\n                  dname = \"scale.fun\")\\n                blocks$designs$X.sh <- setup.design(x = shape.fun, \\n                  data = blocks$data, n = blocks$nBlocks, const = const.shape, \\n                  dname = \"shape.fun\")\\n            }\\n            else {\\n                blocks$X.u <- setup.design(x = threshold.fun, \\n                  n = blocks$nBlocks, dname = \"threshold.fun\")\\n                blocks$designs$X.loc <- setup.design(x = location.fun, \\n                  n = blocks$nBlocks, const = const.loc, dname = \"location.fun\")\\n                blocks$designs$X.sc <- setup.design(x = scale.fun, \\n                  n = blocks$nBlocks, const = const.scale, dname = \"scale.fun\")\\n                blocks$designs$X.sh <- setup.design(x = shape.fun, \\n                  n = blocks$nBlocks, const = const.shape, dname = \"shape.fun\")\\n            }\\n        }\\n        if (verbose) \\n            cat(\"Parameter model design matrices set up.\\\\n\")\\n    }\\n    if (is.element(type, c(\"gp\", \"pp\", \"exponential\", \"beta\", \\n        \"pareto\"))) {\\n        if (method != \"lmoments\") \\n            threshold <- rowSums(matrix(threshold, n, ncol(X.u), \\n                byrow = TRUE) * X.u)\\n        if (!is.null(blocks)) \\n            blocks$threshold <- rowSums(matrix(blocks$threshold, \\n                blocks$nBlocks, ncol(blocks$X.u), byrow = TRUE) * \\n                blocks$X.u)\\n        excess.id <- x > threshold\\n        if (all(threshold == threshold[1])) \\n            out$threshold <- threshold[1]\\n        else out$threshold <- threshold\\n        out$rate <- mean(excess.id)\\n    }\\n    out$blocks <- blocks\\n    if (method == \"lmoments\" || find.init) {\\n        if (method == \"lmoments\") {\\n            if (verbose) \\n                cat(\"Beginning estimation procedure.\\\\n\")\\n            is.constant <- unlist(lapply(list(u = threshold, \\n                loc = location.fun, scale = scale.fun, sh = shape.fun), \\n                check.constant))\\n            if (!all(is.constant)) \\n                warning(\"fevd: For method Lmoments, this function does not handle covariates in the parameters.  Fitting w/o covariates.\")\\n            if (!is.element(type, c(\"gev\", \"gp\"))) \\n                stop(\"fevd: currently, Lmoments are only handled for estimation of GEV and GP distribution parameters.\")\\n        }\\n        xtemp <- x\\n        class(xtemp) <- \"lmoments\"\\n        ipars1 <- try(initializer(xtemp, model = type, threshold = threshold, \\n            npy = npy, blocks = blocks), silent = TRUE)\\n        if (all(class(ipars1) != \"try-error\")) {\\n            if (ipars1[\"scale\"] <= 0) \\n                ipars1[\"scale\"] <- 1e-08\\n            if (method == \"lmoments\") {\\n                out$results <- ipars1\\n                class(out) <- \"fevd\"\\n                return(out)\\n            }\\n        }\\n        else {\\n            ipars1 <- NULL\\n            if (method == \"lmoments\") \\n                stop(\"fevd: Sorry, could not find L-moments estimates.\")\\n        }\\n    }\\n    if ((method != \"lmoments\") && find.init) {\\n        xtemp <- x\\n        class(xtemp) <- \"moms\"\\n        ipars2 <- try(initializer(xtemp, model = type, threshold = threshold, \\n            npy = npy, blocks = blocks), silent = TRUE)\\n        if (all(class(ipars2) != \"try-error\")) {\\n            if (ipars2[\"scale\"] <= 0) \\n                ipars2[\"scale\"] <- 1e-08\\n        }\\n        else ipars2 <- NULL\\n        if (!is.element(type, c(\"pp\", \"gp\", \"exponential\", \"beta\", \\n            \"pareto\", \"gumbel\"))) {\\n            if (!is.null(ipars1)) \\n                testLmoments <- levd(x, location = ipars1[\"location\"], \\n                  scale = ipars1[\"scale\"], shape = ipars1[\"shape\"], \\n                  type = out$type, npy = npy)\\n            else testLmoments <- Inf\\n            if (!is.null(ipars2)) \\n                testMoments <- levd(x, location = ipars2[\"location\"], \\n                  scale = ipars2[\"scale\"], shape = ipars2[\"shape\"], \\n                  type = out$type, npy = npy)\\n            else testMoments <- Inf\\n        }\\n        else if (type == \"pp\") {\\n            if (!is.null(ipars1)) {\\n                if (!is.null(blocks)) {\\n                  blocks$location = ipars1[\"location\"]\\n                  blocks$scale = ipars1[\"scale\"]\\n                  blocks$shape = ipars1[\"shape\"]\\n                }\\n                testLmoments <- levd(x, threshold = threshold, \\n                  location = ipars1[\"location\"], scale = ipars1[\"scale\"], \\n                  shape = ipars1[\"shape\"], type = out$type, npy = npy, \\n                  blocks = blocks)\\n            }\\n            else testLmoments <- Inf\\n            if (!is.null(ipars2)) {\\n                if (!is.null(blocks)) {\\n                  blocks$location = ipars2[\"location\"]\\n                  blocks$scale = ipars2[\"scale\"]\\n                  blocks$shape = ipars2[\"shape\"]\\n                }\\n                testMoments <- levd(x, threshold = threshold, \\n                  location = ipars2[\"location\"], scale = ipars2[\"scale\"], \\n                  shape = ipars2[\"shape\"], type = out$type, npy = npy, \\n                  blocks = blocks)\\n            }\\n            else testMoments <- Inf\\n            if (!is.null(blocks)) \\n                blocks$location <- blocks$scale <- blocks$shape <- NULL\\n        }\\n        else if (!is.element(type, c(\"gumbel\", \"exponential\"))) {\\n            if (!is.null(ipars1)) \\n                testLmoments <- levd(x, threshold = threshold, \\n                  scale = ipars1[\"scale\"], shape = ipars1[\"shape\"], \\n                  type = out$type, npy = npy)\\n            else testLmoments <- Inf\\n            if (!is.null(ipars2)) \\n                testMoments <- levd(x, threshold = threshold, \\n                  scale = ipars2[\"scale\"], shape = ipars2[\"shape\"], \\n                  type = out$type, npy = npy)\\n            else testMoments <- Inf\\n        }\\n        else if (type == \"gumbel\") {\\n            if (!is.null(ipars1)) \\n                testLmoments <- levd(x, location = ipars1[\"location\"], \\n                  scale = ipars1[\"scale\"], type = out$type, npy = npy)\\n            else testLmoments <- Inf\\n            if (!is.null(ipars2)) \\n                testMoments <- levd(x, location = ipars2[\"location\"], \\n                  scale = ipars2[\"scale\"], type = out$type, npy = npy)\\n            else testMoments <- Inf\\n        }\\n        else if (type == \"exponential\") {\\n            if (!is.null(ipars1)) \\n                testLmoments <- levd(x, threshold = threshold, \\n                  scale = ipars1[\"scale\"], shape = 0, type = out$type, \\n                  npy = npy)\\n            else testLmoments <- Inf\\n            if (!is.null(ipars2)) \\n                testMoments <- levd(x, threshold = threshold, \\n                  scale = ipars2[\"scale\"], shape = 0, type = out$type, \\n                  npy = npy)\\n            else testMoments <- Inf\\n        }\\n        if (is.finite(testLmoments) || is.finite(testMoments)) {\\n            if (testLmoments < testMoments) {\\n                if (is.null(initial$location) && !is.element(type, \\n                  c(\"gp\", \"exponential\", \"beta\", \"pareto\"))) \\n                  initial$location <- ipars1[\"location\"]\\n                if (is.null(initial$log.scale) && use.phi) \\n                  initial$log.scale <- log(ipars1[\"scale\"])\\n                else if (is.null(initial$scale)) \\n                  initial$scale <- ipars1[\"scale\"]\\n                if (!is.element(type, c(\"gumbel\", \"exponential\")) && \\n                  is.null(initial$shape)) \\n                  initial$shape <- ipars1[\"shape\"]\\n                if (verbose) \\n                  cat(\"Using Lmoments estimates as initial estimates.  Initial value =\", \\n                    testLmoments, \"\\\\n\")\\n            }\\n            else {\\n                if (is.null(initial$location) && !is.element(type, \\n                  c(\"gp\", \"exponential\", \"beta\", \"pareto\"))) \\n                  initial$location <- ipars2[\"location\"]\\n                if (is.null(initial$log.scale) && use.phi) \\n                  initial$log.scale <- log(ipars2[\"scale\"])\\n                else if (is.null(initial$scale)) \\n                  initial$scale <- ipars2[\"scale\"]\\n                if (!is.element(type, c(\"gumbel\", \"exponential\")) && \\n                  is.null(initial$shape)) \\n                  initial$shape <- ipars2[\"shape\"]\\n                if (verbose) \\n                  cat(\"Initial estimates found where necessary (not from Lmoments).  Initial value =\", \\n                    testMoments, \"\\\\n\")\\n            }\\n        }\\n        else {\\n            if (is.null(initial$location) && !is.element(type, \\n                c(\"gp\", \"exponential\", \"beta\", \"pareto\"))) \\n                initial$location <- 0\\n            if (is.null(initial$log.scale) && use.phi) \\n                initial$log.scale <- 0\\n            else if (is.null(initial$scale)) \\n                initial$scale <- 1\\n            if (!is.element(type, c(\"gumbel\", \"exponential\")) && \\n                is.null(initial$shape)) \\n                initial$shape <- 0.01\\n            warning(\"fevd: L-moments and Moment initial parameter estimates could not be calculated.  Using arbitrary starting values.\")\\n        }\\n        inout <- list(Lmoments = list(pars = ipars1, likelihood = testLmoments), \\n            MOM = list(pars = ipars2, likelihood = testMoments))\\n    }\\n    if (!is.null(initial$location)) {\\n        if (ncol(X.loc) != length(initial$location)) {\\n            if ((length(initial$location) == 1) && ncol(X.loc) > \\n                1) \\n                initial$location <- c(initial$location, rep(0, \\n                  ncol(X.loc) - 1))\\n            else stop(\"fevd: initial parameter estimates must have length 1 or number of parameters present.  Incorrect number for location parameter.\")\\n        }\\n        if (length(initial$location) == 1) \\n            names(initial$location) <- \"location\"\\n        else names(initial$location) <- paste(\"mu\", 0:(ncol(X.loc) - \\n            1), sep = \"\")\\n    }\\n    if (use.phi && (ncol(X.sc) != length(initial$log.scale))) {\\n        if ((length(initial$log.scale) == 1) && ncol(X.sc) > \\n            1) \\n            initial$log.scale <- c(initial$log.scale, rep(0, \\n                ncol(X.sc) - 1))\\n        else stop(\"fevd: initial parameter estimates must have length 1 or number of parameters present.  Incorrect number for log(scale) parameter.\")\\n    }\\n    else if (!use.phi && (ncol(X.sc) != length(initial$scale))) {\\n        if ((length(initial$scale) == 1) && ncol(X.sc) > 1) \\n            initial$scale <- c(initial$scale, rep(0, ncol(X.sc) - \\n                1))\\n        else stop(\"fevd: initial parameter estimates must have length 1 or number of parameters present.  Incorrect number for scale parameter.\")\\n    }\\n    if (use.phi) {\\n        if (length(initial$log.scale) == 1) \\n            names(initial$log.scale) <- \"log.scale\"\\n        else names(initial$log.scale) <- paste(\"phi\", 0:(ncol(X.sc) - \\n            1), sep = \"\")\\n    }\\n    else {\\n        if (length(initial$scale) == 1) \\n            names(initial$scale) <- \"scale\"\\n        else names(initial$scale) <- paste(\"sigma\", 0:(ncol(X.sc) - \\n            1), sep = \"\")\\n    }\\n    if (!is.element(type, c(\"gumbel\", \"exponential\"))) {\\n        if (ncol(X.sh) != length(initial$shape)) {\\n            if ((length(initial$shape) == 1) && ncol(X.sh) > \\n                1) \\n                initial$shape <- c(initial$shape, rep(0, ncol(X.sh) - \\n                  1))\\n            else stop(\"fevd: initial parameter estimates must have length 1 or number of parameters present.  Incorrect number for shape parameter.\")\\n        }\\n        if (length(initial$shape) == 1) \\n            names(initial$shape) <- \"shape\"\\n        else names(initial$shape) <- paste(\"xi\", 0:(ncol(X.sh) - \\n            1), sep = \"\")\\n    }\\n    if (is.element(method, c(\"mle\", \"gmle\"))) {\\n        if (use.phi) \\n            init.pars <- c(initial$location, initial$log.scale, \\n                initial$shape)\\n        else init.pars <- c(initial$location, initial$scale, \\n            initial$shape)\\n        if (type == \"exponential\" && const.scale) {\\n            if (method == \"gmle\") \\n                warning(\"Method MLE used.\")\\n            res <- list()\\n            excess.id <- x > threshold\\n            mle <- mean(x[excess.id] - threshold[excess.id])\\n            names(mle) <- \"scale\"\\n            res$par <- mle\\n            k <- sum(excess.id)\\n            res$n <- k\\n            res$value <- k * (log(mle) + 1)\\n        }\\n        else {\\n            if (!is.null(a <- optim.args)) {\\n                anam <- names(a)\\n                if (!is.element(\"gr\", anam)) {\\n                  if (method == \"mle\") \\n                    opt.gr <- grlevd\\n                  else opt.gr <- NULL\\n                }\\n                else opt.gr <- a$gr\\n                if (is.null(a$method) && use.phi) \\n                  opt.method <- ifelse(is.element(type, c(\"gev\", \\n                    \"gp\", \"pp\", \"gumbel\")), \"BFGS\", \"L-BFGS-B\")\\n                else opt.method <- a$method\\n                if (is.element(type, c(\"weibull\", \"beta\", \"frechet\", \\n                  \"pareto\"))) \\n                  opt.method <- \"L-BFGS-B\"\\n                if (is.element(opt.method, c(\"L-BFGS-B\", \"Brent\"))) {\\n                  if (is.null(a$lower)) {\\n                    if (!is.element(type, c(\"frechet\", \"pareto\"))) \\n                      opt.lower <- -Inf\\n                    else opt.lower <- c(rep(-Inf, length(init.pars) - \\n                      1), 0)\\n                  }\\n                  else {\\n                    if (is.element(type, c(\"frechet\", \"pareto\"))) \\n                      opt.lower <- c(a$lower[1:(length(init.pars) - \\n                        1)], 0)\\n                    else opt.lower <- a$lower\\n                  }\\n                  if (is.null(a$upper)) {\\n                    if (!is.element(type, c(\"weibull\", \"beta\"))) \\n                      opt.upper <- Inf\\n                    else opt.upper <- c(rep(Inf, length(init.pars) - \\n                      1), 0)\\n                  }\\n                  else {\\n                    if (is.element(type, c(\"weibull\", \"beta\"))) \\n                      opt.upper <- c(a$upper[1:(length(init.pars) - \\n                        1)], 0)\\n                    else opt.upper <- a$upper\\n                  }\\n                }\\n                else {\\n                  opt.lower <- -Inf\\n                  opt.upper <- Inf\\n                }\\n                if (is.null(a$control)) \\n                  opt.control <- list()\\n                else opt.control <- a$control\\n                anam <- names(a$control)\\n                if (!is.element(\"trace\", anam) && verbose) \\n                  opt.control$trace <- 6\\n                if (is.null(a$hessian)) \\n                  opt.hessian <- TRUE\\n                else opt.hessian <- a$hessian\\n            }\\n            else {\\n                if (method == \"mle\") \\n                  opt.gr <- grlevd\\n                else opt.gr <- NULL\\n                if (is.element(type, c(\"gev\", \"gp\", \"pp\", \"gumbel\"))) \\n                  opt.method <- \"BFGS\"\\n                else opt.method <- \"L-BFGS-B\"\\n                if (!is.element(type, c(\"frechet\", \"pareto\"))) \\n                  opt.lower <- -Inf\\n                else opt.lower <- c(rep(-Inf, length(init.pars) - \\n                  1), 0)\\n                if (!is.element(type, c(\"weibull\", \"beta\"))) \\n                  opt.upper <- Inf\\n                else opt.upper <- c(rep(Inf, length(init.pars) - \\n                  1), 0)\\n                if (verbose) \\n                  opt.control <- list(trace = 6)\\n                else opt.control <- list()\\n                opt.hessian <- TRUE\\n            }\\n            parnames <- names(init.pars)\\n            out$parnames <- parnames\\n            if (verbose && (method != \"lmoments\")) {\\n                cat(\"Initial estimates are:\\\\n\")\\n                print(init.pars)\\n                cat(\"Beginning estimation procedure.\\\\n\")\\n            }\\n            if (type == \"pp\" && find.init) {\\n                if (verbose) \\n                  cat(\"\\\\n\", \"First fitting a GP-Poisson model in order to try to get a good initial estimate as PP likelihoods can be very unstable.\\\\n\")\\n                look <- out\\n                look$type <- \"GP\"\\n                des2 <- designs\\n                des2$X.loc <- NULL\\n                if (!missing(data)) \\n                  resGP <- optim(init.pars[-(1:ncol(X.loc))], \\n                    oevd, gr = opt.gr, o = look, des = des2, \\n                    x = x, data = data, u = threshold, npy = npy, \\n                    phi = use.phi, method = opt.method, lower = opt.lower, \\n                    upper = opt.upper, control = opt.control, \\n                    hessian = opt.hessian)\\n                else resGP <- optim(init.pars[-(1:ncol(X.loc))], \\n                  oevd, gr = opt.gr, o = look, des = des2, x = x, \\n                  u = threshold, npy = npy, phi = use.phi, method = opt.method, \\n                  lower = opt.lower, upper = opt.upper, control = opt.control, \\n                  hessian = opt.hessian)\\n                tmpi <- resGP$par\\n                if (is.null(blocks)) {\\n                  lrate <- npy * mean(x > threshold)\\n                }\\n                else {\\n                  lrate <- sum(x > threshold)/(blocks$nBlocks * \\n                    mean(blocks$weights))\\n                }\\n                xi3 <- tmpi[(ncol(X.sc) + 1):length(tmpi)]\\n                if (!use.phi) \\n                  sigma3 <- exp(tmpi[1:ncol(X.sc)] + xi3 * log(lrate))\\n                else sigma3 <- tmpi[1:ncol(X.sc)] + xi3 * log(lrate)\\n                lp <- lrate^(-xi3) - 1\\n                if (all(is.finite(lp))) \\n                  mu3 <- mean(threshold) - (sigma3/xi3) * lp\\n                else mu3 <- mean(x)\\n                nloc <- ncol(X.loc)\\n                if (length(mu3) < nloc) \\n                  mu3 <- c(mu3, rep(0, nloc - length(mu3)))\\n                else mu3 <- mu3[1]\\n                if (!is.null(blocks)) {\\n                  blocks$location <- rowSums(matrix(mu3, blocks$nBlocks, \\n                    nloc) * blocks$designs$X.loc)\\n                  blocks$scale = rowSums(matrix(sigma3, blocks$nBlocks, \\n                    ncol(blocks$designs$X.sc)) * blocks$designs$X.sc)\\n                  blocks$shape = rowSums(matrix(xi3, blocks$nBlocks, \\n                    ncol(blocks$designs$X.sh)) * blocks$designs$X.sh)\\n                }\\n                if (all(is.finite(c(mu3, sigma3, xi3)))) {\\n                  testGPmle <- try(levd(x = x, threshold = threshold, \\n                    location = rowSums(matrix(mu3, n, nloc) * \\n                      X.loc), scale = rowSums(matrix(sigma3, \\n                      n, ncol(X.sc)) * X.sc), shape = rowSums(matrix(xi3, \\n                      n, ncol(X.sh)) * X.sh), type = \"PP\", npy = npy, \\n                    blocks = blocks), silent = TRUE)\\n                  if (any(class(testGPmle) == \"try-error\")) \\n                    testGPmle <- Inf\\n                }\\n                else testGPmle <- Inf\\n                if (!is.null(blocks)) \\n                  blocks$location <- blocks$scale <- blocks$shape <- NULL\\n                if (is.finite(testLmoments) || is.finite(testMoments) || \\n                  is.finite(testGPmle)) {\\n                  if ((testGPmle < testLmoments) && (testGPmle < \\n                    testMoments)) {\\n                    if (verbose) \\n                      cat(\"\\\\n\", \"Changing initial estimates to those based on GP MLEs.  They are: \\\\n\")\\n                    if (use.phi) \\n                      init.pars <- c(mu3, log(sigma3), xi3)\\n                    else init.pars <- c(mu3, sigma3, xi3)\\n                    names(init.pars) <- parnames\\n                    if (verbose) \\n                      print(init.pars)\\n                  }\\n                  else if (verbose) \\n                    cat(\"\\\\n\", \"Sticking with originally chosen initial estimates.\\\\n\")\\n                }\\n                inout$PoissonGP <- list(pars = c(mu3, sigma3, \\n                  xi3), likelihood = testGPmle)\\n            }\\n            if (method == \"mle\") {\\n                if (!missing(data)) {\\n                  res <- optim(init.pars, oevd, gr = opt.gr, \\n                    o = out, des = designs, x = x, data = data, \\n                    u = threshold, span = span/npy, npy = npy, \\n                    phi = use.phi, blocks = blocks, method = opt.method, \\n                    lower = opt.lower, upper = opt.upper, control = opt.control, \\n                    hessian = opt.hessian)\\n                }\\n                else {\\n                  res <- optim(init.pars, oevd, gr = opt.gr, \\n                    o = out, des = designs, x = x, u = threshold, \\n                    span = span/npy, npy = npy, phi = use.phi, \\n                    blocks = blocks, method = opt.method, lower = opt.lower, \\n                    upper = opt.upper, control = opt.control, \\n                    hessian = opt.hessian)\\n                }\\n            }\\n            else if (method == \"gmle\") {\\n                if (!missing(data)) {\\n                  res <- optim(init.pars, oevdgen, gr = opt.gr, \\n                    o = out, des = designs, x = x, data = data, \\n                    u = threshold, span = span/npy, npy = npy, \\n                    phi = use.phi, blocks = blocks, priorFun = priorFun, \\n                    priorParams = priorParams, method = opt.method, \\n                    lower = opt.lower, upper = opt.upper, control = opt.control, \\n                    hessian = opt.hessian)\\n                }\\n                else {\\n                  res <- optim(init.pars, oevdgen, gr = opt.gr, \\n                    o = out, des = designs, x = x, u = threshold, \\n                    span = span/npy, npy = npy, phi = use.phi, \\n                    blocks = blocks, priorFun = priorFun, priorParams = priorParams, \\n                    method = opt.method, lower = opt.lower, upper = opt.upper, \\n                    control = opt.control, hessian = opt.hessian)\\n                }\\n            }\\n        }\\n        if (is.element(\"shape\", names(res$par))) {\\n            if (is.element(type, c(\"frechet\", \"pareto\"))) {\\n                res$par[\"shape\"] <- abs(res$par[\"shape\"])\\n                if (res$par[\"shape\"] == 0) {\\n                  warning(\"fevd: shape parameter estimated to be zero.  Re-setting to be 1e16.\")\\n                  res$par[\"shape\"] <- 1e+16\\n                }\\n            }\\n            else {\\n                if (is.element(type, c(\"weibull\", \"beta\"))) \\n                  res$par[\"shape\"] <- -abs(res$par[\"shape\"])\\n                if (res$par[\"shape\"] == 0) {\\n                  warning(\"fevd: shape parameter estimated to be zero.  Re-setting to be -1e16.\")\\n                  res$par[\"shape\"] <- -1e+16\\n                }\\n            }\\n        }\\n        res$num.pars <- list(location = ncol(designs$X.loc), \\n            scale = ncol(designs$X.sc), shape = ncol(designs$X.sh))\\n        out$results <- res\\n    }\\n    else if (method == \"bayesian\") {\\n        if (is.element(type, c(\"gev\", \"gumbel\", \"weibull\", \"frechet\", \\n            \"pp\"))) {\\n            nloc <- ncol(X.loc)\\n            loc.names <- names(initial$location)\\n        }\\n        else {\\n            nloc <- 0\\n            loc.names <- NULL\\n        }\\n        nsc <- ncol(X.sc)\\n        if (use.phi && is.null(initial$log.scale)) {\\n            initial$log.scale <- log(initial$scale)\\n            if (nsc == 1) \\n                names(initial$log.scale) <- \"log.scale\"\\n            else names(initial$log.scale) <- paste(\"phi\", 0:(nsc - \\n                1), sep = \"\")\\n        }\\n        sc.names <- names(initial$log.scale)\\n        if (!is.element(type, c(\"gumbel\", \"exponential\"))) {\\n            nsh <- ncol(X.sh)\\n            sh.names <- names(initial$shape)\\n        }\\n        else {\\n            nsh <- 0\\n            sh.names <- NULL\\n        }\\n        np <- nloc + nsc + nsh\\n        find.priorParams <- FALSE\\n        if (is.null(priorFun) && is.null(priorParams)) \\n            find.priorParams <- TRUE\\n        else if (is.null(priorFun) && (is.null(priorParams$m) || \\n            is.null(priorParams$v))) \\n            find.priorParams <- TRUE\\n        else if (!is.null(priorFun)) {\\n            if (priorFun == \"fevdPriorDefault\") {\\n                if (is.null(priorParams)) \\n                  find.priorParams <- TRUE\\n                else if (is.null(priorParams$m) || is.null(priorParams$v)) \\n                  find.priorParams <- TRUE\\n            }\\n        }\\n        if (is.null(priorFun) || find.priorParams) {\\n            if (is.null(priorFun)) \\n                priorFun <- \"fevdPriorDefault\"\\n            if (find.priorParams) {\\n                xtemp <- x\\n                class(xtemp) <- \"mle\"\\n                if (verbose) \\n                  cat(\"\\\\n\", \"Finding MLE to obtain prior means and variances.\\\\n\")\\n                if (missing(data)) {\\n                  if (missing(span)) \\n                    hold <- initializer(xtemp, u = threshold, \\n                      use.phi = use.phi, type = out$type, time.units = time.units, \\n                      period.basis = period.basis, blocks = blocks)\\n                  else hold <- initializer(xtemp, u = threshold, \\n                    use.phi = use.phi, type = out$type, span = span, \\n                    time.units = time.units, period.basis = period.basis, \\n                    blocks = blocks)\\n                }\\n                else {\\n                  if (missing(span)) \\n                    hold <- initializer(xtemp, data = data, u = threshold, \\n                      u.fun = threshold.fun, loc.fun = location.fun, \\n                      sc.fun = scale.fun, sh.fun = shape.fun, \\n                      use.phi = use.phi, type = out$type, time.units = time.units, \\n                      period.basis = period.basis, blocks = blocks)\\n                  else hold <- initializer(xtemp, data = data, \\n                    u = threshold, u.fun = threshold.fun, loc.fun = location.fun, \\n                    sc.fun = scale.fun, sh.fun = shape.fun, use.phi = use.phi, \\n                    type = out$type, span = span, time.units = time.units, \\n                    period.basis = period.basis, blocks = blocks)\\n                }\\n                if (is.null(priorParams)) \\n                  priorParams <- list(m = hold[1:np], v = rep(10, \\n                    np))\\n                else if (is.null(priorParams$m)) \\n                  priorParams$m <- hold[1:np]\\n                else if (is.null(priorParams$v)) \\n                  priorParams$v <- rep(10, np)\\n            }\\n        }\\n        out$priorFun <- priorFun\\n        out$priorParams <- priorParams\\n        if (is.null(proposalFun)) {\\n            proposalFun <- \"fevdProposalDefault\"\\n            if (is.null(proposalParams)) \\n                proposalParams <- list(sd = rep(0.1, np))\\n        }\\n        out$proposalFun <- proposalFun\\n        out$proposalParams <- proposalParams\\n        chain.info <- matrix(NA, iter, np + 2)\\n        colnames(chain.info) <- c(loc.names, sc.names, sh.names, \\n            \"loglik\", \"prior\")\\n        chain.info[2:iter, 1:np] <- 0\\n        res <- matrix(NA, iter, np + 1)\\n        res[, np + 1] <- 0\\n        colnames(res) <- c(loc.names, sc.names, sh.names, \"new\")\\n        if (nloc > 0) \\n            res[1, 1:nloc] <- initial$location\\n        if (use.phi) \\n            res[1, (nloc + 1):(nloc + nsc)] <- initial$log.scale\\n        else res[1, (nloc + 1):(nloc + nsc)] <- initial$scale\\n        if (type != \"Gumbel\") \\n            res[1, (nloc + nsc + 1):np] <- initial$shape\\n        theta.i <- res[1, 1:np]\\n        if (verbose) {\\n            cat(\"\\\\n\", \"Finding log-Likelihood of initial parameter values:\\\\n\")\\n            print(theta.i)\\n        }\\n        if (!missing(data)) \\n            ll.i <- -oevd(p = res[1, ], o = out, des = designs, \\n                x = x, data = data, u = threshold, span = span, \\n                npy = npy, phi = use.phi, blocks = blocks)\\n        else ll.i <- -oevd(p = res[1, ], o = out, des = designs, \\n            x = x, u = threshold, span = span, npy = npy, phi = use.phi, \\n            blocks = blocks)\\n        if (verbose) \\n            cat(\"\\\\n\", \"Finding prior df value of initial parameter values.\\\\n\")\\n        p.i <- do.call(priorFun, c(list(theta = theta.i), priorParams))\\n        chain.info[1, np + 1] <- ll.i\\n        chain.info[1, np + 2] <- p.i\\n        if (verbose) \\n            cat(\"\\\\n\", \"Beginning the MCMC iterations (\", iter, \\n                \" total iterations)\\\\n\")\\n        for (i in 2:iter) {\\n            if (verbose && i <= 10) \\n                cat(i, \" \")\\n            if (verbose && i%%100 == 0) \\n                cat(i, \" \")\\n            ord <- sample(1:np, np)\\n            theta.star <- theta.i\\n            acc <- 0\\n            for (j in ord) {\\n                par.star <- do.call(proposalFun, c(list(p = theta.i, \\n                  ind = j), proposalParams))\\n                theta.star[j] <- par.star[j]\\n                if (!missing(data)) \\n                  ll.star <- -oevd(p = theta.star, o = out, des = designs, \\n                    x = x, data = data, u = threshold, span = span, \\n                    npy = npy, phi = use.phi, blocks = blocks)\\n                else ll.star <- -oevd(p = theta.star, o = out, \\n                  des = designs, x = x, u = threshold, span = span, \\n                  npy = npy, phi = use.phi, blocks = blocks)\\n                prior.star <- do.call(priorFun, c(list(theta = theta.star), \\n                  priorParams))\\n                look <- will.accept(ll.i = ll.i, prior.i = p.i, \\n                  ll.star = ll.star, prior.star = prior.star, \\n                  log = TRUE)\\n                if (look$accept) {\\n                  p.i <- prior.star\\n                  ll.i <- ll.star\\n                  theta.i <- theta.star\\n                  acc <- acc + 1\\n                  chain.info[i, j] <- 1\\n                }\\n            }\\n            res[i, ] <- c(theta.i, acc)\\n            chain.info[i, (np + 1):(np + 2)] <- c(ll.i, p.i)\\n        }\\n        if (verbose) \\n            cat(\"\\\\n\", \"Finished MCMC iterations.\\\\n\")\\n        out$results <- res\\n        out$chain.info <- chain.info\\n    }\\n    else stop(\"fevd: invalid method argument.\")\\n    out$initial.results <- inout\\n    if (verbose) \\n        print(Sys.time() - begin.tiid)\\n    if (method == \"GMLE\") \\n        cl <- \"mle\"\\n    else cl <- tolower(method)\\n    class(out) <- \"fevd\"\\n    return(out)\\n})(x = structure(c(22.2, 25.5, 21.5, 22.5, 23.7, 22.5, 21.7, \\n29.7, 24.2, 23.8, 28.1, 23.4, 23.7, 25.6, 23.2, 24.9, 22.8, 24.6, \\n22.3, 25.5, 22.6, 24, 20.8, 23.5, 24.4, 24.1, 25.1, 19.4, 22.8, \\n24.2, 25, 25.3), dim = 32L), type = \"GEV\", method = \"GMLE\"), \\n    data.name = c(\"structure(c(22.2, 25.5, 21.5, 22.5, 23.7, 22.5, 21.7, 29.7, 24.2, \", \\n    \"23.8, 28.1, 23.4, 23.7, 25.6, 23.2, 24.9, 22.8, 24.6, 22.3, 25.5, \", \\n    \"22.6, 24, 20.8, 23.5, 24.4, 24.1, 25.1, 19.4, 22.8, 24.2, 25, \", \\n    \"25.3), dim = 32L)\", \"\"), weights = 1, missing.values = structure(c(FALSE, \\n    FALSE, FALSE, FALSE, FALSE, FALSE, FALSE, FALSE, FALSE, FALSE, \\n    FALSE, FALSE, FALSE, FALSE, FALSE, FALSE, FALSE, FALSE, FALSE, \\n    FALSE, FALSE, FALSE, FALSE, FALSE, FALSE, FALSE, FALSE, FALSE, \\n    FALSE, FALSE, FALSE, FALSE), dim = 32L), in.data = FALSE, \\n    x = structure(c(22.2, 25.5, 21.5, 22.5, 23.7, 22.5, 21.7, \\n    29.7, 24.2, 23.8, 28.1, 23.4, 23.7, 25.6, 23.2, 24.9, 22.8, \\n    24.6, 22.3, 25.5, 22.6, 24, 20.8, 23.5, 24.4, 24.1, 25.1, \\n    19.4, 22.8, 24.2, 25, 25.3), dim = 32L), priorFun = \"shapePriorBeta\", \\n    priorParams = list(q = 6, p = 9), method = \"GMLE\", type = \"GEV\", \\n    period.basis = \"year\", par.models = list(threshold = ~1, \\n        location = ~1, scale = ~1, log.scale = FALSE, shape = ~1, \\n        term.names = list(threshold = character(0), location = character(0), \\n            scale = character(0), shape = character(0))), const.loc = TRUE, \\n    const.scale = TRUE, const.shape = TRUE, n = 32L, na.action = \"na.fail\", \\n    parnames = c(\"location\", \"scale\", \"shape\"), results = list(\\n        par = c(location = 23.0639415199156, scale = 1.75769128742863, \\n        shape = -0.162881636771479), value = 10000000000000066, \\n        counts = c(\"function\" = 1L, gradient = 1L), convergence = 0L, \\n        message = NULL, hessian = structure(c(0, 0, 0, 0, 0, \\n        0, 0, 0, 0), dim = c(3L, 3L), dimnames = list(c(\"location\", \\n        \"scale\", \"shape\"), c(\"location\", \"scale\", \"shape\"))), \\n        num.pars = list(location = 1L, scale = 1L, shape = 1L)), \\n    initial.results = list(Lmoments = list(pars = c(location = 23.0639415199156, \\n    scale = 1.75769128742863, shape = -0.162881636771479), likelihood = 66.2886786031611), \\n        MOM = list(pars = c(location = 22.9433834602779, scale = 0.430597962257221, \\n        shape = 1e-08), likelihood = 4001.38677846343))), class = \"fevd\")'"
      ]
     },
     "execution_count": 35,
     "metadata": {},
     "output_type": "execute_result"
    }
   ],
   "source": [
    "result.r_repr()"
   ]
  },
  {
   "cell_type": "code",
   "execution_count": 36,
   "id": "acfc9f51-8257-4846-b703-d359d5fe0445",
   "metadata": {},
   "outputs": [
    {
     "name": "stdout",
     "output_type": "stream",
     "text": [
      " [1] \"call\"            \"data.name\"       \"weights\"         \"missing.values\" \n",
      " [5] \"in.data\"         \"x\"               \"priorFun\"        \"priorParams\"    \n",
      " [9] \"method\"          \"type\"            \"period.basis\"    \"par.models\"     \n",
      "[13] \"const.loc\"       \"const.scale\"     \"const.shape\"     \"n\"              \n",
      "[17] \"na.action\"       \"parnames\"        \"results\"         \"initial.results\"\n",
      "\n"
     ]
    }
   ],
   "source": [
    "print(result.names)"
   ]
  },
  {
   "cell_type": "code",
   "execution_count": 37,
   "id": "2db06ab6-6a35-4c53-97a0-9e885bb89499",
   "metadata": {},
   "outputs": [
    {
     "name": "stdout",
     "output_type": "stream",
     "text": [
      "$par\n",
      "  location      scale      shape \n",
      "23.0639415  1.7576913 -0.1628816 \n",
      "\n",
      "$value\n",
      "[1] 1e+16\n",
      "\n",
      "$counts\n",
      "function gradient \n",
      "       1        1 \n",
      "\n",
      "$convergence\n",
      "[1] 0\n",
      "\n",
      "$message\n",
      "NULL\n",
      "\n",
      "$hessian\n",
      "         location scale shape\n",
      "location        0     0     0\n",
      "scale           0     0     0\n",
      "shape           0     0     0\n",
      "\n",
      "$num.pars\n",
      "$num.pars$location\n",
      "[1] 1\n",
      "\n",
      "$num.pars$scale\n",
      "[1] 1\n",
      "\n",
      "$num.pars$shape\n",
      "[1] 1\n",
      "\n",
      "\n",
      "\n"
     ]
    }
   ],
   "source": [
    "res = result.rx(\"results\")\n",
    "print(res[0])"
   ]
  },
  {
   "cell_type": "code",
   "execution_count": 38,
   "id": "4229c238-dd2b-461c-8af2-9b15dcdb708c",
   "metadata": {},
   "outputs": [],
   "source": [
    "loc, scale, shape = res[0].rx(\"par\")[0]"
   ]
  },
  {
   "cell_type": "code",
   "execution_count": 39,
   "id": "9ec51f78-ab32-4af5-ac4b-9defe4dd41d6",
   "metadata": {},
   "outputs": [
    {
     "data": {
      "text/plain": [
       "23.063941519915588"
      ]
     },
     "execution_count": 39,
     "metadata": {},
     "output_type": "execute_result"
    }
   ],
   "source": [
    "loc"
   ]
  },
  {
   "cell_type": "code",
   "execution_count": 40,
   "id": "2b5cde4a-7da2-4a2f-a304-6c6c07640118",
   "metadata": {},
   "outputs": [
    {
     "data": {
      "text/plain": [
       "1.7576912874286317"
      ]
     },
     "execution_count": 40,
     "metadata": {},
     "output_type": "execute_result"
    }
   ],
   "source": [
    "scale"
   ]
  },
  {
   "cell_type": "code",
   "execution_count": 41,
   "id": "cb4ee3ce-33a2-4ac9-bdbf-fc33b9790656",
   "metadata": {},
   "outputs": [
    {
     "data": {
      "text/plain": [
       "-0.1628816367714792"
      ]
     },
     "execution_count": 41,
     "metadata": {},
     "output_type": "execute_result"
    }
   ],
   "source": [
    "shape"
   ]
  },
  {
   "cell_type": "markdown",
   "id": "443710d3-2099-4331-bcbc-9973ba21828e",
   "metadata": {},
   "source": [
    "## Función mágica para R"
   ]
  },
  {
   "cell_type": "code",
   "execution_count": 42,
   "id": "326dceb7-c104-47e4-b300-df1c1826f2e3",
   "metadata": {},
   "outputs": [
    {
     "name": "stderr",
     "output_type": "stream",
     "text": [
      "C:\\Users\\mudar\\anaconda3\\envs\\prueba\\lib\\site-packages\\rpy2\\robjects\\packages.py:367: UserWarning: The symbol 'quartz' is not in this R namespace/package.\n",
      "  \"The symbol '%s' is not in this R namespace/package.\" % name\n"
     ]
    }
   ],
   "source": [
    "%load_ext rpy2.ipython"
   ]
  },
  {
   "cell_type": "code",
   "execution_count": 43,
   "id": "59f57421-d4f3-4ea4-bc6a-5bdd0e4f4a1e",
   "metadata": {},
   "outputs": [
    {
     "name": "stdout",
     "output_type": "stream",
     "text": [
      "Help on function R in module rpy2.ipython.rmagic:\n",
      "\n",
      "R(self, line, cell=None, local_ns=None)\n",
      "    ::\n",
      "    \n",
      "      %R [-i INPUT] [-o OUTPUT] [-n] [-w WIDTH] [-h HEIGHT] [-p POINTSIZE]\n",
      "             [-b BG] [--noisolation] [-u {px,in,cm,mm}] [-r RES]\n",
      "             [--type {cairo,cairo-png,Xlib,quartz}] [-c CONVERTER] [-d DISPLAY]\n",
      "             [code [code ...]]\n",
      "    \n",
      "    Execute code in R, optionally returning results to the Python runtime.\n",
      "    \n",
      "    In line mode, this will evaluate an expression and convert the returned\n",
      "    value to a Python object.  The return value is determined by rpy2's\n",
      "    behaviour of returning the result of evaluating the final expression.\n",
      "    \n",
      "    Multiple R expressions can be executed by joining them with\n",
      "    semicolons::\n",
      "    \n",
      "        In [9]: %R X=c(1,4,5,7); sd(X); mean(X)\n",
      "        Out[9]: array([ 4.25])\n",
      "    \n",
      "    In cell mode, this will run a block of R code. The resulting value\n",
      "    is printed if it would be printed when evaluating the same code\n",
      "    within a standard R REPL.\n",
      "    \n",
      "    Nothing is returned to python by default in cell mode::\n",
      "    \n",
      "        In [10]: %%R\n",
      "           ....: Y = c(2,4,3,9)\n",
      "           ....: summary(lm(Y~X))\n",
      "    \n",
      "        Call:\n",
      "        lm(formula = Y ~ X)\n",
      "    \n",
      "        Residuals:\n",
      "            1     2     3     4\n",
      "         0.88 -0.24 -2.28  1.64\n",
      "    \n",
      "        Coefficients:\n",
      "                    Estimate Std. Error t value Pr(>|t|)\n",
      "        (Intercept)   0.0800     2.3000   0.035    0.975\n",
      "        X             1.0400     0.4822   2.157    0.164\n",
      "    \n",
      "        Residual standard error: 2.088 on 2 degrees of freedom\n",
      "        Multiple R-squared: 0.6993,Adjusted R-squared: 0.549\n",
      "        F-statistic: 4.651 on 1 and 2 DF,  p-value: 0.1638\n",
      "    \n",
      "    In the notebook, plots are published as the output of the cell::\n",
      "    \n",
      "        %R plot(X, Y)\n",
      "    \n",
      "    will create a scatter plot of X bs Y.\n",
      "    \n",
      "    If cell is not None and line has some R code, it is prepended to\n",
      "    the R code in cell.\n",
      "    \n",
      "    Objects can be passed back and forth between rpy2 and python via the\n",
      "    -i -o flags in line::\n",
      "    \n",
      "        In [14]: Z = np.array([1,4,5,10])\n",
      "    \n",
      "        In [15]: %R -i Z mean(Z)\n",
      "        Out[15]: array([ 5.])\n",
      "    \n",
      "        In [16]: %R -o W W=Z*mean(Z)\n",
      "        Out[16]: array([  5.,  20.,  25.,  50.])\n",
      "    \n",
      "        In [17]: W\n",
      "        Out[17]: array([  5.,  20.,  25.,  50.])\n",
      "    \n",
      "    The return value is determined by these rules:\n",
      "    \n",
      "    * If the cell is not None (i.e., has contents), the magic returns None.\n",
      "    \n",
      "    * If the final line results in a NULL value when evaluated\n",
      "      by rpy2, then None is returned.\n",
      "    \n",
      "    * No attempt is made to convert the final value to a structured array.\n",
      "      Use %Rget to push a structured array.\n",
      "    \n",
      "    * If the -n flag is present, there is no return value.\n",
      "    \n",
      "    * A trailing ';' will also result in no return value as the last\n",
      "      value in the line is an empty string.\n",
      "    \n",
      "    optional arguments:\n",
      "      -i INPUT, --input INPUT\n",
      "                            Names of input variable from `shell.user_ns` to be\n",
      "                            assigned to R variables of the same names after using\n",
      "                            the Converter self.converter. Multiple names can be\n",
      "                            passed separated only by commas with no whitespace.\n",
      "      -o OUTPUT, --output OUTPUT\n",
      "                            Names of variables to be pushed from rpy2 to\n",
      "                            `shell.user_ns` after executing cell body (rpy2's\n",
      "                            internal facilities will apply ri2ro as appropriate).\n",
      "                            Multiple names can be passed separated only by commas\n",
      "                            with no whitespace.\n",
      "      -n, --noreturn        Force the magic to not return anything.\n",
      "    \n",
      "    Plot:\n",
      "      Arguments to plotting device\n",
      "    \n",
      "      -w WIDTH, --width WIDTH\n",
      "                            Width of plotting device in R.\n",
      "      -h HEIGHT, --height HEIGHT\n",
      "                            Height of plotting device in R.\n",
      "      -p POINTSIZE, --pointsize POINTSIZE\n",
      "                            Pointsize of plotting device in R.\n",
      "      -b BG, --bg BG        Background of plotting device in R.\n",
      "    \n",
      "    SVG:\n",
      "      SVG specific arguments\n",
      "    \n",
      "      --noisolation         Disable SVG isolation in the Notebook. By default,\n",
      "                            SVGs are isolated to avoid namespace collisions\n",
      "                            between figures. Disabling SVG isolation allows to\n",
      "                            reference previous figures or share CSS rules across a\n",
      "                            set of SVGs.\n",
      "    \n",
      "    PNG:\n",
      "      PNG specific arguments\n",
      "    \n",
      "      -u <{px,in,cm,mm}>, --units <{px,in,cm,mm}>\n",
      "                            Units of png plotting device sent as an argument to\n",
      "                            *png* in R. One of [\"px\", \"in\", \"cm\", \"mm\"].\n",
      "      -r RES, --res RES     Resolution of png plotting device sent as an argument\n",
      "                            to *png* in R. Defaults to 72 if *units* is one of\n",
      "                            [\"in\", \"cm\", \"mm\"].\n",
      "      --type <{cairo,cairo-png,Xlib,quartz}>\n",
      "                            Type device used to generate the figure.\n",
      "      -c CONVERTER, --converter CONVERTER\n",
      "                            Name of local converter to use. A converter contains\n",
      "                            the rules to convert objects back and forth between\n",
      "                            Python and R. If not specified/None, the defaut\n",
      "                            converter for the magic's module is used (that is\n",
      "                            rpy2's default converter + numpy converter + pandas\n",
      "                            converter if all three are available).\n",
      "      -d DISPLAY, --display DISPLAY\n",
      "                            Name of function to use to display the output of an R\n",
      "                            cell (the last object or function call that does not\n",
      "                            have a left-hand side assignment). That function will\n",
      "                            have the signature `(robject, args)` where `robject`\n",
      "                            is the R objects that is an output of the cell, and\n",
      "                            `args` a namespace with all parameters passed to the\n",
      "                            cell.\n",
      "      code\n",
      "\n"
     ]
    }
   ],
   "source": [
    "help(rpy2.ipython.rmagic.RMagics.R)"
   ]
  },
  {
   "cell_type": "code",
   "execution_count": 44,
   "id": "14635417-042a-4bf0-a2d5-5a1415032dbd",
   "metadata": {},
   "outputs": [
    {
     "data": {
      "text/plain": [
       "array([4.25])"
      ]
     },
     "execution_count": 44,
     "metadata": {},
     "output_type": "execute_result"
    }
   ],
   "source": [
    "%R X = c(1, 4, 5, 7); sd(X); mean(X)"
   ]
  },
  {
   "cell_type": "code",
   "execution_count": 45,
   "id": "1cd121ba-2e57-4115-8820-e398e14e229e",
   "metadata": {},
   "outputs": [
    {
     "name": "stdout",
     "output_type": "stream",
     "text": [
      "\n",
      "Call:\n",
      "lm(formula = Y ~ X)\n",
      "\n",
      "Residuals:\n",
      "    1     2     3     4 \n",
      " 0.88 -0.24 -2.28  1.64 \n",
      "\n",
      "Coefficients:\n",
      "            Estimate Std. Error t value Pr(>|t|)\n",
      "(Intercept)   0.0800     2.3000   0.035    0.975\n",
      "X             1.0400     0.4822   2.157    0.164\n",
      "\n",
      "Residual standard error: 2.088 on 2 degrees of freedom\n",
      "Multiple R-squared:  0.6993,\tAdjusted R-squared:  0.549 \n",
      "F-statistic: 4.651 on 1 and 2 DF,  p-value: 0.1638\n",
      "\n"
     ]
    }
   ],
   "source": [
    "%%R\n",
    "Y = c(2, 4, 3, 9)\n",
    "lm = lm(Y~X)\n",
    "summary(lm)"
   ]
  },
  {
   "cell_type": "code",
   "execution_count": 46,
   "id": "2fef985f-ded4-4be5-ab76-9b4e6e5fe713",
   "metadata": {},
   "outputs": [
    {
     "data": {
      "image/png": "[encoded data removed]"
     },
     "metadata": {},
     "output_type": "display_data"
    }
   ],
   "source": [
    "%R -i result plot.fevd(result)"
   ]
  },
  {
   "cell_type": "code",
   "execution_count": 47,
   "id": "3d467675-4d65-44bc-baa7-4bff5b7a57ab",
   "metadata": {},
   "outputs": [
    {
     "data": {
      "image/png": "[encoded data removed]"
     },
     "metadata": {},
     "output_type": "display_data"
    },
    {
     "data": {
      "text/html": [
       "\n",
       "        <span>ListVector with 6 elements.</span>\n",
       "        <table>\n",
       "        <tbody>\n",
       "        \n",
       "          <tr>\n",
       "            <th>\n",
       "            breaks\n",
       "            </th>\n",
       "            <td>\n",
       "            <rpy2.rinterface.FloatSexpVector object at 0x00000222282A9DC8> [RTYPES.REALSXP]\n",
       "            </td>\n",
       "          </tr>\n",
       "        \n",
       "          <tr>\n",
       "            <th>\n",
       "            counts\n",
       "            </th>\n",
       "            <td>\n",
       "            <rpy2.rinterface.IntSexpVector object at 0x000002222244B448> [RTYPES.INTSXP]\n",
       "            </td>\n",
       "          </tr>\n",
       "        \n",
       "          <tr>\n",
       "            <th>\n",
       "            density\n",
       "            </th>\n",
       "            <td>\n",
       "            <rpy2.rinterface.FloatSexpVector object at 0x0000022222400308> [RTYPES.REALSXP]\n",
       "            </td>\n",
       "          </tr>\n",
       "        \n",
       "          <tr>\n",
       "            <th>\n",
       "            mids\n",
       "            </th>\n",
       "            <td>\n",
       "            <rpy2.rinterface.FloatSexpVector object at 0x0000022222400A48> [RTYPES.REALSXP]\n",
       "            </td>\n",
       "          </tr>\n",
       "        \n",
       "          <tr>\n",
       "            <th>\n",
       "            xname\n",
       "            </th>\n",
       "            <td>\n",
       "            <rpy2.rinterface_lib.sexp.StrSexpVector object at 0x00000222224003C8> [RTYPES.STRSXP]\n",
       "            </td>\n",
       "          </tr>\n",
       "        \n",
       "          <tr>\n",
       "            <th>\n",
       "            equidist\n",
       "            </th>\n",
       "            <td>\n",
       "            <rpy2.rinterface.BoolSexpVector object at 0x00000222224005C8> [RTYPES.LGLSXP]\n",
       "            </td>\n",
       "          </tr>\n",
       "        \n",
       "        </tbody>\n",
       "        </table>\n",
       "        "
      ],
      "text/plain": [
       "<rpy2.robjects.vectors.ListVector object at 0x0000022221FA3488> [RTYPES.VECSXP]\n",
       "R classes: ('histogram',)\n",
       "[Float..., IntSe..., Float..., Float..., StrSe..., BoolS...]\n",
       "  breaks: <class 'rpy2.rinterface.FloatSexpVector'>\n",
       "  <rpy2.rinterface.FloatSexpVector object at 0x0000022222418B48> [RTYPES.REALSXP]\n",
       "  counts: <class 'rpy2.rinterface.IntSexpVector'>\n",
       "  <rpy2.rinterface.IntSexpVector object at 0x0000022222418648> [RTYPES.INTSXP]\n",
       "  density: <class 'rpy2.rinterface.FloatSexpVector'>\n",
       "  <rpy2.rinterface.FloatSexpVector object at 0x0000022222418508> [RTYPES.REALSXP]\n",
       "  mids: <class 'rpy2.rinterface.FloatSexpVector'>\n",
       "  <rpy2.rinterface.FloatSexpVector object at 0x00000222282CBD88> [RTYPES.REALSXP]\n",
       "  xname: <class 'rpy2.rinterface_lib.sexp.StrSexpVector'>\n",
       "  <rpy2.rinterface_lib.sexp.StrSexpVector object at 0x0000022222400888> [RTYPES.STRSXP]\n",
       "  equidist: <class 'rpy2.rinterface.BoolSexpVector'>\n",
       "  <rpy2.rinterface.BoolSexpVector object at 0x0000022222400108> [RTYPES.LGLSXP]"
      ]
     },
     "execution_count": 47,
     "metadata": {},
     "output_type": "execute_result"
    }
   ],
   "source": [
    "%R -i var_from_python hist(var_from_python)"
   ]
  },
  {
   "cell_type": "code",
   "execution_count": 48,
   "id": "b3df6683-e0ea-41b7-ac2e-db61f2213c3f",
   "metadata": {},
   "outputs": [],
   "source": [
    "# En los notebooks de Jupyter se cuelga cuando se te abre la ventana con el plot\n",
    "#ro.globalenv[\"result\"] = result\n",
    "#ro.r(\"plot.fevd(result)\") # Puede dar error y generar un objeto rpy2.rinterface.NULL"
   ]
  },
  {
   "cell_type": "markdown",
   "id": "191f0755-b086-440e-981f-4e19c3278c26",
   "metadata": {},
   "source": [
    "## Un ejemplo complejo de R, Python y Rmagic"
   ]
  },
  {
   "cell_type": "code",
   "execution_count": 49,
   "id": "49606f67-3e07-47e0-85d1-8e01eddd3d36",
   "metadata": {},
   "outputs": [],
   "source": [
    "metodos = [\"MLE\", \"GMLE\"]\n",
    "# La siguiente línea salta error con el método Bayesian y Lmoments\n",
    "#metodos = [\"MLE\", \"GMLE\", \"Bayesian\", \"Lmoments\"]\n",
    "tipo = [\"GEV\", \"Gumbel\"]"
   ]
  },
  {
   "cell_type": "code",
   "execution_count": 50,
   "id": "5de37540-d135-4e80-bfb8-a08ef771b8d0",
   "metadata": {},
   "outputs": [
    {
     "name": "stdout",
     "output_type": "stream",
     "text": [
      "Tipo de ajuste:  GEV\n",
      "Método del ajuste:  MLE\n",
      "$par\n",
      "  location      scale      shape \n",
      "23.0517078  1.8085853 -0.1497984 \n",
      "\n",
      "$value\n",
      "[1] 66.22729\n",
      "\n",
      "$counts\n",
      "function gradient \n",
      "      28        6 \n",
      "\n",
      "$convergence\n",
      "[1] 0\n",
      "\n",
      "$message\n",
      "NULL\n",
      "\n",
      "$hessian\n",
      "           location      scale     shape\n",
      "location  9.1825628 -0.3982934  11.22038\n",
      "scale    -0.3982934 21.4422632  19.81854\n",
      "shape    11.2203805 19.8185358 172.17411\n",
      "\n",
      "$num.pars\n",
      "$num.pars$location\n",
      "[1] 1\n",
      "\n",
      "$num.pars$scale\n",
      "[1] 1\n",
      "\n",
      "$num.pars$shape\n",
      "[1] 1\n",
      "\n",
      "\n",
      "\n"
     ]
    },
    {
     "data": {
      "image/png": "[encoded data removed]"
     },
     "metadata": {},
     "output_type": "display_data"
    },
    {
     "name": "stdout",
     "output_type": "stream",
     "text": [
      "Tipo de ajuste:  GEV\n",
      "Método del ajuste:  GMLE\n",
      "$par\n",
      "  location      scale      shape \n",
      "23.0639415  1.7576913 -0.1628816 \n",
      "\n",
      "$value\n",
      "[1] 1e+16\n",
      "\n",
      "$counts\n",
      "function gradient \n",
      "       1        1 \n",
      "\n",
      "$convergence\n",
      "[1] 0\n",
      "\n",
      "$message\n",
      "NULL\n",
      "\n",
      "$hessian\n",
      "         location scale shape\n",
      "location        0     0     0\n",
      "scale           0     0     0\n",
      "shape           0     0     0\n",
      "\n",
      "$num.pars\n",
      "$num.pars$location\n",
      "[1] 1\n",
      "\n",
      "$num.pars$scale\n",
      "[1] 1\n",
      "\n",
      "$num.pars$shape\n",
      "[1] 1\n",
      "\n",
      "\n",
      "\n"
     ]
    },
    {
     "data": {
      "image/png": "[encoded data removed]"
     },
     "metadata": {},
     "output_type": "display_data"
    },
    {
     "name": "stdout",
     "output_type": "stream",
     "text": [
      "Tipo de ajuste:  Gumbel\n",
      "Método del ajuste:  MLE\n",
      "$par\n",
      " location     scale \n",
      "22.905876  1.814452 \n",
      "\n",
      "$value\n",
      "[1] 67.38487\n",
      "\n",
      "$counts\n",
      "function gradient \n",
      "      14        5 \n",
      "\n",
      "$convergence\n",
      "[1] 0\n",
      "\n",
      "$message\n",
      "NULL\n",
      "\n",
      "$hessian\n",
      "          location     scale\n",
      "location  9.719762 -4.762621\n",
      "scale    -4.762621 21.535378\n",
      "\n",
      "$num.pars\n",
      "$num.pars$location\n",
      "[1] 1\n",
      "\n",
      "$num.pars$scale\n",
      "[1] 1\n",
      "\n",
      "$num.pars$shape\n",
      "NULL\n",
      "\n",
      "\n",
      "\n"
     ]
    },
    {
     "data": {
      "image/png": "[encoded data removed]"
     },
     "metadata": {},
     "output_type": "display_data"
    },
    {
     "name": "stdout",
     "output_type": "stream",
     "text": [
      "Tipo de ajuste:  Gumbel\n",
      "Método del ajuste:  GMLE\n",
      "$par\n",
      " location     scale \n",
      "22.905876  1.814452 \n",
      "\n",
      "$value\n",
      "[1] 67.38487\n",
      "\n",
      "$counts\n",
      "function gradient \n",
      "      14        5 \n",
      "\n",
      "$convergence\n",
      "[1] 0\n",
      "\n",
      "$message\n",
      "NULL\n",
      "\n",
      "$hessian\n",
      "          location     scale\n",
      "location  9.719762 -4.762621\n",
      "scale    -4.762621 21.535378\n",
      "\n",
      "$num.pars\n",
      "$num.pars$location\n",
      "[1] 1\n",
      "\n",
      "$num.pars$scale\n",
      "[1] 1\n",
      "\n",
      "$num.pars$shape\n",
      "NULL\n",
      "\n",
      "\n",
      "\n"
     ]
    },
    {
     "data": {
      "image/png": "[encoded data removed]"
     },
     "metadata": {},
     "output_type": "display_data"
    }
   ],
   "source": [
    "for t in tipo:\n",
    "    for m in metodos:\n",
    "        print(\"Tipo de ajuste: \", t)\n",
    "        print(\"Método del ajuste: \", m)\n",
    "        result = fevd(max_ws.values, method = m, type = t)\n",
    "        print(result.rx(\"results\")[0])\n",
    "        %R -i result plot.fevd(result)"
   ]
  }
 ],
 "metadata": {
  "kernelspec": {
   "display_name": "Python 3 (ipykernel)",
   "language": "python",
   "name": "python3"
  },
  "language_info": {
   "codemirror_mode": {
    "name": "ipython",
    "version": 3
   },
   "file_extension": ".py",
   "mimetype": "text/x-python",
   "name": "python",
   "nbconvert_exporter": "python",
   "pygments_lexer": "ipython3",
   "version": "3.7.13"
  }
 },
 "nbformat": 4,
 "nbformat_minor": 5
}
