{
 "cells": [
  {
   "cell_type": "markdown",
   "id": "6c8f18bd-8822-4ac2-8d92-5bef07b52c60",
   "metadata": {},
   "source": [
    "# Implementación del método de la máxima verosimilitud para la regresión logística"
   ]
  },
  {
   "cell_type": "code",
   "execution_count": null,
   "id": "c28c7c71-4d4a-4cc3-8882-cf2f7d5ee804",
   "metadata": {},
   "outputs": [],
   "source": []
  }
 ],
 "metadata": {
  "kernelspec": {
   "display_name": "Python 3 (ipykernel)",
   "language": "python",
   "name": "python3"
  },
  "language_info": {
   "codemirror_mode": {
    "name": "ipython",
    "version": 3
   },
   "file_extension": ".py",
   "mimetype": "text/x-python",
   "name": "python",
   "nbconvert_exporter": "python",
   "pygments_lexer": "ipython3",
   "version": "3.7.13"
  }
 },
 "nbformat": 4,
 "nbformat_minor": 5
}
