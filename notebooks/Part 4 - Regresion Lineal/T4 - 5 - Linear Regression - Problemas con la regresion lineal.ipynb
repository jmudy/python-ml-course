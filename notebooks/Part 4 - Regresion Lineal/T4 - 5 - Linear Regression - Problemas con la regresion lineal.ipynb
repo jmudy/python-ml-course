{
 "cells": [
  {
   "cell_type": "markdown",
   "id": "bbe99168-22fb-4519-9b27-1388aabd0de0",
   "metadata": {
    "tags": []
   },
   "source": [
    "# Tratamiento de variables categóricas"
   ]
  },
  {
   "cell_type": "code",
   "execution_count": 1,
   "id": "36885e57-2388-49d0-af4b-1dd74257c965",
   "metadata": {},
   "outputs": [],
   "source": [
    "import pandas as pd\n",
    "import numpy as np\n",
    "import os\n",
    "from sklearn.linear_model import LinearRegression\n",
    "import matplotlib.pyplot as plt"
   ]
  },
  {
   "cell_type": "code",
   "execution_count": 2,
   "id": "e2d17826-328b-48e6-97c1-1655d70899a0",
   "metadata": {},
   "outputs": [],
   "source": [
    "mainpath = '../../datasets/'\n",
    "filename = 'ecom-expense/Ecom Expense.csv'\n",
    "fullpath = os.path.join(mainpath, filename)\n",
    "\n",
    "df = pd.read_csv(fullpath)"
   ]
  },
  {
   "cell_type": "code",
   "execution_count": 3,
   "id": "132d663a-3bab-4157-8073-118e358dccdb",
   "metadata": {},
   "outputs": [
    {
     "data": {
      "text/html": [
       "<div>\n",
       "<style scoped>\n",
       "    .dataframe tbody tr th:only-of-type {\n",
       "        vertical-align: middle;\n",
       "    }\n",
       "\n",
       "    .dataframe tbody tr th {\n",
       "        vertical-align: top;\n",
       "    }\n",
       "\n",
       "    .dataframe thead th {\n",
       "        text-align: right;\n",
       "    }\n",
       "</style>\n",
       "<table border=\"1\" class=\"dataframe\">\n",
       "  <thead>\n",
       "    <tr style=\"text-align: right;\">\n",
       "      <th></th>\n",
       "      <th>Transaction ID</th>\n",
       "      <th>Age</th>\n",
       "      <th>Items</th>\n",
       "      <th>Monthly Income</th>\n",
       "      <th>Transaction Time</th>\n",
       "      <th>Record</th>\n",
       "      <th>Gender</th>\n",
       "      <th>City Tier</th>\n",
       "      <th>Total Spend</th>\n",
       "    </tr>\n",
       "  </thead>\n",
       "  <tbody>\n",
       "    <tr>\n",
       "      <th>0</th>\n",
       "      <td>TXN001</td>\n",
       "      <td>42</td>\n",
       "      <td>10</td>\n",
       "      <td>7313</td>\n",
       "      <td>627.668127</td>\n",
       "      <td>5</td>\n",
       "      <td>Female</td>\n",
       "      <td>Tier 1</td>\n",
       "      <td>4198.385084</td>\n",
       "    </tr>\n",
       "    <tr>\n",
       "      <th>1</th>\n",
       "      <td>TXN002</td>\n",
       "      <td>24</td>\n",
       "      <td>8</td>\n",
       "      <td>17747</td>\n",
       "      <td>126.904567</td>\n",
       "      <td>3</td>\n",
       "      <td>Female</td>\n",
       "      <td>Tier 2</td>\n",
       "      <td>4134.976648</td>\n",
       "    </tr>\n",
       "    <tr>\n",
       "      <th>2</th>\n",
       "      <td>TXN003</td>\n",
       "      <td>47</td>\n",
       "      <td>11</td>\n",
       "      <td>22845</td>\n",
       "      <td>873.469701</td>\n",
       "      <td>2</td>\n",
       "      <td>Male</td>\n",
       "      <td>Tier 2</td>\n",
       "      <td>5166.614455</td>\n",
       "    </tr>\n",
       "    <tr>\n",
       "      <th>3</th>\n",
       "      <td>TXN004</td>\n",
       "      <td>50</td>\n",
       "      <td>11</td>\n",
       "      <td>18552</td>\n",
       "      <td>380.219428</td>\n",
       "      <td>7</td>\n",
       "      <td>Female</td>\n",
       "      <td>Tier 1</td>\n",
       "      <td>7784.447676</td>\n",
       "    </tr>\n",
       "    <tr>\n",
       "      <th>4</th>\n",
       "      <td>TXN005</td>\n",
       "      <td>60</td>\n",
       "      <td>2</td>\n",
       "      <td>14439</td>\n",
       "      <td>403.374223</td>\n",
       "      <td>2</td>\n",
       "      <td>Female</td>\n",
       "      <td>Tier 2</td>\n",
       "      <td>3254.160485</td>\n",
       "    </tr>\n",
       "  </tbody>\n",
       "</table>\n",
       "</div>"
      ],
      "text/plain": [
       "  Transaction ID  Age    Items   Monthly Income  Transaction Time  Record  \\\n",
       "0         TXN001    42       10            7313        627.668127       5   \n",
       "1         TXN002    24        8           17747        126.904567       3   \n",
       "2         TXN003    47       11           22845        873.469701       2   \n",
       "3         TXN004    50       11           18552        380.219428       7   \n",
       "4         TXN005    60        2           14439        403.374223       2   \n",
       "\n",
       "   Gender City Tier  Total Spend  \n",
       "0  Female    Tier 1  4198.385084  \n",
       "1  Female    Tier 2  4134.976648  \n",
       "2    Male    Tier 2  5166.614455  \n",
       "3  Female    Tier 1  7784.447676  \n",
       "4  Female    Tier 2  3254.160485  "
      ]
     },
     "execution_count": 3,
     "metadata": {},
     "output_type": "execute_result"
    }
   ],
   "source": [
    "df.head()"
   ]
  },
  {
   "cell_type": "code",
   "execution_count": 4,
   "id": "b3dec5e9-5432-416c-af30-76a3e999c2b4",
   "metadata": {},
   "outputs": [],
   "source": [
    "dummy_gender = pd.get_dummies(df['Gender'], prefix = 'Gender')\n",
    "dummy_city_tier = pd.get_dummies(df['City Tier'], prefix = 'City')"
   ]
  },
  {
   "cell_type": "code",
   "execution_count": 5,
   "id": "185068cf-bf70-47d4-9947-5479b8cedd9f",
   "metadata": {},
   "outputs": [
    {
     "data": {
      "text/html": [
       "<div>\n",
       "<style scoped>\n",
       "    .dataframe tbody tr th:only-of-type {\n",
       "        vertical-align: middle;\n",
       "    }\n",
       "\n",
       "    .dataframe tbody tr th {\n",
       "        vertical-align: top;\n",
       "    }\n",
       "\n",
       "    .dataframe thead th {\n",
       "        text-align: right;\n",
       "    }\n",
       "</style>\n",
       "<table border=\"1\" class=\"dataframe\">\n",
       "  <thead>\n",
       "    <tr style=\"text-align: right;\">\n",
       "      <th></th>\n",
       "      <th>Gender_Female</th>\n",
       "      <th>Gender_Male</th>\n",
       "    </tr>\n",
       "  </thead>\n",
       "  <tbody>\n",
       "    <tr>\n",
       "      <th>0</th>\n",
       "      <td>1</td>\n",
       "      <td>0</td>\n",
       "    </tr>\n",
       "    <tr>\n",
       "      <th>1</th>\n",
       "      <td>1</td>\n",
       "      <td>0</td>\n",
       "    </tr>\n",
       "    <tr>\n",
       "      <th>2</th>\n",
       "      <td>0</td>\n",
       "      <td>1</td>\n",
       "    </tr>\n",
       "    <tr>\n",
       "      <th>3</th>\n",
       "      <td>1</td>\n",
       "      <td>0</td>\n",
       "    </tr>\n",
       "    <tr>\n",
       "      <th>4</th>\n",
       "      <td>1</td>\n",
       "      <td>0</td>\n",
       "    </tr>\n",
       "  </tbody>\n",
       "</table>\n",
       "</div>"
      ],
      "text/plain": [
       "   Gender_Female  Gender_Male\n",
       "0              1            0\n",
       "1              1            0\n",
       "2              0            1\n",
       "3              1            0\n",
       "4              1            0"
      ]
     },
     "execution_count": 5,
     "metadata": {},
     "output_type": "execute_result"
    }
   ],
   "source": [
    "dummy_gender.head()"
   ]
  },
  {
   "cell_type": "code",
   "execution_count": 6,
   "id": "2d6da6a2-6894-4ecf-adae-68dc863b7695",
   "metadata": {},
   "outputs": [
    {
     "data": {
      "text/html": [
       "<div>\n",
       "<style scoped>\n",
       "    .dataframe tbody tr th:only-of-type {\n",
       "        vertical-align: middle;\n",
       "    }\n",
       "\n",
       "    .dataframe tbody tr th {\n",
       "        vertical-align: top;\n",
       "    }\n",
       "\n",
       "    .dataframe thead th {\n",
       "        text-align: right;\n",
       "    }\n",
       "</style>\n",
       "<table border=\"1\" class=\"dataframe\">\n",
       "  <thead>\n",
       "    <tr style=\"text-align: right;\">\n",
       "      <th></th>\n",
       "      <th>City_Tier 1</th>\n",
       "      <th>City_Tier 2</th>\n",
       "      <th>City_Tier 3</th>\n",
       "    </tr>\n",
       "  </thead>\n",
       "  <tbody>\n",
       "    <tr>\n",
       "      <th>0</th>\n",
       "      <td>1</td>\n",
       "      <td>0</td>\n",
       "      <td>0</td>\n",
       "    </tr>\n",
       "    <tr>\n",
       "      <th>1</th>\n",
       "      <td>0</td>\n",
       "      <td>1</td>\n",
       "      <td>0</td>\n",
       "    </tr>\n",
       "    <tr>\n",
       "      <th>2</th>\n",
       "      <td>0</td>\n",
       "      <td>1</td>\n",
       "      <td>0</td>\n",
       "    </tr>\n",
       "    <tr>\n",
       "      <th>3</th>\n",
       "      <td>1</td>\n",
       "      <td>0</td>\n",
       "      <td>0</td>\n",
       "    </tr>\n",
       "    <tr>\n",
       "      <th>4</th>\n",
       "      <td>0</td>\n",
       "      <td>1</td>\n",
       "      <td>0</td>\n",
       "    </tr>\n",
       "  </tbody>\n",
       "</table>\n",
       "</div>"
      ],
      "text/plain": [
       "   City_Tier 1  City_Tier 2  City_Tier 3\n",
       "0            1            0            0\n",
       "1            0            1            0\n",
       "2            0            1            0\n",
       "3            1            0            0\n",
       "4            0            1            0"
      ]
     },
     "execution_count": 6,
     "metadata": {},
     "output_type": "execute_result"
    }
   ],
   "source": [
    "dummy_city_tier.head()"
   ]
  },
  {
   "cell_type": "code",
   "execution_count": 7,
   "id": "70575f70-d356-4db3-9ba7-3250a84015e2",
   "metadata": {},
   "outputs": [
    {
     "data": {
      "text/plain": [
       "['Transaction ID',\n",
       " 'Age ',\n",
       " ' Items ',\n",
       " 'Monthly Income',\n",
       " 'Transaction Time',\n",
       " 'Record',\n",
       " 'Gender',\n",
       " 'City Tier',\n",
       " 'Total Spend']"
      ]
     },
     "execution_count": 7,
     "metadata": {},
     "output_type": "execute_result"
    }
   ],
   "source": [
    "column_names = df.columns.values.tolist()\n",
    "column_names"
   ]
  },
  {
   "cell_type": "code",
   "execution_count": 8,
   "id": "98cf2277-c469-43b0-a5a2-ab2a33a5c896",
   "metadata": {},
   "outputs": [
    {
     "data": {
      "text/html": [
       "<div>\n",
       "<style scoped>\n",
       "    .dataframe tbody tr th:only-of-type {\n",
       "        vertical-align: middle;\n",
       "    }\n",
       "\n",
       "    .dataframe tbody tr th {\n",
       "        vertical-align: top;\n",
       "    }\n",
       "\n",
       "    .dataframe thead th {\n",
       "        text-align: right;\n",
       "    }\n",
       "</style>\n",
       "<table border=\"1\" class=\"dataframe\">\n",
       "  <thead>\n",
       "    <tr style=\"text-align: right;\">\n",
       "      <th></th>\n",
       "      <th>Transaction ID</th>\n",
       "      <th>Age</th>\n",
       "      <th>Items</th>\n",
       "      <th>Monthly Income</th>\n",
       "      <th>Transaction Time</th>\n",
       "      <th>Record</th>\n",
       "      <th>Gender</th>\n",
       "      <th>City Tier</th>\n",
       "      <th>Total Spend</th>\n",
       "      <th>Gender_Female</th>\n",
       "      <th>Gender_Male</th>\n",
       "    </tr>\n",
       "  </thead>\n",
       "  <tbody>\n",
       "    <tr>\n",
       "      <th>0</th>\n",
       "      <td>TXN001</td>\n",
       "      <td>42</td>\n",
       "      <td>10</td>\n",
       "      <td>7313</td>\n",
       "      <td>627.668127</td>\n",
       "      <td>5</td>\n",
       "      <td>Female</td>\n",
       "      <td>Tier 1</td>\n",
       "      <td>4198.385084</td>\n",
       "      <td>1</td>\n",
       "      <td>0</td>\n",
       "    </tr>\n",
       "    <tr>\n",
       "      <th>1</th>\n",
       "      <td>TXN002</td>\n",
       "      <td>24</td>\n",
       "      <td>8</td>\n",
       "      <td>17747</td>\n",
       "      <td>126.904567</td>\n",
       "      <td>3</td>\n",
       "      <td>Female</td>\n",
       "      <td>Tier 2</td>\n",
       "      <td>4134.976648</td>\n",
       "      <td>1</td>\n",
       "      <td>0</td>\n",
       "    </tr>\n",
       "    <tr>\n",
       "      <th>2</th>\n",
       "      <td>TXN003</td>\n",
       "      <td>47</td>\n",
       "      <td>11</td>\n",
       "      <td>22845</td>\n",
       "      <td>873.469701</td>\n",
       "      <td>2</td>\n",
       "      <td>Male</td>\n",
       "      <td>Tier 2</td>\n",
       "      <td>5166.614455</td>\n",
       "      <td>0</td>\n",
       "      <td>1</td>\n",
       "    </tr>\n",
       "    <tr>\n",
       "      <th>3</th>\n",
       "      <td>TXN004</td>\n",
       "      <td>50</td>\n",
       "      <td>11</td>\n",
       "      <td>18552</td>\n",
       "      <td>380.219428</td>\n",
       "      <td>7</td>\n",
       "      <td>Female</td>\n",
       "      <td>Tier 1</td>\n",
       "      <td>7784.447676</td>\n",
       "      <td>1</td>\n",
       "      <td>0</td>\n",
       "    </tr>\n",
       "    <tr>\n",
       "      <th>4</th>\n",
       "      <td>TXN005</td>\n",
       "      <td>60</td>\n",
       "      <td>2</td>\n",
       "      <td>14439</td>\n",
       "      <td>403.374223</td>\n",
       "      <td>2</td>\n",
       "      <td>Female</td>\n",
       "      <td>Tier 2</td>\n",
       "      <td>3254.160485</td>\n",
       "      <td>1</td>\n",
       "      <td>0</td>\n",
       "    </tr>\n",
       "  </tbody>\n",
       "</table>\n",
       "</div>"
      ],
      "text/plain": [
       "  Transaction ID  Age    Items   Monthly Income  Transaction Time  Record  \\\n",
       "0         TXN001    42       10            7313        627.668127       5   \n",
       "1         TXN002    24        8           17747        126.904567       3   \n",
       "2         TXN003    47       11           22845        873.469701       2   \n",
       "3         TXN004    50       11           18552        380.219428       7   \n",
       "4         TXN005    60        2           14439        403.374223       2   \n",
       "\n",
       "   Gender City Tier  Total Spend  Gender_Female  Gender_Male  \n",
       "0  Female    Tier 1  4198.385084              1            0  \n",
       "1  Female    Tier 2  4134.976648              1            0  \n",
       "2    Male    Tier 2  5166.614455              0            1  \n",
       "3  Female    Tier 1  7784.447676              1            0  \n",
       "4  Female    Tier 2  3254.160485              1            0  "
      ]
     },
     "execution_count": 8,
     "metadata": {},
     "output_type": "execute_result"
    }
   ],
   "source": [
    "df_new = df[column_names].join(dummy_gender)\n",
    "column_names = df_new.columns.values.tolist()\n",
    "df_new.head()"
   ]
  },
  {
   "cell_type": "code",
   "execution_count": 9,
   "id": "1056371d-d4d7-4c0f-8367-bea3c7b4fe48",
   "metadata": {},
   "outputs": [],
   "source": [
    "df_new = df_new[column_names].join(dummy_city_tier)"
   ]
  },
  {
   "cell_type": "code",
   "execution_count": 10,
   "id": "781214b6-88d0-4626-9cdc-25a3fe5260eb",
   "metadata": {},
   "outputs": [
    {
     "data": {
      "text/html": [
       "<div>\n",
       "<style scoped>\n",
       "    .dataframe tbody tr th:only-of-type {\n",
       "        vertical-align: middle;\n",
       "    }\n",
       "\n",
       "    .dataframe tbody tr th {\n",
       "        vertical-align: top;\n",
       "    }\n",
       "\n",
       "    .dataframe thead th {\n",
       "        text-align: right;\n",
       "    }\n",
       "</style>\n",
       "<table border=\"1\" class=\"dataframe\">\n",
       "  <thead>\n",
       "    <tr style=\"text-align: right;\">\n",
       "      <th></th>\n",
       "      <th>Transaction ID</th>\n",
       "      <th>Age</th>\n",
       "      <th>Items</th>\n",
       "      <th>Monthly Income</th>\n",
       "      <th>Transaction Time</th>\n",
       "      <th>Record</th>\n",
       "      <th>Gender</th>\n",
       "      <th>City Tier</th>\n",
       "      <th>Total Spend</th>\n",
       "      <th>Gender_Female</th>\n",
       "      <th>Gender_Male</th>\n",
       "      <th>City_Tier 1</th>\n",
       "      <th>City_Tier 2</th>\n",
       "      <th>City_Tier 3</th>\n",
       "    </tr>\n",
       "  </thead>\n",
       "  <tbody>\n",
       "    <tr>\n",
       "      <th>0</th>\n",
       "      <td>TXN001</td>\n",
       "      <td>42</td>\n",
       "      <td>10</td>\n",
       "      <td>7313</td>\n",
       "      <td>627.668127</td>\n",
       "      <td>5</td>\n",
       "      <td>Female</td>\n",
       "      <td>Tier 1</td>\n",
       "      <td>4198.385084</td>\n",
       "      <td>1</td>\n",
       "      <td>0</td>\n",
       "      <td>1</td>\n",
       "      <td>0</td>\n",
       "      <td>0</td>\n",
       "    </tr>\n",
       "    <tr>\n",
       "      <th>1</th>\n",
       "      <td>TXN002</td>\n",
       "      <td>24</td>\n",
       "      <td>8</td>\n",
       "      <td>17747</td>\n",
       "      <td>126.904567</td>\n",
       "      <td>3</td>\n",
       "      <td>Female</td>\n",
       "      <td>Tier 2</td>\n",
       "      <td>4134.976648</td>\n",
       "      <td>1</td>\n",
       "      <td>0</td>\n",
       "      <td>0</td>\n",
       "      <td>1</td>\n",
       "      <td>0</td>\n",
       "    </tr>\n",
       "    <tr>\n",
       "      <th>2</th>\n",
       "      <td>TXN003</td>\n",
       "      <td>47</td>\n",
       "      <td>11</td>\n",
       "      <td>22845</td>\n",
       "      <td>873.469701</td>\n",
       "      <td>2</td>\n",
       "      <td>Male</td>\n",
       "      <td>Tier 2</td>\n",
       "      <td>5166.614455</td>\n",
       "      <td>0</td>\n",
       "      <td>1</td>\n",
       "      <td>0</td>\n",
       "      <td>1</td>\n",
       "      <td>0</td>\n",
       "    </tr>\n",
       "    <tr>\n",
       "      <th>3</th>\n",
       "      <td>TXN004</td>\n",
       "      <td>50</td>\n",
       "      <td>11</td>\n",
       "      <td>18552</td>\n",
       "      <td>380.219428</td>\n",
       "      <td>7</td>\n",
       "      <td>Female</td>\n",
       "      <td>Tier 1</td>\n",
       "      <td>7784.447676</td>\n",
       "      <td>1</td>\n",
       "      <td>0</td>\n",
       "      <td>1</td>\n",
       "      <td>0</td>\n",
       "      <td>0</td>\n",
       "    </tr>\n",
       "    <tr>\n",
       "      <th>4</th>\n",
       "      <td>TXN005</td>\n",
       "      <td>60</td>\n",
       "      <td>2</td>\n",
       "      <td>14439</td>\n",
       "      <td>403.374223</td>\n",
       "      <td>2</td>\n",
       "      <td>Female</td>\n",
       "      <td>Tier 2</td>\n",
       "      <td>3254.160485</td>\n",
       "      <td>1</td>\n",
       "      <td>0</td>\n",
       "      <td>0</td>\n",
       "      <td>1</td>\n",
       "      <td>0</td>\n",
       "    </tr>\n",
       "  </tbody>\n",
       "</table>\n",
       "</div>"
      ],
      "text/plain": [
       "  Transaction ID  Age    Items   Monthly Income  Transaction Time  Record  \\\n",
       "0         TXN001    42       10            7313        627.668127       5   \n",
       "1         TXN002    24        8           17747        126.904567       3   \n",
       "2         TXN003    47       11           22845        873.469701       2   \n",
       "3         TXN004    50       11           18552        380.219428       7   \n",
       "4         TXN005    60        2           14439        403.374223       2   \n",
       "\n",
       "   Gender City Tier  Total Spend  Gender_Female  Gender_Male  City_Tier 1  \\\n",
       "0  Female    Tier 1  4198.385084              1            0            1   \n",
       "1  Female    Tier 2  4134.976648              1            0            0   \n",
       "2    Male    Tier 2  5166.614455              0            1            0   \n",
       "3  Female    Tier 1  7784.447676              1            0            1   \n",
       "4  Female    Tier 2  3254.160485              1            0            0   \n",
       "\n",
       "   City_Tier 2  City_Tier 3  \n",
       "0            0            0  \n",
       "1            1            0  \n",
       "2            1            0  \n",
       "3            0            0  \n",
       "4            1            0  "
      ]
     },
     "execution_count": 10,
     "metadata": {},
     "output_type": "execute_result"
    }
   ],
   "source": [
    "df_new.head()"
   ]
  },
  {
   "cell_type": "code",
   "execution_count": 11,
   "id": "d7a36990-c2ca-4070-9086-102b9544a7a7",
   "metadata": {},
   "outputs": [],
   "source": [
    "feature_cols = ['Monthly Income', 'Transaction Time',\n",
    "                'Gender_Female', 'Gender_Male',\n",
    "                'City_Tier 1', 'City_Tier 2','City_Tier 3',\n",
    "                'Record']"
   ]
  },
  {
   "cell_type": "code",
   "execution_count": 12,
   "id": "fe22240a-4330-41be-82e8-4241fd5b310b",
   "metadata": {},
   "outputs": [],
   "source": [
    "X = df_new[feature_cols]\n",
    "Y = df_new['Total Spend']"
   ]
  },
  {
   "cell_type": "code",
   "execution_count": 13,
   "id": "3cc07493-e8c2-438d-b71b-b8e6b8f02fb4",
   "metadata": {},
   "outputs": [
    {
     "data": {
      "text/plain": [
       "LinearRegression()"
      ]
     },
     "execution_count": 13,
     "metadata": {},
     "output_type": "execute_result"
    }
   ],
   "source": [
    "lm = LinearRegression()\n",
    "lm.fit(X, Y)"
   ]
  },
  {
   "cell_type": "code",
   "execution_count": 14,
   "id": "cb210d0c-2e56-4aa3-aef5-5e1e35ffd4a2",
   "metadata": {},
   "outputs": [
    {
     "name": "stdout",
     "output_type": "stream",
     "text": [
      "-79.41713030137362\n",
      "[ 1.47538980e-01  1.54946125e-01 -1.31025013e+02  1.31025013e+02\n",
      "  7.67643260e+01  5.51389743e+01 -1.31903300e+02  7.72233446e+02]\n"
     ]
    }
   ],
   "source": [
    "print(lm.intercept_)\n",
    "print(lm.coef_)"
   ]
  },
  {
   "cell_type": "code",
   "execution_count": 15,
   "id": "a2e20ab1-c22e-4971-b3c6-8a2c8f6d0e34",
   "metadata": {},
   "outputs": [
    {
     "data": {
      "text/plain": [
       "[('Monthly Income', 0.1475389804920574),\n",
       " ('Transaction Time', 0.15494612549589615),\n",
       " ('Gender_Female', -131.0250132555464),\n",
       " ('Gender_Male', 131.02501325554636),\n",
       " ('City_Tier 1', 76.76432601049565),\n",
       " ('City_Tier 2', 55.13897430923203),\n",
       " ('City_Tier 3', -131.90330031972763),\n",
       " ('Record', 772.2334457445646)]"
      ]
     },
     "execution_count": 15,
     "metadata": {},
     "output_type": "execute_result"
    }
   ],
   "source": [
    "list(zip(feature_cols, lm.coef_))"
   ]
  },
  {
   "cell_type": "code",
   "execution_count": 16,
   "id": "6039e5d8-ad1b-4b34-a072-d248093879f8",
   "metadata": {},
   "outputs": [
    {
     "data": {
      "text/plain": [
       "0.9179923586131016"
      ]
     },
     "execution_count": 16,
     "metadata": {},
     "output_type": "execute_result"
    }
   ],
   "source": [
    "lm.score(X, Y)"
   ]
  },
  {
   "cell_type": "code",
   "execution_count": 17,
   "id": "1777b069-ca15-47a7-959a-b0850a0939d1",
   "metadata": {},
   "outputs": [
    {
     "data": {
      "text/plain": [
       "-342.34544387664766"
      ]
     },
     "execution_count": 17,
     "metadata": {},
     "output_type": "execute_result"
    }
   ],
   "source": [
    "-79.41713030137362 -131.0250132555464-131.90330031972763"
   ]
  },
  {
   "cell_type": "markdown",
   "id": "73b9c672-86d4-4d81-88b9-69885d8979a7",
   "metadata": {},
   "source": [
    "El modelo puede ser escrito como:\n",
    "```    \n",
    "Total_Spend = -79.41713030137362 + 'Monthly Income' * 0.1475389804920574\n",
    "                                 + 'Transaction Time' * 0.15494612549589615\n",
    "                                 + 'Gender_Female' * -131.0250132555464\n",
    "                                 + 'Gender_Male' * 131.02501325554636\n",
    "                                 + 'City_Tier 1' * 76.76432601049565\n",
    "                                 + 'City_Tier 2' * 55.13897430923203\n",
    "                                 + 'City_Tier 3' * -131.90330031972763\n",
    "                                 + 'Record' * 772.2334457445646\n",
    "```\n",
    "* Si es hombre y vive CT1:\n",
    "```    \n",
    "Total_Spend = 128.3722089646684 + 'Monthly Income' * 0.1475389804920574\n",
    "                                + 'Transaction Time' * 0.15494612549589615\n",
    "                                + 'Record' * 772.2334457445646\n",
    "```\n",
    "* Si es hombre y vive en CT2:\n",
    "```    \n",
    "Total_Spend = 106.74685726340476 + 'Monthly Income' * 0.1475389804920574\n",
    "                                 + 'Transaction Time' * 0.15494612549589615\n",
    "                                 + 'Record' * 772.2334457445646\n",
    "```\n",
    "* Si es hombre y vive en CT3:\n",
    "```    \n",
    "Total_Spend = -80.2954173655549 + 'Monthly Income' * 0.1475389804920574\n",
    "                                + 'Transaction Time' * 0.15494612549589615\n",
    "                                + 'Record' * 772.2334457445646\n",
    "```\n",
    "* Si es mujer y vive CT1:\n",
    "```    \n",
    "Total_Spend = -133.67781754642436 + 'Monthly Income' * 0.1475389804920574\n",
    "                                  + 'Transaction Time' * 0.15494612549589615\n",
    "                                  + 'Record' * 772.2334457445646\n",
    "```\n",
    "* Si es mujer y vive CT2:\n",
    "```    \n",
    "Total_Spend = -155.303169247688 + 'Monthly Income' * 0.1475389804920574\n",
    "                                + 'Transaction Time' * 0.15494612549589615\n",
    "                                + 'Record' * 772.2334457445646\n",
    "```\n",
    "* Si es mujer y vive CT3:\n",
    "```    \n",
    "Total_Spend = -342.34544387664766 + 'Monthly Income' * 0.1475389804920574\n",
    "                                  + 'Transaction Time' * 0.15494612549589615\n",
    "                                  + 'Record' * 772.2334457445646\n",
    "```"
   ]
  },
  {
   "cell_type": "code",
   "execution_count": 18,
   "id": "3f9c327d-40ea-40be-a5c2-564dd30b902d",
   "metadata": {},
   "outputs": [],
   "source": [
    "df_new['prediction'] = -79.41713030137362 + df_new['Monthly Income'] * 0.1475389804920574 + df_new['Transaction Time'] * 0.15494612549589615 + df_new['Gender_Female'] * -131.0250132555464 + df_new['Gender_Male'] * 131.02501325554636 + df_new['City_Tier 1'] * 76.76432601049565 + df_new['City_Tier 2'] * 55.13897430923203 + df_new['City_Tier 3'] * -131.90330031972763 + df_new['Record'] * 772.2334457445646"
   ]
  },
  {
   "cell_type": "code",
   "execution_count": 19,
   "id": "b0e9273f-ad52-47e0-ba23-69d9fdec45a1",
   "metadata": {},
   "outputs": [
    {
     "data": {
      "text/html": [
       "<div>\n",
       "<style scoped>\n",
       "    .dataframe tbody tr th:only-of-type {\n",
       "        vertical-align: middle;\n",
       "    }\n",
       "\n",
       "    .dataframe tbody tr th {\n",
       "        vertical-align: top;\n",
       "    }\n",
       "\n",
       "    .dataframe thead th {\n",
       "        text-align: right;\n",
       "    }\n",
       "</style>\n",
       "<table border=\"1\" class=\"dataframe\">\n",
       "  <thead>\n",
       "    <tr style=\"text-align: right;\">\n",
       "      <th></th>\n",
       "      <th>Transaction ID</th>\n",
       "      <th>Age</th>\n",
       "      <th>Items</th>\n",
       "      <th>Monthly Income</th>\n",
       "      <th>Transaction Time</th>\n",
       "      <th>Record</th>\n",
       "      <th>Gender</th>\n",
       "      <th>City Tier</th>\n",
       "      <th>Total Spend</th>\n",
       "      <th>Gender_Female</th>\n",
       "      <th>Gender_Male</th>\n",
       "      <th>City_Tier 1</th>\n",
       "      <th>City_Tier 2</th>\n",
       "      <th>City_Tier 3</th>\n",
       "      <th>prediction</th>\n",
       "    </tr>\n",
       "  </thead>\n",
       "  <tbody>\n",
       "    <tr>\n",
       "      <th>0</th>\n",
       "      <td>TXN001</td>\n",
       "      <td>42</td>\n",
       "      <td>10</td>\n",
       "      <td>7313</td>\n",
       "      <td>627.668127</td>\n",
       "      <td>5</td>\n",
       "      <td>Female</td>\n",
       "      <td>Tier 1</td>\n",
       "      <td>4198.385084</td>\n",
       "      <td>1</td>\n",
       "      <td>0</td>\n",
       "      <td>1</td>\n",
       "      <td>0</td>\n",
       "      <td>0</td>\n",
       "      <td>4903.696720</td>\n",
       "    </tr>\n",
       "    <tr>\n",
       "      <th>1</th>\n",
       "      <td>TXN002</td>\n",
       "      <td>24</td>\n",
       "      <td>8</td>\n",
       "      <td>17747</td>\n",
       "      <td>126.904567</td>\n",
       "      <td>3</td>\n",
       "      <td>Female</td>\n",
       "      <td>Tier 2</td>\n",
       "      <td>4134.976648</td>\n",
       "      <td>1</td>\n",
       "      <td>0</td>\n",
       "      <td>0</td>\n",
       "      <td>1</td>\n",
       "      <td>0</td>\n",
       "      <td>4799.434826</td>\n",
       "    </tr>\n",
       "    <tr>\n",
       "      <th>2</th>\n",
       "      <td>TXN003</td>\n",
       "      <td>47</td>\n",
       "      <td>11</td>\n",
       "      <td>22845</td>\n",
       "      <td>873.469701</td>\n",
       "      <td>2</td>\n",
       "      <td>Male</td>\n",
       "      <td>Tier 2</td>\n",
       "      <td>5166.614455</td>\n",
       "      <td>0</td>\n",
       "      <td>1</td>\n",
       "      <td>0</td>\n",
       "      <td>1</td>\n",
       "      <td>0</td>\n",
       "      <td>5157.082504</td>\n",
       "    </tr>\n",
       "    <tr>\n",
       "      <th>3</th>\n",
       "      <td>TXN004</td>\n",
       "      <td>50</td>\n",
       "      <td>11</td>\n",
       "      <td>18552</td>\n",
       "      <td>380.219428</td>\n",
       "      <td>7</td>\n",
       "      <td>Female</td>\n",
       "      <td>Tier 1</td>\n",
       "      <td>7784.447676</td>\n",
       "      <td>1</td>\n",
       "      <td>0</td>\n",
       "      <td>1</td>\n",
       "      <td>0</td>\n",
       "      <td>0</td>\n",
       "      <td>8068.012996</td>\n",
       "    </tr>\n",
       "    <tr>\n",
       "      <th>4</th>\n",
       "      <td>TXN005</td>\n",
       "      <td>60</td>\n",
       "      <td>2</td>\n",
       "      <td>14439</td>\n",
       "      <td>403.374223</td>\n",
       "      <td>2</td>\n",
       "      <td>Female</td>\n",
       "      <td>Tier 2</td>\n",
       "      <td>3254.160485</td>\n",
       "      <td>1</td>\n",
       "      <td>0</td>\n",
       "      <td>0</td>\n",
       "      <td>1</td>\n",
       "      <td>0</td>\n",
       "      <td>3581.980335</td>\n",
       "    </tr>\n",
       "  </tbody>\n",
       "</table>\n",
       "</div>"
      ],
      "text/plain": [
       "  Transaction ID  Age    Items   Monthly Income  Transaction Time  Record  \\\n",
       "0         TXN001    42       10            7313        627.668127       5   \n",
       "1         TXN002    24        8           17747        126.904567       3   \n",
       "2         TXN003    47       11           22845        873.469701       2   \n",
       "3         TXN004    50       11           18552        380.219428       7   \n",
       "4         TXN005    60        2           14439        403.374223       2   \n",
       "\n",
       "   Gender City Tier  Total Spend  Gender_Female  Gender_Male  City_Tier 1  \\\n",
       "0  Female    Tier 1  4198.385084              1            0            1   \n",
       "1  Female    Tier 2  4134.976648              1            0            0   \n",
       "2    Male    Tier 2  5166.614455              0            1            0   \n",
       "3  Female    Tier 1  7784.447676              1            0            1   \n",
       "4  Female    Tier 2  3254.160485              1            0            0   \n",
       "\n",
       "   City_Tier 2  City_Tier 3   prediction  \n",
       "0            0            0  4903.696720  \n",
       "1            1            0  4799.434826  \n",
       "2            1            0  5157.082504  \n",
       "3            0            0  8068.012996  \n",
       "4            1            0  3581.980335  "
      ]
     },
     "execution_count": 19,
     "metadata": {},
     "output_type": "execute_result"
    }
   ],
   "source": [
    "df_new.head()"
   ]
  },
  {
   "cell_type": "code",
   "execution_count": 20,
   "id": "9e39678d-ef49-4bba-aa04-ab7f2723a7e6",
   "metadata": {},
   "outputs": [
    {
     "data": {
      "text/plain": [
       "1517733985.3408165"
      ]
     },
     "execution_count": 20,
     "metadata": {},
     "output_type": "execute_result"
    }
   ],
   "source": [
    "SSD = np.sum((df_new['prediction'] - df_new['Total Spend'])**2)\n",
    "SSD"
   ]
  },
  {
   "cell_type": "code",
   "execution_count": 21,
   "id": "1e22d52e-f82e-485d-b09c-fc8dc23f71d2",
   "metadata": {},
   "outputs": [
    {
     "data": {
      "text/plain": [
       "803.1318809818166"
      ]
     },
     "execution_count": 21,
     "metadata": {},
     "output_type": "execute_result"
    }
   ],
   "source": [
    "RSE = np.sqrt(SSD/(len(df_new)-len(feature_cols)- 1))\n",
    "RSE"
   ]
  },
  {
   "cell_type": "code",
   "execution_count": 22,
   "id": "d3a71093-0736-4442-8049-eb7ff0c5efc6",
   "metadata": {},
   "outputs": [
    {
     "data": {
      "text/plain": [
       "6163.176415976715"
      ]
     },
     "execution_count": 22,
     "metadata": {},
     "output_type": "execute_result"
    }
   ],
   "source": [
    "sales_mean = np.mean(df_new['Total Spend'])\n",
    "sales_mean"
   ]
  },
  {
   "cell_type": "code",
   "execution_count": 23,
   "id": "e5274525-f30e-4145-bd02-fe403969cf33",
   "metadata": {},
   "outputs": [
    {
     "data": {
      "text/plain": [
       "0.1303113568029416"
      ]
     },
     "execution_count": 23,
     "metadata": {},
     "output_type": "execute_result"
    }
   ],
   "source": [
    "error = RSE/sales_mean\n",
    "error"
   ]
  },
  {
   "cell_type": "code",
   "execution_count": 24,
   "id": "0af5366d-5d2c-4bcd-a1a7-309c5cd8c15d",
   "metadata": {},
   "outputs": [],
   "source": [
    "# Forma rápida de hacer el cálculo de las predicciones usando la función predict\n",
    "df_new[\"prediction2\"] = lm.predict(pd.DataFrame(df_new[feature_cols]))"
   ]
  },
  {
   "cell_type": "code",
   "execution_count": 25,
   "id": "cce22374-36c4-49a3-9997-13b10b91260d",
   "metadata": {},
   "outputs": [
    {
     "data": {
      "text/html": [
       "<div>\n",
       "<style scoped>\n",
       "    .dataframe tbody tr th:only-of-type {\n",
       "        vertical-align: middle;\n",
       "    }\n",
       "\n",
       "    .dataframe tbody tr th {\n",
       "        vertical-align: top;\n",
       "    }\n",
       "\n",
       "    .dataframe thead th {\n",
       "        text-align: right;\n",
       "    }\n",
       "</style>\n",
       "<table border=\"1\" class=\"dataframe\">\n",
       "  <thead>\n",
       "    <tr style=\"text-align: right;\">\n",
       "      <th></th>\n",
       "      <th>Transaction ID</th>\n",
       "      <th>Age</th>\n",
       "      <th>Items</th>\n",
       "      <th>Monthly Income</th>\n",
       "      <th>Transaction Time</th>\n",
       "      <th>Record</th>\n",
       "      <th>Gender</th>\n",
       "      <th>City Tier</th>\n",
       "      <th>Total Spend</th>\n",
       "      <th>Gender_Female</th>\n",
       "      <th>Gender_Male</th>\n",
       "      <th>City_Tier 1</th>\n",
       "      <th>City_Tier 2</th>\n",
       "      <th>City_Tier 3</th>\n",
       "      <th>prediction</th>\n",
       "      <th>prediction2</th>\n",
       "    </tr>\n",
       "  </thead>\n",
       "  <tbody>\n",
       "    <tr>\n",
       "      <th>0</th>\n",
       "      <td>TXN001</td>\n",
       "      <td>42</td>\n",
       "      <td>10</td>\n",
       "      <td>7313</td>\n",
       "      <td>627.668127</td>\n",
       "      <td>5</td>\n",
       "      <td>Female</td>\n",
       "      <td>Tier 1</td>\n",
       "      <td>4198.385084</td>\n",
       "      <td>1</td>\n",
       "      <td>0</td>\n",
       "      <td>1</td>\n",
       "      <td>0</td>\n",
       "      <td>0</td>\n",
       "      <td>4903.696720</td>\n",
       "      <td>4903.696720</td>\n",
       "    </tr>\n",
       "    <tr>\n",
       "      <th>1</th>\n",
       "      <td>TXN002</td>\n",
       "      <td>24</td>\n",
       "      <td>8</td>\n",
       "      <td>17747</td>\n",
       "      <td>126.904567</td>\n",
       "      <td>3</td>\n",
       "      <td>Female</td>\n",
       "      <td>Tier 2</td>\n",
       "      <td>4134.976648</td>\n",
       "      <td>1</td>\n",
       "      <td>0</td>\n",
       "      <td>0</td>\n",
       "      <td>1</td>\n",
       "      <td>0</td>\n",
       "      <td>4799.434826</td>\n",
       "      <td>4799.434826</td>\n",
       "    </tr>\n",
       "    <tr>\n",
       "      <th>2</th>\n",
       "      <td>TXN003</td>\n",
       "      <td>47</td>\n",
       "      <td>11</td>\n",
       "      <td>22845</td>\n",
       "      <td>873.469701</td>\n",
       "      <td>2</td>\n",
       "      <td>Male</td>\n",
       "      <td>Tier 2</td>\n",
       "      <td>5166.614455</td>\n",
       "      <td>0</td>\n",
       "      <td>1</td>\n",
       "      <td>0</td>\n",
       "      <td>1</td>\n",
       "      <td>0</td>\n",
       "      <td>5157.082504</td>\n",
       "      <td>5157.082504</td>\n",
       "    </tr>\n",
       "    <tr>\n",
       "      <th>3</th>\n",
       "      <td>TXN004</td>\n",
       "      <td>50</td>\n",
       "      <td>11</td>\n",
       "      <td>18552</td>\n",
       "      <td>380.219428</td>\n",
       "      <td>7</td>\n",
       "      <td>Female</td>\n",
       "      <td>Tier 1</td>\n",
       "      <td>7784.447676</td>\n",
       "      <td>1</td>\n",
       "      <td>0</td>\n",
       "      <td>1</td>\n",
       "      <td>0</td>\n",
       "      <td>0</td>\n",
       "      <td>8068.012996</td>\n",
       "      <td>8068.012996</td>\n",
       "    </tr>\n",
       "    <tr>\n",
       "      <th>4</th>\n",
       "      <td>TXN005</td>\n",
       "      <td>60</td>\n",
       "      <td>2</td>\n",
       "      <td>14439</td>\n",
       "      <td>403.374223</td>\n",
       "      <td>2</td>\n",
       "      <td>Female</td>\n",
       "      <td>Tier 2</td>\n",
       "      <td>3254.160485</td>\n",
       "      <td>1</td>\n",
       "      <td>0</td>\n",
       "      <td>0</td>\n",
       "      <td>1</td>\n",
       "      <td>0</td>\n",
       "      <td>3581.980335</td>\n",
       "      <td>3581.980335</td>\n",
       "    </tr>\n",
       "  </tbody>\n",
       "</table>\n",
       "</div>"
      ],
      "text/plain": [
       "  Transaction ID  Age    Items   Monthly Income  Transaction Time  Record  \\\n",
       "0         TXN001    42       10            7313        627.668127       5   \n",
       "1         TXN002    24        8           17747        126.904567       3   \n",
       "2         TXN003    47       11           22845        873.469701       2   \n",
       "3         TXN004    50       11           18552        380.219428       7   \n",
       "4         TXN005    60        2           14439        403.374223       2   \n",
       "\n",
       "   Gender City Tier  Total Spend  Gender_Female  Gender_Male  City_Tier 1  \\\n",
       "0  Female    Tier 1  4198.385084              1            0            1   \n",
       "1  Female    Tier 2  4134.976648              1            0            0   \n",
       "2    Male    Tier 2  5166.614455              0            1            0   \n",
       "3  Female    Tier 1  7784.447676              1            0            1   \n",
       "4  Female    Tier 2  3254.160485              1            0            0   \n",
       "\n",
       "   City_Tier 2  City_Tier 3   prediction  prediction2  \n",
       "0            0            0  4903.696720  4903.696720  \n",
       "1            1            0  4799.434826  4799.434826  \n",
       "2            1            0  5157.082504  5157.082504  \n",
       "3            0            0  8068.012996  8068.012996  \n",
       "4            1            0  3581.980335  3581.980335  "
      ]
     },
     "execution_count": 25,
     "metadata": {},
     "output_type": "execute_result"
    }
   ],
   "source": [
    "df_new.head()"
   ]
  },
  {
   "cell_type": "markdown",
   "id": "bf36ef29-a9d3-4cc6-96f8-b9c58b62ddbc",
   "metadata": {},
   "source": [
    "# Eliminar variables dummy redundantes"
   ]
  },
  {
   "cell_type": "code",
   "execution_count": 26,
   "id": "68277d55-6dd0-4aa3-91a5-d66befc204b6",
   "metadata": {},
   "outputs": [
    {
     "data": {
      "text/html": [
       "<div>\n",
       "<style scoped>\n",
       "    .dataframe tbody tr th:only-of-type {\n",
       "        vertical-align: middle;\n",
       "    }\n",
       "\n",
       "    .dataframe tbody tr th {\n",
       "        vertical-align: top;\n",
       "    }\n",
       "\n",
       "    .dataframe thead th {\n",
       "        text-align: right;\n",
       "    }\n",
       "</style>\n",
       "<table border=\"1\" class=\"dataframe\">\n",
       "  <thead>\n",
       "    <tr style=\"text-align: right;\">\n",
       "      <th></th>\n",
       "      <th>Gender_Male</th>\n",
       "    </tr>\n",
       "  </thead>\n",
       "  <tbody>\n",
       "    <tr>\n",
       "      <th>0</th>\n",
       "      <td>0</td>\n",
       "    </tr>\n",
       "    <tr>\n",
       "      <th>1</th>\n",
       "      <td>0</td>\n",
       "    </tr>\n",
       "    <tr>\n",
       "      <th>2</th>\n",
       "      <td>1</td>\n",
       "    </tr>\n",
       "    <tr>\n",
       "      <th>3</th>\n",
       "      <td>0</td>\n",
       "    </tr>\n",
       "    <tr>\n",
       "      <th>4</th>\n",
       "      <td>0</td>\n",
       "    </tr>\n",
       "  </tbody>\n",
       "</table>\n",
       "</div>"
      ],
      "text/plain": [
       "   Gender_Male\n",
       "0            0\n",
       "1            0\n",
       "2            1\n",
       "3            0\n",
       "4            0"
      ]
     },
     "execution_count": 26,
     "metadata": {},
     "output_type": "execute_result"
    }
   ],
   "source": [
    "dummy_gender = pd.get_dummies(df['Gender'], prefix = 'Gender').iloc[:, 1:]\n",
    "dummy_gender.head()"
   ]
  },
  {
   "cell_type": "code",
   "execution_count": 27,
   "id": "2179913b-a391-469f-8958-73728a711965",
   "metadata": {},
   "outputs": [
    {
     "data": {
      "text/html": [
       "<div>\n",
       "<style scoped>\n",
       "    .dataframe tbody tr th:only-of-type {\n",
       "        vertical-align: middle;\n",
       "    }\n",
       "\n",
       "    .dataframe tbody tr th {\n",
       "        vertical-align: top;\n",
       "    }\n",
       "\n",
       "    .dataframe thead th {\n",
       "        text-align: right;\n",
       "    }\n",
       "</style>\n",
       "<table border=\"1\" class=\"dataframe\">\n",
       "  <thead>\n",
       "    <tr style=\"text-align: right;\">\n",
       "      <th></th>\n",
       "      <th>City_Tier 2</th>\n",
       "      <th>City_Tier 3</th>\n",
       "    </tr>\n",
       "  </thead>\n",
       "  <tbody>\n",
       "    <tr>\n",
       "      <th>0</th>\n",
       "      <td>0</td>\n",
       "      <td>0</td>\n",
       "    </tr>\n",
       "    <tr>\n",
       "      <th>1</th>\n",
       "      <td>1</td>\n",
       "      <td>0</td>\n",
       "    </tr>\n",
       "    <tr>\n",
       "      <th>2</th>\n",
       "      <td>1</td>\n",
       "      <td>0</td>\n",
       "    </tr>\n",
       "    <tr>\n",
       "      <th>3</th>\n",
       "      <td>0</td>\n",
       "      <td>0</td>\n",
       "    </tr>\n",
       "    <tr>\n",
       "      <th>4</th>\n",
       "      <td>1</td>\n",
       "      <td>0</td>\n",
       "    </tr>\n",
       "  </tbody>\n",
       "</table>\n",
       "</div>"
      ],
      "text/plain": [
       "   City_Tier 2  City_Tier 3\n",
       "0            0            0\n",
       "1            1            0\n",
       "2            1            0\n",
       "3            0            0\n",
       "4            1            0"
      ]
     },
     "execution_count": 27,
     "metadata": {},
     "output_type": "execute_result"
    }
   ],
   "source": [
    "dummy_city_tier = pd.get_dummies(df['City Tier'], prefix = 'City').iloc[:, 1:]\n",
    "dummy_city_tier.head()"
   ]
  },
  {
   "cell_type": "code",
   "execution_count": 28,
   "id": "094fad95-6d70-459f-8eb0-61215329993c",
   "metadata": {},
   "outputs": [
    {
     "data": {
      "text/html": [
       "<div>\n",
       "<style scoped>\n",
       "    .dataframe tbody tr th:only-of-type {\n",
       "        vertical-align: middle;\n",
       "    }\n",
       "\n",
       "    .dataframe tbody tr th {\n",
       "        vertical-align: top;\n",
       "    }\n",
       "\n",
       "    .dataframe thead th {\n",
       "        text-align: right;\n",
       "    }\n",
       "</style>\n",
       "<table border=\"1\" class=\"dataframe\">\n",
       "  <thead>\n",
       "    <tr style=\"text-align: right;\">\n",
       "      <th></th>\n",
       "      <th>Transaction ID</th>\n",
       "      <th>Age</th>\n",
       "      <th>Items</th>\n",
       "      <th>Monthly Income</th>\n",
       "      <th>Transaction Time</th>\n",
       "      <th>Record</th>\n",
       "      <th>Gender</th>\n",
       "      <th>City Tier</th>\n",
       "      <th>Total Spend</th>\n",
       "      <th>Gender_Male</th>\n",
       "      <th>City_Tier 2</th>\n",
       "      <th>City_Tier 3</th>\n",
       "    </tr>\n",
       "  </thead>\n",
       "  <tbody>\n",
       "    <tr>\n",
       "      <th>0</th>\n",
       "      <td>TXN001</td>\n",
       "      <td>42</td>\n",
       "      <td>10</td>\n",
       "      <td>7313</td>\n",
       "      <td>627.668127</td>\n",
       "      <td>5</td>\n",
       "      <td>Female</td>\n",
       "      <td>Tier 1</td>\n",
       "      <td>4198.385084</td>\n",
       "      <td>0</td>\n",
       "      <td>0</td>\n",
       "      <td>0</td>\n",
       "    </tr>\n",
       "    <tr>\n",
       "      <th>1</th>\n",
       "      <td>TXN002</td>\n",
       "      <td>24</td>\n",
       "      <td>8</td>\n",
       "      <td>17747</td>\n",
       "      <td>126.904567</td>\n",
       "      <td>3</td>\n",
       "      <td>Female</td>\n",
       "      <td>Tier 2</td>\n",
       "      <td>4134.976648</td>\n",
       "      <td>0</td>\n",
       "      <td>1</td>\n",
       "      <td>0</td>\n",
       "    </tr>\n",
       "    <tr>\n",
       "      <th>2</th>\n",
       "      <td>TXN003</td>\n",
       "      <td>47</td>\n",
       "      <td>11</td>\n",
       "      <td>22845</td>\n",
       "      <td>873.469701</td>\n",
       "      <td>2</td>\n",
       "      <td>Male</td>\n",
       "      <td>Tier 2</td>\n",
       "      <td>5166.614455</td>\n",
       "      <td>1</td>\n",
       "      <td>1</td>\n",
       "      <td>0</td>\n",
       "    </tr>\n",
       "    <tr>\n",
       "      <th>3</th>\n",
       "      <td>TXN004</td>\n",
       "      <td>50</td>\n",
       "      <td>11</td>\n",
       "      <td>18552</td>\n",
       "      <td>380.219428</td>\n",
       "      <td>7</td>\n",
       "      <td>Female</td>\n",
       "      <td>Tier 1</td>\n",
       "      <td>7784.447676</td>\n",
       "      <td>0</td>\n",
       "      <td>0</td>\n",
       "      <td>0</td>\n",
       "    </tr>\n",
       "    <tr>\n",
       "      <th>4</th>\n",
       "      <td>TXN005</td>\n",
       "      <td>60</td>\n",
       "      <td>2</td>\n",
       "      <td>14439</td>\n",
       "      <td>403.374223</td>\n",
       "      <td>2</td>\n",
       "      <td>Female</td>\n",
       "      <td>Tier 2</td>\n",
       "      <td>3254.160485</td>\n",
       "      <td>0</td>\n",
       "      <td>1</td>\n",
       "      <td>0</td>\n",
       "    </tr>\n",
       "  </tbody>\n",
       "</table>\n",
       "</div>"
      ],
      "text/plain": [
       "  Transaction ID  Age    Items   Monthly Income  Transaction Time  Record  \\\n",
       "0         TXN001    42       10            7313        627.668127       5   \n",
       "1         TXN002    24        8           17747        126.904567       3   \n",
       "2         TXN003    47       11           22845        873.469701       2   \n",
       "3         TXN004    50       11           18552        380.219428       7   \n",
       "4         TXN005    60        2           14439        403.374223       2   \n",
       "\n",
       "   Gender City Tier  Total Spend  Gender_Male  City_Tier 2  City_Tier 3  \n",
       "0  Female    Tier 1  4198.385084            0            0            0  \n",
       "1  Female    Tier 2  4134.976648            0            1            0  \n",
       "2    Male    Tier 2  5166.614455            1            1            0  \n",
       "3  Female    Tier 1  7784.447676            0            0            0  \n",
       "4  Female    Tier 2  3254.160485            0            1            0  "
      ]
     },
     "execution_count": 28,
     "metadata": {},
     "output_type": "execute_result"
    }
   ],
   "source": [
    "column_names = df.columns.values.tolist()\n",
    "df_new = df[column_names].join(dummy_gender)\n",
    "column_names = df_new.columns.values.tolist()\n",
    "df_new = df_new[column_names].join(dummy_city_tier)\n",
    "df_new.head()"
   ]
  },
  {
   "cell_type": "code",
   "execution_count": 29,
   "id": "32a50681-ab1e-41d6-a1ff-f0d507b395c5",
   "metadata": {},
   "outputs": [
    {
     "data": {
      "text/plain": [
       "LinearRegression()"
      ]
     },
     "execution_count": 29,
     "metadata": {},
     "output_type": "execute_result"
    }
   ],
   "source": [
    "feature_cols = ['Monthly Income', 'Transaction Time', 'Gender_Male', 'City_Tier 2', 'City_Tier 3', 'Record']\n",
    "X = df_new[feature_cols]\n",
    "Y = df_new['Total Spend']\n",
    "lm = LinearRegression()\n",
    "lm.fit(X, Y)"
   ]
  },
  {
   "cell_type": "code",
   "execution_count": 30,
   "id": "bec9f943-01b9-46c2-845a-0a823bf2f3cc",
   "metadata": {},
   "outputs": [
    {
     "data": {
      "text/plain": [
       "-133.67781754642238"
      ]
     },
     "execution_count": 30,
     "metadata": {},
     "output_type": "execute_result"
    }
   ],
   "source": [
    "lm.intercept_"
   ]
  },
  {
   "cell_type": "code",
   "execution_count": 31,
   "id": "8a14a306-c475-4800-a955-92a5f745b3f7",
   "metadata": {},
   "outputs": [
    {
     "data": {
      "text/plain": [
       "[('Monthly Income', 0.14753898049205744),\n",
       " ('Transaction Time', 0.1549461254958966),\n",
       " ('Gender_Male', 262.0500265110955),\n",
       " ('City_Tier 2', -21.62535170126276),\n",
       " ('City_Tier 3', -208.66762633022324),\n",
       " ('Record', 772.2334457445636)]"
      ]
     },
     "execution_count": 31,
     "metadata": {},
     "output_type": "execute_result"
    }
   ],
   "source": [
    "list(zip(feature_cols, lm.coef_))"
   ]
  },
  {
   "cell_type": "code",
   "execution_count": 32,
   "id": "90969eb7-c9cd-41fe-81b9-080c981bce0c",
   "metadata": {},
   "outputs": [
    {
     "data": {
      "text/plain": [
       "0.9179923586131016"
      ]
     },
     "execution_count": 32,
     "metadata": {},
     "output_type": "execute_result"
    }
   ],
   "source": [
    "lm.score(X, Y)"
   ]
  },
  {
   "cell_type": "markdown",
   "id": "0b8fcba5-b56b-49ac-a772-e3b546410b0b",
   "metadata": {},
   "source": [
    "Coeficientes con todas las variables del modelo:\n",
    "```\n",
    "('Monthly Income', 0.1475389804920574),\n",
    "('Transaction Time', 0.15494612549589615),\n",
    "('Gender_Female', -131.0250132555464),\n",
    "('Gender_Male', 131.02501325554636),\n",
    "('City_Tier 1', 76.76432601049565),\n",
    "('City_Tier 2', 55.13897430923203),\n",
    "('City_Tier 3', -131.90330031972763),\n",
    "('Record', 772.2334457445646)\n",
    "```\n",
    "Coeficientes tras enmascarar las variables dummy pertinentes:\n",
    "```\n",
    "('Monthly Income', 0.14753898049205744),\n",
    "('Transaction Time', 0.1549461254958966),\n",
    "('Gender_Male', 262.0500265110955),\n",
    "('City_Tier 2', -21.62535170126276),\n",
    "('City_Tier 3', -208.66762633022324),\n",
    "('Record', 772.2334457445636)\n",
    "```\n",
    "\n",
    "Los cambios se reflejan en:\n",
    "* Gender_Male:\n",
    "    * Antes -> 131.02\n",
    "    * Después -> 262.05 = (131.02 - (-131.02))\n",
    "* Gender_Female:\n",
    "    * Antes -> -131.02\n",
    "    * Después -> 0\n",
    "* CT1: \n",
    "    * Antes -> 76.76\n",
    "    * Después -> 0\n",
    "* CT2:\n",
    "    * Antes -> 55.13\n",
    "    * Después -> -21.62 = (55.13 - 76.76)\n",
    "* CT3:\n",
    "    * Antes -> -131.90\n",
    "    * Después -> -208.66 = (-131.90 -76.76)"
   ]
  },
  {
   "cell_type": "markdown",
   "id": "86cb88b4-4d4c-457d-a8ba-c10e68b6ef52",
   "metadata": {
    "tags": []
   },
   "source": [
    "# Transformación de variables para conseguir una relación no lineal"
   ]
  },
  {
   "cell_type": "code",
   "execution_count": 33,
   "id": "0ddf16f7-9961-4326-8a9e-fa094dc45019",
   "metadata": {},
   "outputs": [],
   "source": [
    "mainpath = '../../datasets/'\n",
    "filename = 'auto/auto-mpg.csv'\n",
    "fullpath = os.path.join(mainpath, filename)\n",
    "\n",
    "data_auto = pd.read_csv(fullpath)"
   ]
  },
  {
   "cell_type": "code",
   "execution_count": 34,
   "id": "eab545fe-7657-43d9-b328-e9a368e5485f",
   "metadata": {},
   "outputs": [
    {
     "data": {
      "text/html": [
       "<div>\n",
       "<style scoped>\n",
       "    .dataframe tbody tr th:only-of-type {\n",
       "        vertical-align: middle;\n",
       "    }\n",
       "\n",
       "    .dataframe tbody tr th {\n",
       "        vertical-align: top;\n",
       "    }\n",
       "\n",
       "    .dataframe thead th {\n",
       "        text-align: right;\n",
       "    }\n",
       "</style>\n",
       "<table border=\"1\" class=\"dataframe\">\n",
       "  <thead>\n",
       "    <tr style=\"text-align: right;\">\n",
       "      <th></th>\n",
       "      <th>mpg</th>\n",
       "      <th>cylinders</th>\n",
       "      <th>displacement</th>\n",
       "      <th>horsepower</th>\n",
       "      <th>weight</th>\n",
       "      <th>acceleration</th>\n",
       "      <th>model year</th>\n",
       "      <th>origin</th>\n",
       "      <th>car name</th>\n",
       "    </tr>\n",
       "  </thead>\n",
       "  <tbody>\n",
       "    <tr>\n",
       "      <th>0</th>\n",
       "      <td>18.0</td>\n",
       "      <td>8</td>\n",
       "      <td>307.0</td>\n",
       "      <td>130.0</td>\n",
       "      <td>3504</td>\n",
       "      <td>12.0</td>\n",
       "      <td>70</td>\n",
       "      <td>1</td>\n",
       "      <td>chevrolet chevelle malibu</td>\n",
       "    </tr>\n",
       "    <tr>\n",
       "      <th>1</th>\n",
       "      <td>15.0</td>\n",
       "      <td>8</td>\n",
       "      <td>350.0</td>\n",
       "      <td>165.0</td>\n",
       "      <td>3693</td>\n",
       "      <td>11.5</td>\n",
       "      <td>70</td>\n",
       "      <td>1</td>\n",
       "      <td>buick skylark 320</td>\n",
       "    </tr>\n",
       "    <tr>\n",
       "      <th>2</th>\n",
       "      <td>18.0</td>\n",
       "      <td>8</td>\n",
       "      <td>318.0</td>\n",
       "      <td>150.0</td>\n",
       "      <td>3436</td>\n",
       "      <td>11.0</td>\n",
       "      <td>70</td>\n",
       "      <td>1</td>\n",
       "      <td>plymouth satellite</td>\n",
       "    </tr>\n",
       "    <tr>\n",
       "      <th>3</th>\n",
       "      <td>16.0</td>\n",
       "      <td>8</td>\n",
       "      <td>304.0</td>\n",
       "      <td>150.0</td>\n",
       "      <td>3433</td>\n",
       "      <td>12.0</td>\n",
       "      <td>70</td>\n",
       "      <td>1</td>\n",
       "      <td>amc rebel sst</td>\n",
       "    </tr>\n",
       "    <tr>\n",
       "      <th>4</th>\n",
       "      <td>17.0</td>\n",
       "      <td>8</td>\n",
       "      <td>302.0</td>\n",
       "      <td>140.0</td>\n",
       "      <td>3449</td>\n",
       "      <td>10.5</td>\n",
       "      <td>70</td>\n",
       "      <td>1</td>\n",
       "      <td>ford torino</td>\n",
       "    </tr>\n",
       "  </tbody>\n",
       "</table>\n",
       "</div>"
      ],
      "text/plain": [
       "    mpg  cylinders  displacement  horsepower  weight  acceleration  \\\n",
       "0  18.0          8         307.0       130.0    3504          12.0   \n",
       "1  15.0          8         350.0       165.0    3693          11.5   \n",
       "2  18.0          8         318.0       150.0    3436          11.0   \n",
       "3  16.0          8         304.0       150.0    3433          12.0   \n",
       "4  17.0          8         302.0       140.0    3449          10.5   \n",
       "\n",
       "   model year  origin                   car name  \n",
       "0          70       1  chevrolet chevelle malibu  \n",
       "1          70       1          buick skylark 320  \n",
       "2          70       1         plymouth satellite  \n",
       "3          70       1              amc rebel sst  \n",
       "4          70       1                ford torino  "
      ]
     },
     "execution_count": 34,
     "metadata": {},
     "output_type": "execute_result"
    }
   ],
   "source": [
    "data_auto.head()"
   ]
  },
  {
   "cell_type": "code",
   "execution_count": 35,
   "id": "8009be2a-5e64-43f6-b766-522859e92f34",
   "metadata": {},
   "outputs": [
    {
     "data": {
      "text/plain": [
       "(406, 9)"
      ]
     },
     "execution_count": 35,
     "metadata": {},
     "output_type": "execute_result"
    }
   ],
   "source": [
    "data_auto.shape"
   ]
  },
  {
   "cell_type": "code",
   "execution_count": 36,
   "id": "7bc7c888-c44a-497e-8e95-3ed08d9f413f",
   "metadata": {},
   "outputs": [
    {
     "data": {
      "image/png": "[encoded data removed]",
      "text/plain": [
       "<Figure size 432x288 with 1 Axes>"
      ]
     },
     "metadata": {
      "needs_background": "light"
     },
     "output_type": "display_data"
    }
   ],
   "source": [
    "data_auto['mpg'] = data_auto['mpg'].dropna()\n",
    "data_auto['horsepower'] = data_auto['horsepower'].dropna()\n",
    "plt.plot(data_auto['horsepower'], data_auto['mpg'], 'ro')\n",
    "plt.xlabel('Caballos de potencia')\n",
    "plt.ylabel('Consumo (millas por galeón)')\n",
    "plt.title('CV vs MPG')\n",
    "plt.show()"
   ]
  },
  {
   "cell_type": "markdown",
   "id": "baff6590-c00e-486f-8829-3c65ff504812",
   "metadata": {},
   "source": [
    "## Modelo de regresión lineal\n",
    "* mpg = a + b * horsepower"
   ]
  },
  {
   "cell_type": "code",
   "execution_count": 37,
   "id": "5ba997c8-8683-4829-a5cd-ef39477e8b43",
   "metadata": {},
   "outputs": [],
   "source": [
    "X = data_auto['horsepower'].fillna(data_auto['horsepower'].mean()).values.reshape(-1, 1)\n",
    "Y = data_auto['mpg'].fillna(data_auto['mpg'].mean())"
   ]
  },
  {
   "cell_type": "code",
   "execution_count": 38,
   "id": "f6dd08e6-0c81-4361-8fcb-edb347e18133",
   "metadata": {},
   "outputs": [
    {
     "data": {
      "text/plain": [
       "LinearRegression()"
      ]
     },
     "execution_count": 38,
     "metadata": {},
     "output_type": "execute_result"
    }
   ],
   "source": [
    "lm = LinearRegression()\n",
    "lm.fit(X, Y)"
   ]
  },
  {
   "cell_type": "code",
   "execution_count": 39,
   "id": "90619c54-361f-4c71-befd-4d0b01d7136e",
   "metadata": {},
   "outputs": [
    {
     "data": {
      "image/png": "[encoded data removed]",
      "text/plain": [
       "<Figure size 432x288 with 1 Axes>"
      ]
     },
     "metadata": {
      "needs_background": "light"
     },
     "output_type": "display_data"
    }
   ],
   "source": [
    "plt.plot(X, Y, 'ro')\n",
    "plt.plot(X, lm.predict(X), color = 'blue')\n",
    "plt.show()"
   ]
  },
  {
   "cell_type": "code",
   "execution_count": 40,
   "id": "671e7f73-9450-4e0f-a5b0-8a568dbe4cfa",
   "metadata": {},
   "outputs": [
    {
     "data": {
      "text/plain": [
       "0.5746533406450252"
      ]
     },
     "execution_count": 40,
     "metadata": {},
     "output_type": "execute_result"
    }
   ],
   "source": [
    "lm.score(X, Y) # Factor R^2"
   ]
  },
  {
   "cell_type": "code",
   "execution_count": 41,
   "id": "f7624ef8-e6de-433d-beee-5b7014aca56c",
   "metadata": {},
   "outputs": [
    {
     "data": {
      "text/plain": [
       "(10315.751960060918,\n",
       " 5.046879480825511,\n",
       " 23.514572864321607,\n",
       " 0.21462773361633472)"
      ]
     },
     "execution_count": 41,
     "metadata": {},
     "output_type": "execute_result"
    }
   ],
   "source": [
    "SSD = np.sum((Y - lm.predict(X))**2)\n",
    "RSE = np.sqrt(SSD/(len(X) - 1))\n",
    "y_mean = np.mean(Y)\n",
    "error = RSE/y_mean\n",
    "SSD, RSE, y_mean, error"
   ]
  },
  {
   "cell_type": "markdown",
   "id": "c76614d6-0a87-4484-9b46-b46328632c35",
   "metadata": {},
   "source": [
    "## Modelo de regresión cuadrático\n",
    "* mpg = a + b * horsepower^2"
   ]
  },
  {
   "cell_type": "code",
   "execution_count": 42,
   "id": "2d3ddcdd-ed4d-418f-9748-ea17eb51ef37",
   "metadata": {},
   "outputs": [],
   "source": [
    "X = X**2 # Única modificación"
   ]
  },
  {
   "cell_type": "code",
   "execution_count": 43,
   "id": "ead91ee9-fb36-4ade-a073-9034860963bf",
   "metadata": {},
   "outputs": [
    {
     "data": {
      "text/plain": [
       "LinearRegression()"
      ]
     },
     "execution_count": 43,
     "metadata": {},
     "output_type": "execute_result"
    }
   ],
   "source": [
    "lm = LinearRegression()\n",
    "lm.fit(X, Y)"
   ]
  },
  {
   "cell_type": "code",
   "execution_count": 44,
   "id": "d01e6b3c-3e5b-4ebd-aea4-b674c899f1df",
   "metadata": {},
   "outputs": [
    {
     "data": {
      "text/plain": [
       "0.4849887034823205"
      ]
     },
     "execution_count": 44,
     "metadata": {},
     "output_type": "execute_result"
    }
   ],
   "source": [
    "lm.score(X, Y) # Factor R^2"
   ]
  },
  {
   "cell_type": "code",
   "execution_count": 45,
   "id": "d07a8e74-ddee-4b21-aeac-159cd8d1a03f",
   "metadata": {},
   "outputs": [
    {
     "data": {
      "text/plain": [
       "(12490.350340501926,\n",
       " 5.553410772769817,\n",
       " 23.514572864321607,\n",
       " 0.23616889852998113)"
      ]
     },
     "execution_count": 45,
     "metadata": {},
     "output_type": "execute_result"
    }
   ],
   "source": [
    "SSD = np.sum((Y - lm.predict(X))**2)\n",
    "RSE = np.sqrt(SSD/(len(X) - 1))\n",
    "y_mean = np.mean(Y)\n",
    "error = RSE/y_mean\n",
    "SSD, RSE, y_mean, error"
   ]
  },
  {
   "cell_type": "markdown",
   "id": "0669378c-9b1e-459a-92ad-169d6e233f3a",
   "metadata": {},
   "source": [
    "## Modelo de regresión lineal y cuadrático\n",
    "* mpg = a + b * horsepower + c * horsepower^2"
   ]
  },
  {
   "cell_type": "code",
   "execution_count": 46,
   "id": "e77f85bd-c0a3-4abf-b179-e548b068f81f",
   "metadata": {},
   "outputs": [],
   "source": [
    "from sklearn.preprocessing import PolynomialFeatures\n",
    "from sklearn import linear_model"
   ]
  },
  {
   "cell_type": "code",
   "execution_count": 47,
   "id": "16466eed-7487-41a2-95d7-df3de85ea4c5",
   "metadata": {},
   "outputs": [],
   "source": [
    "poly = PolynomialFeatures(degree = 2)"
   ]
  },
  {
   "cell_type": "code",
   "execution_count": 48,
   "id": "05f2434f-02ec-430c-8ab0-1f3b438fd98e",
   "metadata": {},
   "outputs": [],
   "source": [
    "X = data_auto['horsepower'].fillna(data_auto['horsepower'].mean()).values.reshape(-1, 1)\n",
    "Y = data_auto['mpg'].fillna(data_auto['mpg'].mean())"
   ]
  },
  {
   "cell_type": "code",
   "execution_count": 49,
   "id": "b093d63e-8485-4bfd-90f6-81b4f570b22b",
   "metadata": {},
   "outputs": [],
   "source": [
    "X_data = poly.fit_transform(X)"
   ]
  },
  {
   "cell_type": "code",
   "execution_count": 50,
   "id": "26da0a9e-5abc-4147-bc5b-230d58a74a79",
   "metadata": {},
   "outputs": [],
   "source": [
    "lm = LinearRegression()"
   ]
  },
  {
   "cell_type": "code",
   "execution_count": 51,
   "id": "bb951b22-680c-4a24-95bc-1ba68d00854f",
   "metadata": {},
   "outputs": [
    {
     "data": {
      "text/plain": [
       "LinearRegression()"
      ]
     },
     "execution_count": 51,
     "metadata": {},
     "output_type": "execute_result"
    }
   ],
   "source": [
    "lm.fit(X_data, Y)"
   ]
  },
  {
   "cell_type": "code",
   "execution_count": 52,
   "id": "c5e14764-7bbf-4b05-81db-449c71c97515",
   "metadata": {},
   "outputs": [
    {
     "data": {
      "text/plain": [
       "0.6439066584257469"
      ]
     },
     "execution_count": 52,
     "metadata": {},
     "output_type": "execute_result"
    }
   ],
   "source": [
    "lm.score(X_data, Y)"
   ]
  },
  {
   "cell_type": "markdown",
   "id": "c5ac7ff1-9600-4355-abe0-668b2fd50983",
   "metadata": {},
   "source": [
    "Aumenta el R2 al añadir un modelo de regresión lineal junto a uno cuadrático"
   ]
  },
  {
   "cell_type": "code",
   "execution_count": 53,
   "id": "8656e2e2-ad67-4a02-8d1b-aa0c86312e72",
   "metadata": {},
   "outputs": [
    {
     "data": {
      "text/plain": [
       "55.026192447081144"
      ]
     },
     "execution_count": 53,
     "metadata": {},
     "output_type": "execute_result"
    }
   ],
   "source": [
    "lm.intercept_"
   ]
  },
  {
   "cell_type": "code",
   "execution_count": 54,
   "id": "912868bd-923b-49a1-a483-0649b4c34000",
   "metadata": {},
   "outputs": [
    {
     "data": {
      "text/plain": [
       "array([ 0.        , -0.43404318,  0.00112615])"
      ]
     },
     "execution_count": 54,
     "metadata": {},
     "output_type": "execute_result"
    }
   ],
   "source": [
    "lm.coef_"
   ]
  },
  {
   "cell_type": "markdown",
   "id": "b3bed35a-de90-4d53-b50e-6655d4d1f658",
   "metadata": {},
   "source": [
    "mpg = 55.026192447081144 - 0.43404318 * hp + 0.00112615 * hp^2"
   ]
  },
  {
   "cell_type": "code",
   "execution_count": 55,
   "id": "1edc37e5-8cfe-4e57-81d1-97d1f0866ca1",
   "metadata": {},
   "outputs": [],
   "source": [
    "def regression_validation(X_data, Y, Y_pred):\n",
    "    SSD = np.sum((Y - Y_pred)**2)\n",
    "    RSE = np.sqrt(SSD/(len(X) - 1))\n",
    "    y_mean = np.mean(Y)\n",
    "    error = RSE/y_mean\n",
    "    print('SSD: {}, RSE: {}, y_mean: {}, error: {}\\n'.format(SSD, RSE, y_mean, error))"
   ]
  },
  {
   "cell_type": "code",
   "execution_count": 56,
   "id": "fc2a0914-a50b-4b5f-8d0b-b80be23eba3e",
   "metadata": {},
   "outputs": [
    {
     "name": "stdout",
     "output_type": "stream",
     "text": [
      "Regresión de grado 2\n",
      "R2: 0.6439066584257469\n",
      "Intercept: 55.026192447081144\n",
      "Coeficientes: [ 0.         -0.43404318  0.00112615]\n",
      "SSD: 8636.180643524502, RSE: 4.61778115803654, y_mean: 23.514572864321607, error: 0.196379546619069\n",
      "\n",
      "Regresión de grado 3\n",
      "R2: 0.6444678885560744\n",
      "Intercept: 58.44877411167161\n",
      "Coeficientes: [ 0.00000000e+00 -5.27113167e-01  1.89736722e-03 -1.95723195e-06]\n",
      "SSD: 8622.56936742855, RSE: 4.614140736300908, y_mean: 23.514572864321607, error: 0.19622473106036686\n",
      "\n",
      "Regresión de grado 4\n",
      "R2: 0.6467674189704502\n",
      "Intercept: 40.09664385588792\n",
      "Coeficientes: [ 0.00000000e+00  1.62563541e-01 -7.10892744e-03  4.65580255e-05\n",
      " -9.15840093e-08]\n",
      "SSD: 8566.799832491351, RSE: 4.599194731579757, y_mean: 23.514572864321607, error: 0.19558912501268785\n",
      "\n",
      "Regresión de grado 5\n",
      "R2: 0.65475124918379\n",
      "Intercept: -40.69399235635801\n",
      "Coeficientes: [ 0.00000000e+00  4.00021889e+00 -7.54802460e-02  6.19621635e-04\n",
      " -2.36220982e-06  3.41983064e-09]\n",
      "SSD: 8373.171387643686, RSE: 4.5469217338152195, y_mean: 23.514572864321607, error: 0.19336612066274067\n",
      "\n",
      "Regresión de grado 6\n",
      "R2: 0.6572734807372839\n",
      "Intercept: -156.96925854479122\n",
      "Coeficientes: [ 0.00000000e+00  1.07601477e+01 -2.30132339e-01  2.40564956e-03\n",
      " -1.33790988e-05  3.79770738e-08 -4.32542890e-11]\n",
      "SSD: 8312.00077652113, RSE: 4.530282409238919, y_mean: 23.514572864321607, error: 0.192658503106925\n",
      "\n",
      "Regresión de grado 7\n",
      "R2: 0.6538575065345984\n",
      "Intercept: 14.784857481233345\n",
      "Coeficientes: [ 0.00000000e+00  1.31389026e-03  4.31456939e-02 -1.25390743e-03\n",
      "  1.46288827e-05 -8.50437847e-08  2.45087467e-10 -2.79302623e-13]\n",
      "SSD: 8394.846948700566, RSE: 4.552803219697217, y_mean: 23.514572864321607, error: 0.19361624155228152\n",
      "\n",
      "Regresión de grado 8\n",
      "R2: 0.6512432177855441\n",
      "Intercept: 36.40675558154503\n",
      "Coeficientes: [ 0.00000000e+00  1.63735437e-07  3.03197494e-06  8.84870556e-05\n",
      " -3.97062264e-06  5.47387164e-08 -3.43821837e-10  1.02688165e-12\n",
      " -1.18560099e-15]\n",
      "SSD: 8458.25018390669, RSE: 4.569963714880585, y_mean: 23.514572864321607, error: 0.1943460228365253\n",
      "\n",
      "Regresión de grado 9\n",
      "R2: 0.6510536266138707\n",
      "Intercept: 39.46399364712211\n",
      "Coeficientes: [ 0.00000000e+00  2.96347863e-08 -1.29741857e-09 -6.48222960e-08\n",
      " -1.77070942e-06  3.55392624e-08 -3.00073514e-10  1.32188703e-12\n",
      " -3.03803653e-15  2.92182361e-18]\n",
      "SSD: 8462.848258107544, RSE: 4.571205708011497, y_mean: 23.514572864321607, error: 0.1943988408544446\n",
      "\n",
      "Regresión de grado 10\n",
      "R2: 0.6523569021791605\n",
      "Intercept: 38.4444648999539\n",
      "Coeficientes: [ 0.00000000e+00 -8.73839602e-10 -2.78800516e-13 -2.72213721e-11\n",
      " -1.29905706e-09 -3.51790143e-08  8.70666965e-10 -8.87316300e-12\n",
      "  4.60562559e-14 -1.20914985e-16  1.27854205e-19]\n",
      "SSD: 8431.240469092518, RSE: 4.56266125210529, y_mean: 23.514572864321607, error: 0.19403547231887694\n",
      "\n",
      "Regresión de grado 11\n",
      "R2: 0.6508498148677933\n",
      "Intercept: 36.218549470553725\n",
      "Coeficientes: [ 0.00000000e+00  7.08773091e-11  4.67024482e-15 -4.78364653e-15\n",
      " -3.05230339e-13 -1.44449175e-11 -3.95762169e-10  1.00824958e-11\n",
      " -1.04253142e-13  5.43578700e-16 -1.42337255e-18  1.49337120e-21]\n",
      "SSD: 8467.791217862465, RSE: 4.572540482473385, y_mean: 23.514572864321607, error: 0.19445560456729571\n",
      "\n",
      "Regresión de grado 12\n",
      "R2: 0.6030369429071445\n",
      "Intercept: 31.07168062029824\n",
      "Coeficientes: [ 0.00000000e+00 -6.99531542e-18  5.76341820e-22 -9.09403235e-24\n",
      " -8.71012745e-22 -7.62043477e-20 -5.67186594e-18 -3.28990244e-16\n",
      " -1.15243494e-14  2.29945496e-16 -1.72235333e-18  5.72957538e-21\n",
      " -7.13391588e-24]\n",
      "SSD: 9627.376503878735, RSE: 4.875582017521306, y_mean: 23.514572864321607, error: 0.20734299728314312\n",
      "\n"
     ]
    }
   ],
   "source": [
    "# Probar con un bucle for distintos grados del polinomio, de grado 2 a grado 12\n",
    "for d in range (2, 13):\n",
    "    poly = PolynomialFeatures(degree = d)\n",
    "    X_data = poly.fit_transform(X)\n",
    "    lm = LinearRegression()\n",
    "    lm.fit(X_data, Y)\n",
    "    print('Regresión de grado {}'.format(d))\n",
    "    print('R2:', lm.score(X_data, Y))\n",
    "    print('Intercept:', lm.intercept_)\n",
    "    print('Coeficientes:', lm.coef_)\n",
    "    regression_validation(X_data, Y, lm.predict(X_data))"
   ]
  },
  {
   "cell_type": "markdown",
   "id": "915f87cf-7a0f-4f01-b8a8-4079e21d9c40",
   "metadata": {},
   "source": [
    "El que mejor resultados da es el de grado 2"
   ]
  },
  {
   "cell_type": "markdown",
   "id": "86c226ee-0034-4f24-a8c4-345ec90857d5",
   "metadata": {},
   "source": [
    "# El problema de los outliers"
   ]
  },
  {
   "cell_type": "code",
   "execution_count": 57,
   "id": "4d4e8aaf-c79e-4f72-959b-de2610b40371",
   "metadata": {},
   "outputs": [
    {
     "data": {
      "image/png": "[encoded data removed]",
      "text/plain": [
       "<Figure size 432x288 with 1 Axes>"
      ]
     },
     "metadata": {
      "needs_background": "light"
     },
     "output_type": "display_data"
    }
   ],
   "source": [
    "plt.plot(data_auto['displacement'], data_auto['mpg'], 'ro')\n",
    "plt.show()"
   ]
  },
  {
   "cell_type": "code",
   "execution_count": 58,
   "id": "f4985464-e45e-424b-8ae7-fde053bc5f99",
   "metadata": {},
   "outputs": [
    {
     "data": {
      "text/plain": [
       "LinearRegression()"
      ]
     },
     "execution_count": 58,
     "metadata": {},
     "output_type": "execute_result"
    }
   ],
   "source": [
    "X = data_auto['displacement'].fillna(data_auto['displacement'].mean()).values.reshape(-1, 1)\n",
    "Y = data_auto['mpg'].fillna(data_auto['mpg'].mean())\n",
    "\n",
    "lm = LinearRegression()\n",
    "lm.fit(X, Y)"
   ]
  },
  {
   "cell_type": "code",
   "execution_count": 59,
   "id": "ce52c3cb-0e61-424c-a336-d64243bd2c5f",
   "metadata": {},
   "outputs": [
    {
     "data": {
      "text/plain": [
       "0.6261049762826918"
      ]
     },
     "execution_count": 59,
     "metadata": {},
     "output_type": "execute_result"
    }
   ],
   "source": [
    "lm.score(X, Y)"
   ]
  },
  {
   "cell_type": "code",
   "execution_count": 60,
   "id": "98d40e5d-8d99-4251-bb95-988a42f1bd89",
   "metadata": {},
   "outputs": [
    {
     "data": {
      "image/png": "[encoded data removed]",
      "text/plain": [
       "<Figure size 432x288 with 1 Axes>"
      ]
     },
     "metadata": {
      "needs_background": "light"
     },
     "output_type": "display_data"
    }
   ],
   "source": [
    "plt.plot(X, Y, 'ro')\n",
    "plt.plot(X, lm.predict(X), color = 'blue')\n",
    "plt.show()"
   ]
  },
  {
   "cell_type": "code",
   "execution_count": 61,
   "id": "00c20fa5-75fc-4613-8ce9-a1017f087618",
   "metadata": {},
   "outputs": [
    {
     "data": {
      "text/html": [
       "<div>\n",
       "<style scoped>\n",
       "    .dataframe tbody tr th:only-of-type {\n",
       "        vertical-align: middle;\n",
       "    }\n",
       "\n",
       "    .dataframe tbody tr th {\n",
       "        vertical-align: top;\n",
       "    }\n",
       "\n",
       "    .dataframe thead th {\n",
       "        text-align: right;\n",
       "    }\n",
       "</style>\n",
       "<table border=\"1\" class=\"dataframe\">\n",
       "  <thead>\n",
       "    <tr style=\"text-align: right;\">\n",
       "      <th></th>\n",
       "      <th>mpg</th>\n",
       "      <th>cylinders</th>\n",
       "      <th>displacement</th>\n",
       "      <th>horsepower</th>\n",
       "      <th>weight</th>\n",
       "      <th>acceleration</th>\n",
       "      <th>model year</th>\n",
       "      <th>origin</th>\n",
       "      <th>car name</th>\n",
       "    </tr>\n",
       "  </thead>\n",
       "  <tbody>\n",
       "    <tr>\n",
       "      <th>395</th>\n",
       "      <td>38.0</td>\n",
       "      <td>6</td>\n",
       "      <td>262.0</td>\n",
       "      <td>85.0</td>\n",
       "      <td>3015</td>\n",
       "      <td>17.0</td>\n",
       "      <td>82</td>\n",
       "      <td>1</td>\n",
       "      <td>oldsmobile cutlass ciera (diesel)</td>\n",
       "    </tr>\n",
       "  </tbody>\n",
       "</table>\n",
       "</div>"
      ],
      "text/plain": [
       "      mpg  cylinders  displacement  horsepower  weight  acceleration  \\\n",
       "395  38.0          6         262.0        85.0    3015          17.0   \n",
       "\n",
       "     model year  origin                           car name  \n",
       "395          82       1  oldsmobile cutlass ciera (diesel)  "
      ]
     },
     "execution_count": 61,
     "metadata": {},
     "output_type": "execute_result"
    }
   ],
   "source": [
    "data_auto[(data_auto['displacement'] > 250) & (data_auto['mpg'] > 35)] # Buscando el outlier"
   ]
  },
  {
   "cell_type": "code",
   "execution_count": 62,
   "id": "d9a6af79-ec56-412d-bd4f-5b369da6091d",
   "metadata": {},
   "outputs": [
    {
     "data": {
      "text/html": [
       "<div>\n",
       "<style scoped>\n",
       "    .dataframe tbody tr th:only-of-type {\n",
       "        vertical-align: middle;\n",
       "    }\n",
       "\n",
       "    .dataframe tbody tr th {\n",
       "        vertical-align: top;\n",
       "    }\n",
       "\n",
       "    .dataframe thead th {\n",
       "        text-align: right;\n",
       "    }\n",
       "</style>\n",
       "<table border=\"1\" class=\"dataframe\">\n",
       "  <thead>\n",
       "    <tr style=\"text-align: right;\">\n",
       "      <th></th>\n",
       "      <th>mpg</th>\n",
       "      <th>cylinders</th>\n",
       "      <th>displacement</th>\n",
       "      <th>horsepower</th>\n",
       "      <th>weight</th>\n",
       "      <th>acceleration</th>\n",
       "      <th>model year</th>\n",
       "      <th>origin</th>\n",
       "      <th>car name</th>\n",
       "    </tr>\n",
       "  </thead>\n",
       "  <tbody>\n",
       "    <tr>\n",
       "      <th>258</th>\n",
       "      <td>20.2</td>\n",
       "      <td>8</td>\n",
       "      <td>302.0</td>\n",
       "      <td>139.0</td>\n",
       "      <td>3570</td>\n",
       "      <td>12.8</td>\n",
       "      <td>78</td>\n",
       "      <td>1</td>\n",
       "      <td>mercury monarch ghia</td>\n",
       "    </tr>\n",
       "    <tr>\n",
       "      <th>305</th>\n",
       "      <td>23.0</td>\n",
       "      <td>8</td>\n",
       "      <td>350.0</td>\n",
       "      <td>125.0</td>\n",
       "      <td>3900</td>\n",
       "      <td>17.4</td>\n",
       "      <td>79</td>\n",
       "      <td>1</td>\n",
       "      <td>cadillac eldorado</td>\n",
       "    </tr>\n",
       "    <tr>\n",
       "      <th>372</th>\n",
       "      <td>26.6</td>\n",
       "      <td>8</td>\n",
       "      <td>350.0</td>\n",
       "      <td>105.0</td>\n",
       "      <td>3725</td>\n",
       "      <td>19.0</td>\n",
       "      <td>81</td>\n",
       "      <td>1</td>\n",
       "      <td>oldsmobile cutlass ls</td>\n",
       "    </tr>\n",
       "  </tbody>\n",
       "</table>\n",
       "</div>"
      ],
      "text/plain": [
       "      mpg  cylinders  displacement  horsepower  weight  acceleration  \\\n",
       "258  20.2          8         302.0       139.0    3570          12.8   \n",
       "305  23.0          8         350.0       125.0    3900          17.4   \n",
       "372  26.6          8         350.0       105.0    3725          19.0   \n",
       "\n",
       "     model year  origin               car name  \n",
       "258          78       1   mercury monarch ghia  \n",
       "305          79       1      cadillac eldorado  \n",
       "372          81       1  oldsmobile cutlass ls  "
      ]
     },
     "execution_count": 62,
     "metadata": {},
     "output_type": "execute_result"
    }
   ],
   "source": [
    "data_auto[(data_auto['displacement'] > 300) & (data_auto['mpg'] > 20)] # Buscando el outlier"
   ]
  },
  {
   "cell_type": "code",
   "execution_count": 63,
   "id": "db97da16-41ca-4ef7-9618-63dee7ba6d02",
   "metadata": {},
   "outputs": [],
   "source": [
    "data_auto_clean = data_auto.drop([395, 258, 305, 372])"
   ]
  },
  {
   "cell_type": "code",
   "execution_count": 64,
   "id": "8c3ef8d4-d872-47e0-a3b2-0b8dc69acd0e",
   "metadata": {},
   "outputs": [
    {
     "data": {
      "text/plain": [
       "LinearRegression()"
      ]
     },
     "execution_count": 64,
     "metadata": {},
     "output_type": "execute_result"
    }
   ],
   "source": [
    "X = data_auto_clean['displacement'].fillna(data_auto['displacement'].mean()).values.reshape(-1, 1)\n",
    "Y = data_auto_clean['mpg'].fillna(data_auto['mpg'].mean())\n",
    "\n",
    "lm = LinearRegression()\n",
    "lm.fit(X, Y)"
   ]
  },
  {
   "cell_type": "code",
   "execution_count": 65,
   "id": "b70b98ee-f253-4f95-9a0f-c0c6887ec78a",
   "metadata": {},
   "outputs": [
    {
     "data": {
      "text/plain": [
       "0.646556489442804"
      ]
     },
     "execution_count": 65,
     "metadata": {},
     "output_type": "execute_result"
    }
   ],
   "source": [
    "lm.score(X, Y)"
   ]
  },
  {
   "cell_type": "code",
   "execution_count": 66,
   "id": "e37b3e9d-87da-44c8-898c-bedd95760180",
   "metadata": {},
   "outputs": [
    {
     "data": {
      "image/png": "[encoded data removed]",
      "text/plain": [
       "<Figure size 432x288 with 1 Axes>"
      ]
     },
     "metadata": {
      "needs_background": "light"
     },
     "output_type": "display_data"
    }
   ],
   "source": [
    "plt.plot(X, Y, 'ro')\n",
    "plt.plot(X, lm.predict(X), color = 'blue')\n",
    "plt.show()"
   ]
  }
 ],
 "metadata": {
  "kernelspec": {
   "display_name": "Python 3 (ipykernel)",
   "language": "python",
   "name": "python3"
  },
  "language_info": {
   "codemirror_mode": {
    "name": "ipython",
    "version": 3
   },
   "file_extension": ".py",
   "mimetype": "text/x-python",
   "name": "python",
   "nbconvert_exporter": "python",
   "pygments_lexer": "ipython3",
   "version": "3.7.13"
  }
 },
 "nbformat": 4,
 "nbformat_minor": 5
}
