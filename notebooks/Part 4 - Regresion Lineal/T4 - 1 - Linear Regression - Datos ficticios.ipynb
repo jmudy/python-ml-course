{
 "cells": [
  {
   "cell_type": "markdown",
   "id": "0882a551-adfa-45e9-b633-3a66e6023dbc",
   "metadata": {},
   "source": [
    "# Modelos de Regresión Lineal"
   ]
  },
  {
   "cell_type": "markdown",
   "id": "9003e0ff-2de8-480c-8648-151181685971",
   "metadata": {},
   "source": [
    "## Modelo con datos simulados"
   ]
  },
  {
   "cell_type": "markdown",
   "id": "2098c80f-d1aa-4b87-ae85-ce8b88ef0ecf",
   "metadata": {},
   "source": [
    "* y = a + b * x\n",
    "* X : 100 valores distribuidos según una N(1.5, 2.5)\n",
    "* Ye = 12 + 2.6 * x + e$\n",
    "* e estará distribuida según una N(0, 0.8)"
   ]
  },
  {
   "cell_type": "code",
   "execution_count": 1,
   "id": "7e8c0620-16f1-4f64-8f50-0c2dd3f014d5",
   "metadata": {},
   "outputs": [],
   "source": [
    "import pandas as pd\n",
    "import numpy as np\n",
    "import matplotlib.pyplot as plt"
   ]
  },
  {
   "cell_type": "code",
   "execution_count": 2,
   "id": "6fb292e3-832e-42b8-9037-601c1690c91f",
   "metadata": {},
   "outputs": [],
   "source": [
    "x = 1.5 + 2.5 * np.random.randn(100)"
   ]
  },
  {
   "cell_type": "code",
   "execution_count": 3,
   "id": "f6cc588b-6414-44d4-98ad-e88fb83aea36",
   "metadata": {},
   "outputs": [],
   "source": [
    "res = 0 + 0.8 * np.random.randn(100)"
   ]
  },
  {
   "cell_type": "code",
   "execution_count": 4,
   "id": "b95ca618-4d33-4f37-9614-a16a9fba7253",
   "metadata": {},
   "outputs": [],
   "source": [
    "y_pred = 12 + 2.6 * x"
   ]
  },
  {
   "cell_type": "code",
   "execution_count": 5,
   "id": "5b5efc38-a32c-4bb3-b20e-165079a19475",
   "metadata": {},
   "outputs": [],
   "source": [
    "y_act = 12 + 2.6 * x + res"
   ]
  },
  {
   "cell_type": "code",
   "execution_count": 6,
   "id": "b112da15-4720-4693-9acd-74ffdda2301b",
   "metadata": {},
   "outputs": [],
   "source": [
    "x_list = x.tolist()\n",
    "y_pred_list = y_pred.tolist()\n",
    "y_act_list = y_act.tolist()"
   ]
  },
  {
   "cell_type": "code",
   "execution_count": 7,
   "id": "ca5f5537-224e-46fa-9c3d-33a7228b2f4b",
   "metadata": {},
   "outputs": [],
   "source": [
    "data = pd.DataFrame(\n",
    "    {\n",
    "        'x' : x_list,\n",
    "        'y_act' : y_act_list,\n",
    "        'y_pred' : y_pred_list\n",
    "    }\n",
    ")"
   ]
  },
  {
   "cell_type": "code",
   "execution_count": 8,
   "id": "c4a44f5d-ff5c-41c5-a7c1-97f20c6c5074",
   "metadata": {},
   "outputs": [
    {
     "data": {
      "text/html": [
       "<div>\n",
       "<style scoped>\n",
       "    .dataframe tbody tr th:only-of-type {\n",
       "        vertical-align: middle;\n",
       "    }\n",
       "\n",
       "    .dataframe tbody tr th {\n",
       "        vertical-align: top;\n",
       "    }\n",
       "\n",
       "    .dataframe thead th {\n",
       "        text-align: right;\n",
       "    }\n",
       "</style>\n",
       "<table border=\"1\" class=\"dataframe\">\n",
       "  <thead>\n",
       "    <tr style=\"text-align: right;\">\n",
       "      <th></th>\n",
       "      <th>x</th>\n",
       "      <th>y_act</th>\n",
       "      <th>y_pred</th>\n",
       "    </tr>\n",
       "  </thead>\n",
       "  <tbody>\n",
       "    <tr>\n",
       "      <th>0</th>\n",
       "      <td>2.270379</td>\n",
       "      <td>18.707221</td>\n",
       "      <td>17.902987</td>\n",
       "    </tr>\n",
       "    <tr>\n",
       "      <th>1</th>\n",
       "      <td>3.733928</td>\n",
       "      <td>20.716494</td>\n",
       "      <td>21.708213</td>\n",
       "    </tr>\n",
       "    <tr>\n",
       "      <th>2</th>\n",
       "      <td>0.199237</td>\n",
       "      <td>12.806097</td>\n",
       "      <td>12.518016</td>\n",
       "    </tr>\n",
       "    <tr>\n",
       "      <th>3</th>\n",
       "      <td>6.099902</td>\n",
       "      <td>27.560202</td>\n",
       "      <td>27.859745</td>\n",
       "    </tr>\n",
       "    <tr>\n",
       "      <th>4</th>\n",
       "      <td>-2.653040</td>\n",
       "      <td>5.910060</td>\n",
       "      <td>5.102097</td>\n",
       "    </tr>\n",
       "  </tbody>\n",
       "</table>\n",
       "</div>"
      ],
      "text/plain": [
       "          x      y_act     y_pred\n",
       "0  2.270379  18.707221  17.902987\n",
       "1  3.733928  20.716494  21.708213\n",
       "2  0.199237  12.806097  12.518016\n",
       "3  6.099902  27.560202  27.859745\n",
       "4 -2.653040   5.910060   5.102097"
      ]
     },
     "execution_count": 8,
     "metadata": {},
     "output_type": "execute_result"
    }
   ],
   "source": [
    "data.head()"
   ]
  },
  {
   "cell_type": "code",
   "execution_count": 9,
   "id": "95b6a5c8-bc7f-4515-af26-00ee848ba104",
   "metadata": {},
   "outputs": [],
   "source": [
    "y_mean = [np.mean(data['y_act']) for i in range(1, len(x_list) + 1)]"
   ]
  },
  {
   "cell_type": "code",
   "execution_count": 10,
   "id": "6cd2a011-3ad7-4d2b-a244-6b93a8033e7f",
   "metadata": {},
   "outputs": [
    {
     "data": {
      "image/png": "[encoded data removed]",
      "text/plain": [
       "<Figure size 432x288 with 1 Axes>"
      ]
     },
     "metadata": {
      "needs_background": "light"
     },
     "output_type": "display_data"
    }
   ],
   "source": [
    "plt.plot(data['x'], data['y_pred'])\n",
    "plt.plot(data['x'],data['y_act'], 'ro')\n",
    "plt.plot(data['x'], y_mean, 'g') # promedio de todas las y\n",
    "plt.title('Valor Actual vs Predicción')\n",
    "plt.show()"
   ]
  },
  {
   "cell_type": "markdown",
   "id": "f9722690-fd81-4903-8741-c846545098a0",
   "metadata": {},
   "source": [
    "### ¿Cómo es la predicción de buena?\n",
    "* SST = SSD + SSR\n",
    "* SST : Variabilidad de los datos respecto a su media\n",
    "* SSD : Diferencia entre los datos originales y las predicciones que el modelo no es capaz de explicar (errores que deberían seguir una distribución normal)\n",
    "* SSR : Diferencia entre la regresión y el valor medio que el modelo busca explicar\n",
    "* R2 = SSR/SST, coeficiente de determinación entre 0 y 1"
   ]
  },
  {
   "cell_type": "code",
   "execution_count": 11,
   "id": "7a9f838c-5181-4be8-abc5-445fd714f76d",
   "metadata": {},
   "outputs": [],
   "source": [
    "data['SSR'] = (data['y_pred'] - np.mean(data['y_act']))**2\n",
    "data['SSD'] = (data['y_pred'] - data['y_act'])**2\n",
    "data['SST'] = (data['y_act'] - np.mean(data['y_act']))**2"
   ]
  },
  {
   "cell_type": "code",
   "execution_count": 12,
   "id": "e2f49b14-376f-431c-aed6-a07ef61bb337",
   "metadata": {},
   "outputs": [
    {
     "data": {
      "text/html": [
       "<div>\n",
       "<style scoped>\n",
       "    .dataframe tbody tr th:only-of-type {\n",
       "        vertical-align: middle;\n",
       "    }\n",
       "\n",
       "    .dataframe tbody tr th {\n",
       "        vertical-align: top;\n",
       "    }\n",
       "\n",
       "    .dataframe thead th {\n",
       "        text-align: right;\n",
       "    }\n",
       "</style>\n",
       "<table border=\"1\" class=\"dataframe\">\n",
       "  <thead>\n",
       "    <tr style=\"text-align: right;\">\n",
       "      <th></th>\n",
       "      <th>x</th>\n",
       "      <th>y_act</th>\n",
       "      <th>y_pred</th>\n",
       "      <th>SSR</th>\n",
       "      <th>SSD</th>\n",
       "      <th>SST</th>\n",
       "    </tr>\n",
       "  </thead>\n",
       "  <tbody>\n",
       "    <tr>\n",
       "      <th>0</th>\n",
       "      <td>2.270379</td>\n",
       "      <td>18.707221</td>\n",
       "      <td>17.902987</td>\n",
       "      <td>5.734564</td>\n",
       "      <td>0.646793</td>\n",
       "      <td>10.233148</td>\n",
       "    </tr>\n",
       "    <tr>\n",
       "      <th>1</th>\n",
       "      <td>3.733928</td>\n",
       "      <td>20.716494</td>\n",
       "      <td>21.708213</td>\n",
       "      <td>38.439024</td>\n",
       "      <td>0.983506</td>\n",
       "      <td>27.125376</td>\n",
       "    </tr>\n",
       "    <tr>\n",
       "      <th>2</th>\n",
       "      <td>0.199237</td>\n",
       "      <td>12.806097</td>\n",
       "      <td>12.518016</td>\n",
       "      <td>8.941751</td>\n",
       "      <td>0.082991</td>\n",
       "      <td>7.301856</td>\n",
       "    </tr>\n",
       "    <tr>\n",
       "      <th>3</th>\n",
       "      <td>6.099902</td>\n",
       "      <td>27.560202</td>\n",
       "      <td>27.859745</td>\n",
       "      <td>152.558397</td>\n",
       "      <td>0.089726</td>\n",
       "      <td>145.248541</td>\n",
       "    </tr>\n",
       "    <tr>\n",
       "      <th>4</th>\n",
       "      <td>-2.653040</td>\n",
       "      <td>5.910060</td>\n",
       "      <td>5.102097</td>\n",
       "      <td>108.288883</td>\n",
       "      <td>0.652805</td>\n",
       "      <td>92.126044</td>\n",
       "    </tr>\n",
       "  </tbody>\n",
       "</table>\n",
       "</div>"
      ],
      "text/plain": [
       "          x      y_act     y_pred         SSR       SSD         SST\n",
       "0  2.270379  18.707221  17.902987    5.734564  0.646793   10.233148\n",
       "1  3.733928  20.716494  21.708213   38.439024  0.983506   27.125376\n",
       "2  0.199237  12.806097  12.518016    8.941751  0.082991    7.301856\n",
       "3  6.099902  27.560202  27.859745  152.558397  0.089726  145.248541\n",
       "4 -2.653040   5.910060   5.102097  108.288883  0.652805   92.126044"
      ]
     },
     "execution_count": 12,
     "metadata": {},
     "output_type": "execute_result"
    }
   ],
   "source": [
    "data.head()"
   ]
  },
  {
   "cell_type": "code",
   "execution_count": 13,
   "id": "5de26dde-fdf8-4805-b1d3-9b3e758ea34d",
   "metadata": {},
   "outputs": [],
   "source": [
    "SSR = sum(data['SSR'])\n",
    "SST = sum(data['SST'])\n",
    "SSD = SST - SSR"
   ]
  },
  {
   "cell_type": "code",
   "execution_count": 14,
   "id": "ca70d9b9-6245-467b-b6b1-b462be8ff180",
   "metadata": {},
   "outputs": [
    {
     "data": {
      "text/plain": [
       "3500.77040367913"
      ]
     },
     "execution_count": 14,
     "metadata": {},
     "output_type": "execute_result"
    }
   ],
   "source": [
    "SSR"
   ]
  },
  {
   "cell_type": "code",
   "execution_count": 15,
   "id": "a80278f9-42f1-4fa4-81fd-09bb996943a3",
   "metadata": {},
   "outputs": [
    {
     "data": {
      "text/plain": [
       "34.95887257784534"
      ]
     },
     "execution_count": 15,
     "metadata": {},
     "output_type": "execute_result"
    }
   ],
   "source": [
    "SSD"
   ]
  },
  {
   "cell_type": "code",
   "execution_count": 16,
   "id": "33e17aef-878f-4205-85c8-5da657b02f1a",
   "metadata": {},
   "outputs": [
    {
     "data": {
      "text/plain": [
       "3535.7292762569755"
      ]
     },
     "execution_count": 16,
     "metadata": {},
     "output_type": "execute_result"
    }
   ],
   "source": [
    "SST"
   ]
  },
  {
   "cell_type": "code",
   "execution_count": 17,
   "id": "390bf399-9d59-4333-9020-7b5d034ca248",
   "metadata": {},
   "outputs": [
    {
     "data": {
      "text/plain": [
       "0.9901126840189377"
      ]
     },
     "execution_count": 17,
     "metadata": {},
     "output_type": "execute_result"
    }
   ],
   "source": [
    "R2 = SSR/SST\n",
    "R2"
   ]
  },
  {
   "cell_type": "code",
   "execution_count": 18,
   "id": "d5df1855-da71-4568-93a6-51977d1be7a4",
   "metadata": {},
   "outputs": [
    {
     "data": {
      "image/png": "[encoded data removed]",
      "text/plain": [
       "<Figure size 432x288 with 1 Axes>"
      ]
     },
     "metadata": {
      "needs_background": "light"
     },
     "output_type": "display_data"
    }
   ],
   "source": [
    "plt.hist(data['y_pred'] - data['y_act'])\n",
    "plt.show()"
   ]
  },
  {
   "cell_type": "markdown",
   "id": "223596f2-262b-423c-b052-1ece63a68484",
   "metadata": {},
   "source": [
    "### Obteniendo la recta de regresión\n",
    "\n",
    "* y = a + b * x\n",
    "* b = sum((xi - x_m) * (y_i-y_m)) / sum((xi-x_m)^2)\n",
    "* a = y_m - b * x_m"
   ]
  },
  {
   "cell_type": "code",
   "execution_count": 19,
   "id": "a60e15f9-5257-4a74-8427-9bca110ac5d6",
   "metadata": {},
   "outputs": [
    {
     "data": {
      "text/plain": [
       "(1.2957416438658165, 15.508291654367076)"
      ]
     },
     "execution_count": 19,
     "metadata": {},
     "output_type": "execute_result"
    }
   ],
   "source": [
    "x_mean = np.mean(data['x'])\n",
    "y_mean = np.mean(data['y_act'])\n",
    "x_mean, y_mean"
   ]
  },
  {
   "cell_type": "code",
   "execution_count": 20,
   "id": "557dde90-386a-48a4-beaf-ce1adfc50d25",
   "metadata": {},
   "outputs": [],
   "source": [
    "data['beta_n'] = (data['x'] - x_mean) * (data['y_act'] - y_mean)\n",
    "data['beta_d'] = (data['x'] - x_mean)**2"
   ]
  },
  {
   "cell_type": "code",
   "execution_count": 21,
   "id": "5fcf8537-9cb8-45d5-a1b0-034bda4a3863",
   "metadata": {},
   "outputs": [],
   "source": [
    "beta = sum(data['beta_n'])/sum(data['beta_d'])"
   ]
  },
  {
   "cell_type": "code",
   "execution_count": 22,
   "id": "6841e396-ee03-42c0-ab8e-1d98f9244303",
   "metadata": {},
   "outputs": [],
   "source": [
    "alpha = y_mean - beta * x_mean"
   ]
  },
  {
   "cell_type": "code",
   "execution_count": 23,
   "id": "e151681a-7dce-4960-8abd-2a3b556ee1c1",
   "metadata": {},
   "outputs": [
    {
     "data": {
      "text/plain": [
       "(12.149658733456537, 2.5920544707432045)"
      ]
     },
     "execution_count": 23,
     "metadata": {},
     "output_type": "execute_result"
    }
   ],
   "source": [
    "alpha, beta"
   ]
  },
  {
   "cell_type": "markdown",
   "id": "9798ca87-18f2-40ca-9aea-8f9bfefea075",
   "metadata": {},
   "source": [
    "Modelo lineal obtenido por regresión es: y = 11.968324559330153 + 2.564485452904129 * x"
   ]
  },
  {
   "cell_type": "code",
   "execution_count": 24,
   "id": "a9f45362-6695-4aa1-b5e2-91fb4b7561af",
   "metadata": {},
   "outputs": [],
   "source": [
    "data['y_model'] = alpha + beta * data['x']"
   ]
  },
  {
   "cell_type": "code",
   "execution_count": 25,
   "id": "e5d3d891-2b99-4e7a-a991-f0d466389880",
   "metadata": {},
   "outputs": [
    {
     "data": {
      "text/html": [
       "<div>\n",
       "<style scoped>\n",
       "    .dataframe tbody tr th:only-of-type {\n",
       "        vertical-align: middle;\n",
       "    }\n",
       "\n",
       "    .dataframe tbody tr th {\n",
       "        vertical-align: top;\n",
       "    }\n",
       "\n",
       "    .dataframe thead th {\n",
       "        text-align: right;\n",
       "    }\n",
       "</style>\n",
       "<table border=\"1\" class=\"dataframe\">\n",
       "  <thead>\n",
       "    <tr style=\"text-align: right;\">\n",
       "      <th></th>\n",
       "      <th>x</th>\n",
       "      <th>y_act</th>\n",
       "      <th>y_pred</th>\n",
       "      <th>SSR</th>\n",
       "      <th>SSD</th>\n",
       "      <th>SST</th>\n",
       "      <th>beta_n</th>\n",
       "      <th>beta_d</th>\n",
       "      <th>y_model</th>\n",
       "    </tr>\n",
       "  </thead>\n",
       "  <tbody>\n",
       "    <tr>\n",
       "      <th>0</th>\n",
       "      <td>2.270379</td>\n",
       "      <td>18.707221</td>\n",
       "      <td>17.902987</td>\n",
       "      <td>5.734564</td>\n",
       "      <td>0.646793</td>\n",
       "      <td>10.233148</td>\n",
       "      <td>3.117797</td>\n",
       "      <td>0.949919</td>\n",
       "      <td>18.034606</td>\n",
       "    </tr>\n",
       "    <tr>\n",
       "      <th>1</th>\n",
       "      <td>3.733928</td>\n",
       "      <td>20.716494</td>\n",
       "      <td>21.708213</td>\n",
       "      <td>38.439024</td>\n",
       "      <td>0.983506</td>\n",
       "      <td>27.125376</td>\n",
       "      <td>12.698569</td>\n",
       "      <td>5.944753</td>\n",
       "      <td>21.828204</td>\n",
       "    </tr>\n",
       "    <tr>\n",
       "      <th>2</th>\n",
       "      <td>0.199237</td>\n",
       "      <td>12.806097</td>\n",
       "      <td>12.518016</td>\n",
       "      <td>8.941751</td>\n",
       "      <td>0.082991</td>\n",
       "      <td>7.301856</td>\n",
       "      <td>2.962970</td>\n",
       "      <td>1.202323</td>\n",
       "      <td>12.666091</td>\n",
       "    </tr>\n",
       "    <tr>\n",
       "      <th>3</th>\n",
       "      <td>6.099902</td>\n",
       "      <td>27.560202</td>\n",
       "      <td>27.859745</td>\n",
       "      <td>152.558397</td>\n",
       "      <td>0.089726</td>\n",
       "      <td>145.248541</td>\n",
       "      <td>57.899308</td>\n",
       "      <td>23.079956</td>\n",
       "      <td>27.960937</td>\n",
       "    </tr>\n",
       "    <tr>\n",
       "      <th>4</th>\n",
       "      <td>-2.653040</td>\n",
       "      <td>5.910060</td>\n",
       "      <td>5.102097</td>\n",
       "      <td>108.288883</td>\n",
       "      <td>0.652805</td>\n",
       "      <td>92.126044</td>\n",
       "      <td>37.901315</td>\n",
       "      <td>15.592873</td>\n",
       "      <td>5.272836</td>\n",
       "    </tr>\n",
       "  </tbody>\n",
       "</table>\n",
       "</div>"
      ],
      "text/plain": [
       "          x      y_act     y_pred         SSR       SSD         SST  \\\n",
       "0  2.270379  18.707221  17.902987    5.734564  0.646793   10.233148   \n",
       "1  3.733928  20.716494  21.708213   38.439024  0.983506   27.125376   \n",
       "2  0.199237  12.806097  12.518016    8.941751  0.082991    7.301856   \n",
       "3  6.099902  27.560202  27.859745  152.558397  0.089726  145.248541   \n",
       "4 -2.653040   5.910060   5.102097  108.288883  0.652805   92.126044   \n",
       "\n",
       "      beta_n     beta_d    y_model  \n",
       "0   3.117797   0.949919  18.034606  \n",
       "1  12.698569   5.944753  21.828204  \n",
       "2   2.962970   1.202323  12.666091  \n",
       "3  57.899308  23.079956  27.960937  \n",
       "4  37.901315  15.592873   5.272836  "
      ]
     },
     "execution_count": 25,
     "metadata": {},
     "output_type": "execute_result"
    }
   ],
   "source": [
    "data.head()"
   ]
  },
  {
   "cell_type": "code",
   "execution_count": 26,
   "id": "021d2248-529b-44f8-bcc8-fd6c1fb45ef4",
   "metadata": {},
   "outputs": [],
   "source": [
    "SSR = sum((data['y_model'] - np.mean(data['y_act']))**2)\n",
    "SSD = sum((data['y_model'] - data['y_act'])**2)\n",
    "SST = sum((data['y_act'] - np.mean(data['y_act']))**2)"
   ]
  },
  {
   "cell_type": "code",
   "execution_count": 27,
   "id": "44e37d8e-90c6-4b41-b3b7-9644349f8889",
   "metadata": {},
   "outputs": [
    {
     "data": {
      "text/plain": [
       "(3477.4762164628437, 58.253059794133115, 3535.7292762569755)"
      ]
     },
     "execution_count": 27,
     "metadata": {},
     "output_type": "execute_result"
    }
   ],
   "source": [
    "SSR, SSD, SST"
   ]
  },
  {
   "cell_type": "code",
   "execution_count": 28,
   "id": "f8d0278e-c33e-4097-bc0a-0608874a91d3",
   "metadata": {},
   "outputs": [
    {
     "data": {
      "text/plain": [
       "0.9835244569811068"
      ]
     },
     "execution_count": 28,
     "metadata": {},
     "output_type": "execute_result"
    }
   ],
   "source": [
    "R2 = SSR / SST\n",
    "R2"
   ]
  },
  {
   "cell_type": "code",
   "execution_count": 29,
   "id": "6ed69b10-151d-4245-94d9-f87b19bc82a6",
   "metadata": {},
   "outputs": [
    {
     "data": {
      "image/png": "[encoded data removed]",
      "text/plain": [
       "<Figure size 432x288 with 1 Axes>"
      ]
     },
     "metadata": {
      "needs_background": "light"
     },
     "output_type": "display_data"
    }
   ],
   "source": [
    "y_mean = [np.mean(data['y_act']) for i in range(1, len(x_list) + 1)]\n",
    "\n",
    "plt.plot(data['x'], data['y_pred'])\n",
    "plt.plot(data['x'],data['y_act'], 'ro')\n",
    "plt.plot(data['x'], y_mean, 'g') # promedio de todas las y\n",
    "plt.plot(data['x'], data['y_model'])\n",
    "plt.title('Valor Actual vs Predicción')\n",
    "plt.show()"
   ]
  },
  {
   "cell_type": "markdown",
   "id": "90201f90-f0ba-4f12-b91a-99ff00f69795",
   "metadata": {},
   "source": [
    "### Error estándar de los residuos (RSE)"
   ]
  },
  {
   "cell_type": "code",
   "execution_count": 30,
   "id": "397e5629-2c21-4ddb-8a6a-1b2d49993ba1",
   "metadata": {},
   "outputs": [
    {
     "data": {
      "text/plain": [
       "0.7709857180850721"
      ]
     },
     "execution_count": 30,
     "metadata": {},
     "output_type": "execute_result"
    }
   ],
   "source": [
    "RSE = np.sqrt(SSD/(len(data) - 2))\n",
    "RSE"
   ]
  },
  {
   "cell_type": "code",
   "execution_count": 31,
   "id": "068de76e-e23a-402a-8218-ff5406011dc1",
   "metadata": {},
   "outputs": [
    {
     "data": {
      "text/plain": [
       "15.508291654367076"
      ]
     },
     "execution_count": 31,
     "metadata": {},
     "output_type": "execute_result"
    }
   ],
   "source": [
    "np.mean(data['y_act'])"
   ]
  },
  {
   "cell_type": "code",
   "execution_count": 32,
   "id": "03d79c98-a556-4b9a-b411-4e0bc89d1605",
   "metadata": {},
   "outputs": [
    {
     "name": "stdout",
     "output_type": "stream",
     "text": [
      "El error es del: 4.97% \n"
     ]
    }
   ],
   "source": [
    "print('El error es del: {}% '.format(round(((RSE / np.mean(data['y_act']))*100), 2)))"
   ]
  }
 ],
 "metadata": {
  "kernelspec": {
   "display_name": "Python 3 (ipykernel)",
   "language": "python",
   "name": "python3"
  },
  "language_info": {
   "codemirror_mode": {
    "name": "ipython",
    "version": 3
   },
   "file_extension": ".py",
   "mimetype": "text/x-python",
   "name": "python",
   "nbconvert_exporter": "python",
   "pygments_lexer": "ipython3",
   "version": "3.7.13"
  }
 },
 "nbformat": 4,
 "nbformat_minor": 5
}
