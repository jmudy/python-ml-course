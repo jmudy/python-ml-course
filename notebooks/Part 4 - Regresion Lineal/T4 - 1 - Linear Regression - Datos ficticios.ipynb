{
 "cells": [
  {
   "cell_type": "markdown",
   "id": "0882a551-adfa-45e9-b633-3a66e6023dbc",
   "metadata": {},
   "source": [
    "# Modelos de Regresión Lineal"
   ]
  },
  {
   "cell_type": "markdown",
   "id": "9003e0ff-2de8-480c-8648-151181685971",
   "metadata": {},
   "source": [
    "## Modelo con datos simulados"
   ]
  },
  {
   "cell_type": "markdown",
   "id": "2098c80f-d1aa-4b87-ae85-ce8b88ef0ecf",
   "metadata": {},
   "source": [
    "* y = a + b * x\n",
    "* X : 100 valores distribuidos según una N(1.5, 2.5)\n",
    "* Ye = 12 + 2.6 * x + e$\n",
    "* e estará distribuida según una N(0, 0.8)"
   ]
  },
  {
   "cell_type": "code",
   "execution_count": 1,
   "id": "7e8c0620-16f1-4f64-8f50-0c2dd3f014d5",
   "metadata": {},
   "outputs": [],
   "source": [
    "import pandas as pd\n",
    "import numpy as np\n",
    "import matplotlib.pyplot as plt"
   ]
  },
  {
   "cell_type": "code",
   "execution_count": 2,
   "id": "6fb292e3-832e-42b8-9037-601c1690c91f",
   "metadata": {},
   "outputs": [],
   "source": [
    "x = 1.5 + 2.5 * np.random.randn(100)"
   ]
  },
  {
   "cell_type": "code",
   "execution_count": 3,
   "id": "f6cc588b-6414-44d4-98ad-e88fb83aea36",
   "metadata": {},
   "outputs": [],
   "source": [
    "res = 0 + 0.8 * np.random.randn(100)"
   ]
  },
  {
   "cell_type": "code",
   "execution_count": 4,
   "id": "b95ca618-4d33-4f37-9614-a16a9fba7253",
   "metadata": {},
   "outputs": [],
   "source": [
    "y_pred = 12 + 2.6 * x"
   ]
  },
  {
   "cell_type": "code",
   "execution_count": 5,
   "id": "5b5efc38-a32c-4bb3-b20e-165079a19475",
   "metadata": {},
   "outputs": [],
   "source": [
    "y_act = 12 + 2.6 * x + res"
   ]
  },
  {
   "cell_type": "code",
   "execution_count": 6,
   "id": "b112da15-4720-4693-9acd-74ffdda2301b",
   "metadata": {},
   "outputs": [],
   "source": [
    "x_list = x.tolist()\n",
    "y_pred_list = y_pred.tolist()\n",
    "y_act_list = y_act.tolist()"
   ]
  },
  {
   "cell_type": "code",
   "execution_count": 7,
   "id": "ca5f5537-224e-46fa-9c3d-33a7228b2f4b",
   "metadata": {},
   "outputs": [],
   "source": [
    "data = pd.DataFrame(\n",
    "    {\n",
    "        'x' : x_list,\n",
    "        'y_act' : y_act_list,\n",
    "        'y_pred' : y_pred_list\n",
    "    }\n",
    ")"
   ]
  },
  {
   "cell_type": "code",
   "execution_count": 8,
   "id": "c4a44f5d-ff5c-41c5-a7c1-97f20c6c5074",
   "metadata": {},
   "outputs": [
    {
     "data": {
      "text/html": [
       "<div>\n",
       "<style scoped>\n",
       "    .dataframe tbody tr th:only-of-type {\n",
       "        vertical-align: middle;\n",
       "    }\n",
       "\n",
       "    .dataframe tbody tr th {\n",
       "        vertical-align: top;\n",
       "    }\n",
       "\n",
       "    .dataframe thead th {\n",
       "        text-align: right;\n",
       "    }\n",
       "</style>\n",
       "<table border=\"1\" class=\"dataframe\">\n",
       "  <thead>\n",
       "    <tr style=\"text-align: right;\">\n",
       "      <th></th>\n",
       "      <th>x</th>\n",
       "      <th>y_act</th>\n",
       "      <th>y_pred</th>\n",
       "    </tr>\n",
       "  </thead>\n",
       "  <tbody>\n",
       "    <tr>\n",
       "      <th>0</th>\n",
       "      <td>3.949480</td>\n",
       "      <td>21.852077</td>\n",
       "      <td>22.268649</td>\n",
       "    </tr>\n",
       "    <tr>\n",
       "      <th>1</th>\n",
       "      <td>0.788902</td>\n",
       "      <td>14.335707</td>\n",
       "      <td>14.051145</td>\n",
       "    </tr>\n",
       "    <tr>\n",
       "      <th>2</th>\n",
       "      <td>4.760155</td>\n",
       "      <td>24.802369</td>\n",
       "      <td>24.376402</td>\n",
       "    </tr>\n",
       "    <tr>\n",
       "      <th>3</th>\n",
       "      <td>2.751641</td>\n",
       "      <td>19.865822</td>\n",
       "      <td>19.154265</td>\n",
       "    </tr>\n",
       "    <tr>\n",
       "      <th>4</th>\n",
       "      <td>9.085231</td>\n",
       "      <td>35.830204</td>\n",
       "      <td>35.621599</td>\n",
       "    </tr>\n",
       "  </tbody>\n",
       "</table>\n",
       "</div>"
      ],
      "text/plain": [
       "          x      y_act     y_pred\n",
       "0  3.949480  21.852077  22.268649\n",
       "1  0.788902  14.335707  14.051145\n",
       "2  4.760155  24.802369  24.376402\n",
       "3  2.751641  19.865822  19.154265\n",
       "4  9.085231  35.830204  35.621599"
      ]
     },
     "execution_count": 8,
     "metadata": {},
     "output_type": "execute_result"
    }
   ],
   "source": [
    "data.head()"
   ]
  },
  {
   "cell_type": "code",
   "execution_count": 9,
   "id": "95b6a5c8-bc7f-4515-af26-00ee848ba104",
   "metadata": {},
   "outputs": [],
   "source": [
    "y_mean = [np.mean(data['y_act']) for i in range(1, len(x_list) + 1)]"
   ]
  },
  {
   "cell_type": "code",
   "execution_count": 10,
   "id": "6cd2a011-3ad7-4d2b-a244-6b93a8033e7f",
   "metadata": {},
   "outputs": [
    {
     "data": {
      "image/png": "[encoded data removed]",
      "text/plain": [
       "<Figure size 432x288 with 1 Axes>"
      ]
     },
     "metadata": {
      "needs_background": "light"
     },
     "output_type": "display_data"
    }
   ],
   "source": [
    "plt.plot(data['x'], data['y_pred'])\n",
    "plt.plot(data['x'],data['y_act'], 'ro')\n",
    "plt.plot(data['x'], y_mean, 'g') # promedio de todas las y\n",
    "plt.title('Valor Actual vs Predicción')\n",
    "plt.show()"
   ]
  },
  {
   "cell_type": "markdown",
   "id": "f9722690-fd81-4903-8741-c846545098a0",
   "metadata": {},
   "source": [
    "### ¿Cómo es la predicción de buena?\n",
    "* SST = SSD + SSR\n",
    "* SST : Variabilidad de los datos respecto a su media\n",
    "* SSD : Diferencia entre los datos originales y las predicciones que el modelo no es capaz de explicar (errores que deberían seguir una distribución normal)\n",
    "* SSR : Diferencia entre la regresión y el valor medio que el modelo busca explicar\n",
    "* R2 = SSR/SST, coeficiente de determinación entre 0 y 1"
   ]
  },
  {
   "cell_type": "code",
   "execution_count": 11,
   "id": "7a9f838c-5181-4be8-abc5-445fd714f76d",
   "metadata": {},
   "outputs": [],
   "source": [
    "data['SSR'] = (data['y_pred'] - np.mean(data['y_act']))**2\n",
    "data['SSD'] = (data['y_pred'] - data['y_act'])**2\n",
    "data['SST'] = (data['y_act'] - np.mean(data['y_act']))**2"
   ]
  },
  {
   "cell_type": "code",
   "execution_count": 12,
   "id": "e2f49b14-376f-431c-aed6-a07ef61bb337",
   "metadata": {},
   "outputs": [
    {
     "data": {
      "text/html": [
       "<div>\n",
       "<style scoped>\n",
       "    .dataframe tbody tr th:only-of-type {\n",
       "        vertical-align: middle;\n",
       "    }\n",
       "\n",
       "    .dataframe tbody tr th {\n",
       "        vertical-align: top;\n",
       "    }\n",
       "\n",
       "    .dataframe thead th {\n",
       "        text-align: right;\n",
       "    }\n",
       "</style>\n",
       "<table border=\"1\" class=\"dataframe\">\n",
       "  <thead>\n",
       "    <tr style=\"text-align: right;\">\n",
       "      <th></th>\n",
       "      <th>x</th>\n",
       "      <th>y_act</th>\n",
       "      <th>y_pred</th>\n",
       "      <th>SSR</th>\n",
       "      <th>SSD</th>\n",
       "      <th>SST</th>\n",
       "    </tr>\n",
       "  </thead>\n",
       "  <tbody>\n",
       "    <tr>\n",
       "      <th>0</th>\n",
       "      <td>3.949480</td>\n",
       "      <td>21.852077</td>\n",
       "      <td>22.268649</td>\n",
       "      <td>33.174495</td>\n",
       "      <td>0.173532</td>\n",
       "      <td>28.549346</td>\n",
       "    </tr>\n",
       "    <tr>\n",
       "      <th>1</th>\n",
       "      <td>0.788902</td>\n",
       "      <td>14.335707</td>\n",
       "      <td>14.051145</td>\n",
       "      <td>6.040649</td>\n",
       "      <td>0.080975</td>\n",
       "      <td>4.722847</td>\n",
       "    </tr>\n",
       "    <tr>\n",
       "      <th>2</th>\n",
       "      <td>4.760155</td>\n",
       "      <td>24.802369</td>\n",
       "      <td>24.376402</td>\n",
       "      <td>61.897309</td>\n",
       "      <td>0.181448</td>\n",
       "      <td>68.781329</td>\n",
       "    </tr>\n",
       "    <tr>\n",
       "      <th>3</th>\n",
       "      <td>2.751641</td>\n",
       "      <td>19.865822</td>\n",
       "      <td>19.154265</td>\n",
       "      <td>6.997863</td>\n",
       "      <td>0.506312</td>\n",
       "      <td>11.268802</td>\n",
       "    </tr>\n",
       "    <tr>\n",
       "      <th>4</th>\n",
       "      <td>9.085231</td>\n",
       "      <td>35.830204</td>\n",
       "      <td>35.621599</td>\n",
       "      <td>365.294584</td>\n",
       "      <td>0.043516</td>\n",
       "      <td>373.312092</td>\n",
       "    </tr>\n",
       "  </tbody>\n",
       "</table>\n",
       "</div>"
      ],
      "text/plain": [
       "          x      y_act     y_pred         SSR       SSD         SST\n",
       "0  3.949480  21.852077  22.268649   33.174495  0.173532   28.549346\n",
       "1  0.788902  14.335707  14.051145    6.040649  0.080975    4.722847\n",
       "2  4.760155  24.802369  24.376402   61.897309  0.181448   68.781329\n",
       "3  2.751641  19.865822  19.154265    6.997863  0.506312   11.268802\n",
       "4  9.085231  35.830204  35.621599  365.294584  0.043516  373.312092"
      ]
     },
     "execution_count": 12,
     "metadata": {},
     "output_type": "execute_result"
    }
   ],
   "source": [
    "data.head()"
   ]
  },
  {
   "cell_type": "code",
   "execution_count": 13,
   "id": "5de26dde-fdf8-4805-b1d3-9b3e758ea34d",
   "metadata": {},
   "outputs": [],
   "source": [
    "SSR = sum(data['SSR'])\n",
    "SST = sum(data['SST'])\n",
    "SSD = SST - SSR"
   ]
  },
  {
   "cell_type": "code",
   "execution_count": 14,
   "id": "ca70d9b9-6245-467b-b6b1-b462be8ff180",
   "metadata": {},
   "outputs": [
    {
     "data": {
      "text/plain": [
       "4054.916635781973"
      ]
     },
     "execution_count": 14,
     "metadata": {},
     "output_type": "execute_result"
    }
   ],
   "source": [
    "SSR"
   ]
  },
  {
   "cell_type": "code",
   "execution_count": 15,
   "id": "a80278f9-42f1-4fa4-81fd-09bb996943a3",
   "metadata": {},
   "outputs": [
    {
     "data": {
      "text/plain": [
       "187.53328749867342"
      ]
     },
     "execution_count": 15,
     "metadata": {},
     "output_type": "execute_result"
    }
   ],
   "source": [
    "SSD"
   ]
  },
  {
   "cell_type": "code",
   "execution_count": 16,
   "id": "33e17aef-878f-4205-85c8-5da657b02f1a",
   "metadata": {},
   "outputs": [
    {
     "data": {
      "text/plain": [
       "4242.4499232806465"
      ]
     },
     "execution_count": 16,
     "metadata": {},
     "output_type": "execute_result"
    }
   ],
   "source": [
    "SST"
   ]
  },
  {
   "cell_type": "code",
   "execution_count": 17,
   "id": "390bf399-9d59-4333-9020-7b5d034ca248",
   "metadata": {},
   "outputs": [
    {
     "data": {
      "text/plain": [
       "0.9557959926716929"
      ]
     },
     "execution_count": 17,
     "metadata": {},
     "output_type": "execute_result"
    }
   ],
   "source": [
    "R2 = SSR/SST\n",
    "R2"
   ]
  },
  {
   "cell_type": "code",
   "execution_count": 18,
   "id": "d5df1855-da71-4568-93a6-51977d1be7a4",
   "metadata": {},
   "outputs": [
    {
     "data": {
      "image/png": "[encoded data removed]",
      "text/plain": [
       "<Figure size 432x288 with 1 Axes>"
      ]
     },
     "metadata": {
      "needs_background": "light"
     },
     "output_type": "display_data"
    }
   ],
   "source": [
    "plt.hist(data['y_pred'] - data['y_act'])\n",
    "plt.show()"
   ]
  },
  {
   "cell_type": "markdown",
   "id": "223596f2-262b-423c-b052-1ece63a68484",
   "metadata": {},
   "source": [
    "### Obteniendo la recta de regresión\n",
    "\n",
    "* y = a + b * x\n",
    "* b = sum((xi - x_m) * (y_i-y_m)) / sum((xi-x_m)^2)\n",
    "* a = y_m - b * x_m"
   ]
  },
  {
   "cell_type": "code",
   "execution_count": 19,
   "id": "a60e15f9-5257-4a74-8427-9bca110ac5d6",
   "metadata": {},
   "outputs": [
    {
     "data": {
      "text/plain": [
       "(1.7298453275728678, 16.50891811336413)"
      ]
     },
     "execution_count": 19,
     "metadata": {},
     "output_type": "execute_result"
    }
   ],
   "source": [
    "x_mean = np.mean(data['x'])\n",
    "y_mean = np.mean(data['y_act'])\n",
    "x_mean, y_mean"
   ]
  },
  {
   "cell_type": "code",
   "execution_count": 20,
   "id": "557dde90-386a-48a4-beaf-ce1adfc50d25",
   "metadata": {},
   "outputs": [],
   "source": [
    "data['beta_n'] = (data['x'] - x_mean) * (data['y_act'] - y_mean)\n",
    "data['beta_d'] = (data['x'] - x_mean)**2"
   ]
  },
  {
   "cell_type": "code",
   "execution_count": 21,
   "id": "5fcf8537-9cb8-45d5-a1b0-034bda4a3863",
   "metadata": {},
   "outputs": [],
   "source": [
    "beta = sum(data['beta_n'])/sum(data['beta_d'])"
   ]
  },
  {
   "cell_type": "code",
   "execution_count": 22,
   "id": "6841e396-ee03-42c0-ab8e-1d98f9244303",
   "metadata": {},
   "outputs": [],
   "source": [
    "alpha = y_mean - beta * x_mean"
   ]
  },
  {
   "cell_type": "code",
   "execution_count": 23,
   "id": "e151681a-7dce-4960-8abd-2a3b556ee1c1",
   "metadata": {},
   "outputs": [
    {
     "data": {
      "text/plain": [
       "(11.944918976737789, 2.6383856775391883)"
      ]
     },
     "execution_count": 23,
     "metadata": {},
     "output_type": "execute_result"
    }
   ],
   "source": [
    "alpha, beta"
   ]
  },
  {
   "cell_type": "markdown",
   "id": "9798ca87-18f2-40ca-9aea-8f9bfefea075",
   "metadata": {},
   "source": [
    "Modelo lineal obtenido por regresión es: y = 11.968324559330153 + 2.564485452904129 * x"
   ]
  },
  {
   "cell_type": "code",
   "execution_count": 24,
   "id": "a9f45362-6695-4aa1-b5e2-91fb4b7561af",
   "metadata": {},
   "outputs": [],
   "source": [
    "data['y_model'] = alpha + beta * data['x']"
   ]
  },
  {
   "cell_type": "code",
   "execution_count": 25,
   "id": "e5d3d891-2b99-4e7a-a991-f0d466389880",
   "metadata": {},
   "outputs": [
    {
     "data": {
      "text/html": [
       "<div>\n",
       "<style scoped>\n",
       "    .dataframe tbody tr th:only-of-type {\n",
       "        vertical-align: middle;\n",
       "    }\n",
       "\n",
       "    .dataframe tbody tr th {\n",
       "        vertical-align: top;\n",
       "    }\n",
       "\n",
       "    .dataframe thead th {\n",
       "        text-align: right;\n",
       "    }\n",
       "</style>\n",
       "<table border=\"1\" class=\"dataframe\">\n",
       "  <thead>\n",
       "    <tr style=\"text-align: right;\">\n",
       "      <th></th>\n",
       "      <th>x</th>\n",
       "      <th>y_act</th>\n",
       "      <th>y_pred</th>\n",
       "      <th>SSR</th>\n",
       "      <th>SSD</th>\n",
       "      <th>SST</th>\n",
       "      <th>beta_n</th>\n",
       "      <th>beta_d</th>\n",
       "      <th>y_model</th>\n",
       "    </tr>\n",
       "  </thead>\n",
       "  <tbody>\n",
       "    <tr>\n",
       "      <th>0</th>\n",
       "      <td>3.949480</td>\n",
       "      <td>21.852077</td>\n",
       "      <td>22.268649</td>\n",
       "      <td>33.174495</td>\n",
       "      <td>0.173532</td>\n",
       "      <td>28.549346</td>\n",
       "      <td>11.859862</td>\n",
       "      <td>4.926779</td>\n",
       "      <td>22.365171</td>\n",
       "    </tr>\n",
       "    <tr>\n",
       "      <th>1</th>\n",
       "      <td>0.788902</td>\n",
       "      <td>14.335707</td>\n",
       "      <td>14.051145</td>\n",
       "      <td>6.040649</td>\n",
       "      <td>0.080975</td>\n",
       "      <td>4.722847</td>\n",
       "      <td>2.044869</td>\n",
       "      <td>0.885375</td>\n",
       "      <td>14.026346</td>\n",
       "    </tr>\n",
       "    <tr>\n",
       "      <th>2</th>\n",
       "      <td>4.760155</td>\n",
       "      <td>24.802369</td>\n",
       "      <td>24.376402</td>\n",
       "      <td>61.897309</td>\n",
       "      <td>0.181448</td>\n",
       "      <td>68.781329</td>\n",
       "      <td>25.131723</td>\n",
       "      <td>9.182775</td>\n",
       "      <td>24.504043</td>\n",
       "    </tr>\n",
       "    <tr>\n",
       "      <th>3</th>\n",
       "      <td>2.751641</td>\n",
       "      <td>19.865822</td>\n",
       "      <td>19.154265</td>\n",
       "      <td>6.997863</td>\n",
       "      <td>0.506312</td>\n",
       "      <td>11.268802</td>\n",
       "      <td>3.430068</td>\n",
       "      <td>1.044066</td>\n",
       "      <td>19.204808</td>\n",
       "    </tr>\n",
       "    <tr>\n",
       "      <th>4</th>\n",
       "      <td>9.085231</td>\n",
       "      <td>35.830204</td>\n",
       "      <td>35.621599</td>\n",
       "      <td>365.294584</td>\n",
       "      <td>0.043516</td>\n",
       "      <td>373.312092</td>\n",
       "      <td>142.115501</td>\n",
       "      <td>54.101691</td>\n",
       "      <td>35.915261</td>\n",
       "    </tr>\n",
       "  </tbody>\n",
       "</table>\n",
       "</div>"
      ],
      "text/plain": [
       "          x      y_act     y_pred         SSR       SSD         SST  \\\n",
       "0  3.949480  21.852077  22.268649   33.174495  0.173532   28.549346   \n",
       "1  0.788902  14.335707  14.051145    6.040649  0.080975    4.722847   \n",
       "2  4.760155  24.802369  24.376402   61.897309  0.181448   68.781329   \n",
       "3  2.751641  19.865822  19.154265    6.997863  0.506312   11.268802   \n",
       "4  9.085231  35.830204  35.621599  365.294584  0.043516  373.312092   \n",
       "\n",
       "       beta_n     beta_d    y_model  \n",
       "0   11.859862   4.926779  22.365171  \n",
       "1    2.044869   0.885375  14.026346  \n",
       "2   25.131723   9.182775  24.504043  \n",
       "3    3.430068   1.044066  19.204808  \n",
       "4  142.115501  54.101691  35.915261  "
      ]
     },
     "execution_count": 25,
     "metadata": {},
     "output_type": "execute_result"
    }
   ],
   "source": [
    "data.head()"
   ]
  },
  {
   "cell_type": "code",
   "execution_count": 26,
   "id": "021d2248-529b-44f8-bcc8-fd6c1fb45ef4",
   "metadata": {},
   "outputs": [],
   "source": [
    "SSR = sum((data['y_model'] - np.mean(data['y_act']))**2)\n",
    "SSD = sum((data['y_model'] - data['y_act'])**2)\n",
    "SST = sum((data['y_act'] - np.mean(data['y_act']))**2)"
   ]
  },
  {
   "cell_type": "code",
   "execution_count": 27,
   "id": "44e37d8e-90c6-4b41-b3b7-9644349f8889",
   "metadata": {},
   "outputs": [
    {
     "data": {
      "text/plain": [
       "(4175.518604718677, 66.93131856197328, 4242.4499232806465)"
      ]
     },
     "execution_count": 27,
     "metadata": {},
     "output_type": "execute_result"
    }
   ],
   "source": [
    "SSR, SSD, SST"
   ]
  },
  {
   "cell_type": "code",
   "execution_count": 28,
   "id": "f8d0278e-c33e-4097-bc0a-0608874a91d3",
   "metadata": {},
   "outputs": [
    {
     "data": {
      "text/plain": [
       "0.9842234275542816"
      ]
     },
     "execution_count": 28,
     "metadata": {},
     "output_type": "execute_result"
    }
   ],
   "source": [
    "R2 = SSR / SST\n",
    "R2"
   ]
  },
  {
   "cell_type": "code",
   "execution_count": 29,
   "id": "6ed69b10-151d-4245-94d9-f87b19bc82a6",
   "metadata": {},
   "outputs": [
    {
     "data": {
      "image/png": "[encoded data removed]",
      "text/plain": [
       "<Figure size 432x288 with 1 Axes>"
      ]
     },
     "metadata": {
      "needs_background": "light"
     },
     "output_type": "display_data"
    }
   ],
   "source": [
    "y_mean = [np.mean(data['y_act']) for i in range(1, len(x_list) + 1)]\n",
    "\n",
    "plt.plot(data['x'], data['y_pred'])\n",
    "plt.plot(data['x'],data['y_act'], 'ro')\n",
    "plt.plot(data['x'], y_mean, 'g') # promedio de todas las y\n",
    "plt.plot(data['x'], data['y_model'])\n",
    "plt.title('Valor Actual vs Predicción')\n",
    "plt.show()"
   ]
  },
  {
   "cell_type": "markdown",
   "id": "90201f90-f0ba-4f12-b91a-99ff00f69795",
   "metadata": {},
   "source": [
    "### Error estándar de los residuos (RSE)"
   ]
  },
  {
   "cell_type": "code",
   "execution_count": 30,
   "id": "397e5629-2c21-4ddb-8a6a-1b2d49993ba1",
   "metadata": {},
   "outputs": [
    {
     "data": {
      "text/plain": [
       "0.8264215863513503"
      ]
     },
     "execution_count": 30,
     "metadata": {},
     "output_type": "execute_result"
    }
   ],
   "source": [
    "RSE = np.sqrt(SSD/(len(data) - 2))\n",
    "RSE"
   ]
  },
  {
   "cell_type": "code",
   "execution_count": 31,
   "id": "068de76e-e23a-402a-8218-ff5406011dc1",
   "metadata": {},
   "outputs": [
    {
     "data": {
      "text/plain": [
       "16.50891811336413"
      ]
     },
     "execution_count": 31,
     "metadata": {},
     "output_type": "execute_result"
    }
   ],
   "source": [
    "np.mean(data['y_act'])"
   ]
  },
  {
   "cell_type": "code",
   "execution_count": 32,
   "id": "03d79c98-a556-4b9a-b411-4e0bc89d1605",
   "metadata": {},
   "outputs": [
    {
     "name": "stdout",
     "output_type": "stream",
     "text": [
      "El error es del: 5.01% \n"
     ]
    }
   ],
   "source": [
    "print('El error es del: {}% '.format(round(((RSE / np.mean(data['y_act']))*100), 2)))"
   ]
  }
 ],
 "metadata": {
  "kernelspec": {
   "display_name": "Python 3 (ipykernel)",
   "language": "python",
   "name": "python3"
  },
  "language_info": {
   "codemirror_mode": {
    "name": "ipython",
    "version": 3
   },
   "file_extension": ".py",
   "mimetype": "text/x-python",
   "name": "python",
   "nbconvert_exporter": "python",
   "pygments_lexer": "ipython3",
   "version": "3.7.13"
  }
 },
 "nbformat": 4,
 "nbformat_minor": 5
}
