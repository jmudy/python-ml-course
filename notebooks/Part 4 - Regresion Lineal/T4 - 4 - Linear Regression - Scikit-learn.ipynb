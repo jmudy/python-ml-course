{
 "cells": [
  {
   "cell_type": "markdown",
   "id": "859975ad-f330-4115-a000-4797fe77ec22",
   "metadata": {},
   "source": [
    "# Regresión lineal en Python"
   ]
  },
  {
   "cell_type": "markdown",
   "id": "77437715-5a53-48b4-8fb1-145420eca7c6",
   "metadata": {},
   "source": [
    "## El paquete scikit-learn para regresión lineal y la selección de rasgos"
   ]
  },
  {
   "cell_type": "code",
   "execution_count": 1,
   "id": "ebe5624e-1170-44ba-85c4-35413c7052ae",
   "metadata": {},
   "outputs": [],
   "source": [
    "from sklearn.feature_selection import RFE\n",
    "from sklearn.svm import SVR\n",
    "import pandas as pd\n",
    "import numpy as np\n",
    "import os"
   ]
  },
  {
   "cell_type": "code",
   "execution_count": 2,
   "id": "0e5aa0a6-f65b-4e5d-8386-43a0a7226ffe",
   "metadata": {},
   "outputs": [],
   "source": [
    "mainpath = '../../datasets/'\n",
    "filename = 'ads/Advertising.csv'\n",
    "fullpath = os.path.join(mainpath, filename)\n",
    "\n",
    "data = pd.read_csv(fullpath)"
   ]
  },
  {
   "cell_type": "code",
   "execution_count": 3,
   "id": "4a63ec21-a1a4-4140-91e8-dfb100cf3753",
   "metadata": {},
   "outputs": [],
   "source": [
    "feature_cols = ['TV', 'Radio', 'Newspaper']"
   ]
  },
  {
   "cell_type": "code",
   "execution_count": 4,
   "id": "10f25457-4d2c-45e5-a89b-9050f9d82b9e",
   "metadata": {},
   "outputs": [],
   "source": [
    "X = data[feature_cols]\n",
    "Y = data['Sales']"
   ]
  },
  {
   "cell_type": "code",
   "execution_count": 5,
   "id": "af915a37-9f14-4210-bfa5-b9d9ed03cc21",
   "metadata": {},
   "outputs": [],
   "source": [
    "estimator = SVR(kernel = 'linear')\n",
    "selector = RFE(estimator, n_features_to_select = 2, step = 1)\n",
    "selector = selector.fit(X, Y)"
   ]
  },
  {
   "cell_type": "code",
   "execution_count": 6,
   "id": "c894a285-9025-495b-9a10-f4a97dabd976",
   "metadata": {},
   "outputs": [
    {
     "data": {
      "text/plain": [
       "array([ True,  True, False])"
      ]
     },
     "execution_count": 6,
     "metadata": {},
     "output_type": "execute_result"
    }
   ],
   "source": [
    "selector.support_ # Variables de X que han sido seleccionadas"
   ]
  },
  {
   "cell_type": "markdown",
   "id": "a10fe23f-065b-484f-a948-1351ae6ad3b5",
   "metadata": {},
   "source": [
    "Se ha descartado el Newspaper"
   ]
  },
  {
   "cell_type": "code",
   "execution_count": 7,
   "id": "eac111f5-6123-4de9-8bbf-bc21170ca046",
   "metadata": {},
   "outputs": [
    {
     "data": {
      "text/plain": [
       "array([1, 1, 2])"
      ]
     },
     "execution_count": 7,
     "metadata": {},
     "output_type": "execute_result"
    }
   ],
   "source": [
    "selector.ranking_"
   ]
  },
  {
   "cell_type": "code",
   "execution_count": 8,
   "id": "0e8665f3-864b-4352-b5cc-36b43c437af7",
   "metadata": {},
   "outputs": [],
   "source": [
    "X_pred = X[['TV', 'Radio']]"
   ]
  },
  {
   "cell_type": "code",
   "execution_count": 9,
   "id": "68b45189-c88e-4187-94f4-c8da94bef6d0",
   "metadata": {},
   "outputs": [],
   "source": [
    "from sklearn.linear_model import LinearRegression"
   ]
  },
  {
   "cell_type": "code",
   "execution_count": 10,
   "id": "6637ae36-5dee-455a-8d7f-d2da98370cf2",
   "metadata": {},
   "outputs": [
    {
     "data": {
      "text/plain": [
       "LinearRegression()"
      ]
     },
     "execution_count": 10,
     "metadata": {},
     "output_type": "execute_result"
    }
   ],
   "source": [
    "lm = LinearRegression()\n",
    "lm.fit(X_pred, Y)"
   ]
  },
  {
   "cell_type": "code",
   "execution_count": 11,
   "id": "1ddb0a25-987b-4e5d-9d5b-83945a3dc833",
   "metadata": {},
   "outputs": [
    {
     "data": {
      "text/plain": [
       "2.9210999124051362"
      ]
     },
     "execution_count": 11,
     "metadata": {},
     "output_type": "execute_result"
    }
   ],
   "source": [
    "lm.intercept_"
   ]
  },
  {
   "cell_type": "code",
   "execution_count": 12,
   "id": "901e8d45-18bb-42e8-9158-48767f35054e",
   "metadata": {},
   "outputs": [
    {
     "data": {
      "text/plain": [
       "array([0.04575482, 0.18799423])"
      ]
     },
     "execution_count": 12,
     "metadata": {},
     "output_type": "execute_result"
    }
   ],
   "source": [
    "lm.coef_"
   ]
  },
  {
   "cell_type": "code",
   "execution_count": 13,
   "id": "cce19914-ea75-4a67-9ae3-0ca3bd0ba5d0",
   "metadata": {},
   "outputs": [
    {
     "data": {
      "text/plain": [
       "0.8971942610828957"
      ]
     },
     "execution_count": 13,
     "metadata": {},
     "output_type": "execute_result"
    }
   ],
   "source": [
    "lm.score(X_pred, Y)"
   ]
  }
 ],
 "metadata": {
  "kernelspec": {
   "display_name": "Python 3 (ipykernel)",
   "language": "python",
   "name": "python3"
  },
  "language_info": {
   "codemirror_mode": {
    "name": "ipython",
    "version": 3
   },
   "file_extension": ".py",
   "mimetype": "text/x-python",
   "name": "python",
   "nbconvert_exporter": "python",
   "pygments_lexer": "ipython3",
   "version": "3.7.13"
  }
 },
 "nbformat": 4,
 "nbformat_minor": 5
}
